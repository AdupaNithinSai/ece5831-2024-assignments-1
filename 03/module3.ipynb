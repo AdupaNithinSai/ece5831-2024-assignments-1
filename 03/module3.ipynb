{
 "cells": [
  {
   "cell_type": "markdown",
   "metadata": {},
   "source": [
    "## __Logic Gate Implementation and Testing__\n",
    "\n",
    "This notebook demonstrates the implementation of basic logic gates using NumPy and tests the gates using the `logicgate` class defined in `logic_gate.py`."
   ]
  },
  {
   "cell_type": "markdown",
   "metadata": {},
   "source": [
    "__Introduction to Logic Gates__\n",
    "\n",
    "Logic gates are fundamental building blocks of digital circuits. Each gate takes two binary inputs (0 or 1) and produces a binary output based on the gate's logic.\n",
    "\n",
    "- AND Gate: Produces 1 only if both inputs are 1.\n",
    "- NAND Gate: Produces the negation of the AND gate (output 1 except when both inputs are 1).\n",
    "- OR Gate: Produces 1 if at least one input is 1.\n",
    "- NOR Gate: Produces the negation of the OR gate (output 1 only if both inputs are 0).\n",
    "- XOR Gate: Produces 1 if the inputs are different.\n",
    "\n",
    "Implement these gates using NumPy in the `logicgate` class and test them using the `module3.py` script."
   ]
  },
  {
   "cell_type": "markdown",
   "metadata": {},
   "source": [
    "#### __1. Importing the Class__\n",
    "Before testing, import the `logicgate` class from `logic_gate.py`. This class implements logic gates using NumPy's logical operations (`np.logical_and`, `np.logical_or`, etc.) which work on arrays of binary values."
   ]
  },
  {
   "cell_type": "markdown",
   "metadata": {},
   "source": [
    "```python\n",
    "from logic_gate import logicgate\n",
    "import numpy as n"
   ]
  },
  {
   "cell_type": "markdown",
   "metadata": {},
   "source": [
    "We will use arrays of binary values to simulate multiple inputs simultaneously."
   ]
  },
  {
   "cell_type": "markdown",
   "metadata": {},
   "source": [
    "#### __2. Understanding the logicgate Class__\n",
    "Let's break down how each logic gate is implemented.\n",
    "\n",
    "__2.1 AND Gate__\n",
    "\n",
    "The `and_gate` method computes the logical AND between two arrays. This means that for every corresponding element in `x1` and `x2`, it will return `1` if both are `1`, otherwise `0`.\n",
    "\n",
    "``` python\n",
    "# AND Gate Test\n",
    "x1 = np.array([0, 0, 1, 1])\n",
    "x2 = np.array([0, 1, 0, 1])\n",
    "logicgate.and_gate(x1, x2)\n",
    "```\n",
    "\n",
    "Explanation:\n",
    "The output is based on the truth table for the AND operation:\n",
    "\n",
    "``` makefile\n",
    "x1:  [0 0 1 1]\n",
    "x2:  [0 1 0 1]\n",
    "AND: [0 0 0 1]\n",
    "```"
   ]
  },
  {
   "cell_type": "markdown",
   "metadata": {},
   "source": [
    "__2.2 NAND Gate__\n",
    "\n",
    "The `nand_gate` method performs the negation of the AND operation. It returns `1` except when both inputs are `1`.\n",
    "\n",
    "```python\n",
    "# NAND Gate Test\n",
    "logicgate.nand_gate(x1, x2)\n",
    "```\n",
    "\n",
    "Explanation:\n",
    "This gate flips the result of the AND operation, producing the opposite result:\n",
    "\n",
    "```makefile\n",
    "NAND: [1 1 1 0]\n",
    "```"
   ]
  },
  {
   "cell_type": "markdown",
   "metadata": {},
   "source": [
    "__2.3 OR Gate__\n",
    "\n",
    "The `or_gate` method returns `1` if at least one of the inputs is `1`.\n",
    "\n",
    "```python\n",
    "# OR Gate Test\n",
    "logicgate.or_gate(x1, x2)\n",
    "```\n",
    "\n",
    "Explanation:\n",
    "\n",
    "```makefile\n",
    "OR: [0 1 1 1]\n",
    "```"
   ]
  },
  {
   "cell_type": "markdown",
   "metadata": {},
   "source": [
    "__2.4 NOR Gate__\n",
    "\n",
    "The `nor_gate` method returns the negation of the OR operation.\n",
    "\n",
    "```python\n",
    "# NOR Gate Test\n",
    "logicgate.nor_gate(x1, x2)\n",
    "```\n",
    "\n",
    "Explanation:\n",
    "\n",
    "```makefile\n",
    "NOR: [1 0 0 0]\n",
    "```"
   ]
  },
  {
   "cell_type": "markdown",
   "metadata": {},
   "source": [
    "__2.5 XOR Gate__\n",
    "\n",
    "The `xor_gate` method returns `1` if the inputs are different, otherwise `0`.\n",
    "\n",
    "```python\n",
    "# XOR Gate Test\n",
    "logicgate.xor_gate(x1, x2)\n",
    "```\n",
    "\n",
    "Explanation:\n",
    "\n",
    "```makefile\n",
    "XOR: [0 1 1 0]\n",
    "```"
   ]
  },
  {
   "cell_type": "markdown",
   "metadata": {},
   "source": [
    "#### __3. Testing All Gates Together__\n",
    "To test all logic gates, we will run the `test_logic_gates` function from `module3.py` that executes the logic gates on the arrays `x1` and `x2`.\n",
    "\n",
    "```python\n",
    "from module3 import test_logic_gates\n",
    "test_logic_gates()\n",
    "```\n",
    "\n",
    "Expected Results:\n",
    "\n",
    "``` makefile\n",
    "AND Gate: [0 0 0 1]\n",
    "NAND Gate: [1 1 1 0]\n",
    "OR Gate: [0 1 1 1]\n",
    "NOR Gate: [1 0 0 0]\n",
    "XOR Gate: [0 1 1 0]\n",
    "``` \n",
    "\n",
    "Explanation:\n",
    "The results confirm that each gate operates correctly. These gates simulate how logic circuits operate on pairs of binary inputs.\n",
    "\n"
   ]
  }
 ],
 "metadata": {
  "language_info": {
   "name": "python"
  }
 },
 "nbformat": 4,
 "nbformat_minor": 2
}
