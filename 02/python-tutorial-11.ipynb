{
 "cells": [
  {
   "cell_type": "markdown",
   "metadata": {},
   "source": [
    "## Python Basics"
   ]
  },
  {
   "cell_type": "markdown",
   "metadata": {},
   "source": [
    "### Section 11 - Modules & Packages"
   ]
  },
  {
   "cell_type": "markdown",
   "metadata": {},
   "source": [
    "#### Modules"
   ]
  },
  {
   "cell_type": "markdown",
   "metadata": {},
   "source": [
    "A module is a piece of software that has a specific functionality. A Python module is a file that contains Python code."
   ]
  },
  {
   "cell_type": "markdown",
   "metadata": {},
   "source": [
    "Writing Python modules"
   ]
  },
  {
   "cell_type": "code",
   "execution_count": 1,
   "metadata": {},
   "outputs": [],
   "source": [
    "# pieces of code/functions are written on a separate .py file"
   ]
  },
  {
   "cell_type": "markdown",
   "metadata": {},
   "source": [
    "Importing module objects"
   ]
  },
  {
   "cell_type": "code",
   "execution_count": 2,
   "metadata": {},
   "outputs": [
    {
     "name": "stdout",
     "output_type": "stream",
     "text": [
      "101.0\n"
     ]
    }
   ],
   "source": [
    "# main.py\n",
    "import pricing\n",
    "\n",
    "\n",
    "net_price = pricing.get_net_price(\n",
    "    price=100,\n",
    "    tax_rate=0.01\n",
    ")\n",
    "\n",
    "print(net_price)"
   ]
  },
  {
   "cell_type": "code",
   "execution_count": 3,
   "metadata": {},
   "outputs": [
    {
     "name": "stdout",
     "output_type": "stream",
     "text": [
      "101.0\n"
     ]
    }
   ],
   "source": [
    "# using a different name for the module\n",
    "import pricing as selling_price\n",
    "\n",
    "net_price = selling_price.get_net_price(\n",
    "    price=100,\n",
    "    tax_rate=0.01\n",
    ")\n",
    "\n",
    "print(net_price)"
   ]
  },
  {
   "cell_type": "code",
   "execution_count": 4,
   "metadata": {},
   "outputs": [
    {
     "name": "stdout",
     "output_type": "stream",
     "text": [
      "101.0\n"
     ]
    }
   ],
   "source": [
    "# importing only one function from the module\n",
    "from pricing import get_net_price\n",
    "\n",
    "net_price = get_net_price(price=100, tax_rate=0.01)\n",
    "print(net_price)"
   ]
  },
  {
   "cell_type": "code",
   "execution_count": 5,
   "metadata": {},
   "outputs": [
    {
     "name": "stdout",
     "output_type": "stream",
     "text": [
      "101.0\n"
     ]
    }
   ],
   "source": [
    "# importing one function with a different name from the module\n",
    "from pricing import get_net_price as calculate_net_price\n",
    "\n",
    "net_price = calculate_net_price(\n",
    "    price=100,\n",
    "    tax_rate=0.01\n",
    ")\n",
    "\n",
    "print(net_price)"
   ]
  },
  {
   "cell_type": "code",
   "execution_count": 6,
   "metadata": {},
   "outputs": [
    {
     "name": "stdout",
     "output_type": "stream",
     "text": [
      "10.0\n"
     ]
    }
   ],
   "source": [
    "# importing every object from the module \n",
    "from pricing import *\n",
    "from product import *\n",
    "\n",
    "tax = get_tax(100) # both modules have get_tax() function. But they differ in the number of parameters they take. Here, get_tax() from product is used since it takes only one argument.\n",
    "print(tax)"
   ]
  },
  {
   "cell_type": "markdown",
   "metadata": {},
   "source": [
    "#### Module Search Path"
   ]
  },
  {
   "cell_type": "markdown",
   "metadata": {},
   "source": [
    "When module is imported, python will search for the module.py file from the following sources:\n",
    "\n",
    "- The current folder from which the program executes.\n",
    "- A list of folders specified in the PYTHONPATH environment variable, if you set it before.\n",
    "- An installation-dependent list of folders that you configured when you installed Python.\n",
    "\n",
    "Python stores the resulting search path in the sys.path variable that comes from the sys module."
   ]
  },
  {
   "cell_type": "code",
   "execution_count": 7,
   "metadata": {},
   "outputs": [
    {
     "name": "stdout",
     "output_type": "stream",
     "text": [
      "C:\\Users\\saadsrin\\AppData\\Local\\Programs\\Python\\Python312\\python312.zip\n",
      "C:\\Users\\saadsrin\\AppData\\Local\\Programs\\Python\\Python312\\DLLs\n",
      "C:\\Users\\saadsrin\\AppData\\Local\\Programs\\Python\\Python312\\Lib\n",
      "C:\\Users\\saadsrin\\AppData\\Local\\Programs\\Python\\Python312\n",
      "c:\\Users\\saadsrin\\umich\\ece5831-2024\n",
      "\n",
      "c:\\Users\\saadsrin\\umich\\ece5831-2024\\Lib\\site-packages\n",
      "c:\\Users\\saadsrin\\umich\\ece5831-2024\\Lib\\site-packages\\win32\n",
      "c:\\Users\\saadsrin\\umich\\ece5831-2024\\Lib\\site-packages\\win32\\lib\n",
      "c:\\Users\\saadsrin\\umich\\ece5831-2024\\Lib\\site-packages\\Pythonwin\n"
     ]
    }
   ],
   "source": [
    "import sys\n",
    "\n",
    "for path in sys.path:\n",
    "    print(path)\n"
   ]
  },
  {
   "cell_type": "markdown",
   "metadata": {},
   "source": [
    "To make sure Python can always find the module.py, you need to:\n",
    "\n",
    "- Place module.py in the folder where the program will execute.\n",
    "- Include the folder that contains the module.py in the PYTHONPATH environment variable. Or you can place the module.py in one of the folders included in the PYTHONPATH variable.\n",
    "- Place the module.py in one of the installation-dependent folders."
   ]
  },
  {
   "cell_type": "markdown",
   "metadata": {},
   "source": [
    "Modifying the Python module search path at runtime"
   ]
  },
  {
   "cell_type": "code",
   "execution_count": 8,
   "metadata": {},
   "outputs": [
    {
     "name": "stdout",
     "output_type": "stream",
     "text": [
      "Hire a new employee...\n"
     ]
    }
   ],
   "source": [
    "import sys\n",
    "import recruitment\n",
    "\n",
    "sys.path.append('d:\\\\modules\\\\')\n",
    "recruitment.hire()"
   ]
  },
  {
   "cell_type": "markdown",
   "metadata": {},
   "source": [
    "#### name__ Variable"
   ]
  },
  {
   "cell_type": "markdown",
   "metadata": {},
   "source": [
    "- Since the __name__ variable has double underscores at both sides, it’s called dunder name.\n",
    "- Often, you want to write a script that can be executed directly or imported as a module. The __name__ variable allows you to do that.\n",
    "- When you run the script directly, Python sets the __name__ variable to '__main__'.\n",
    "- if you import a file as a module, Python sets the module name to the __name__ variable."
   ]
  },
  {
   "cell_type": "code",
   "execution_count": 9,
   "metadata": {},
   "outputs": [],
   "source": [
    "import app\n",
    "# Python executes billing.py file when billing module is imported to the app.py file. \n",
    "# The __name__ variable in the app.py set to the module name which is billing."
   ]
  },
  {
   "cell_type": "markdown",
   "metadata": {},
   "source": [
    "- the __name__ variable allows you to check when the file is executed directly or imported as a module."
   ]
  },
  {
   "cell_type": "markdown",
   "metadata": {},
   "source": [
    "#### Packages"
   ]
  },
  {
   "cell_type": "markdown",
   "metadata": {},
   "source": [
    "Packages allow you to organize modules in the hierarchical structure.\n",
    "\n",
    "The way Python organizes packages and modules like the Operating System structures the folders and files."
   ]
  },
  {
   "cell_type": "markdown",
   "metadata": {},
   "source": [
    "Creating Packages"
   ]
  },
  {
   "cell_type": "markdown",
   "metadata": {},
   "source": [
    "- To create a package, you create a new folder and place the relevant modules in that folder.\n",
    "- To instruct Python to treat a folder containing files as a package, you need to create a __init__.py file in the folder."
   ]
  },
  {
   "cell_type": "code",
   "execution_count": 10,
   "metadata": {},
   "outputs": [
    {
     "name": "stdout",
     "output_type": "stream",
     "text": [
      "Inside delivery.py\n",
      "Inside Billing.py\n"
     ]
    }
   ],
   "source": [
    "# main.py\n",
    "import sales.delivery\n",
    "import sales.billing\n",
    "\n",
    "sales.delivery.create_delivery()\n",
    "sales.billing.create_billing()"
   ]
  },
  {
   "cell_type": "code",
   "execution_count": 11,
   "metadata": {},
   "outputs": [
    {
     "name": "stdout",
     "output_type": "stream",
     "text": [
      "Inside delivery.py\n",
      "Inside Billing.py\n"
     ]
    }
   ],
   "source": [
    "# main.py\n",
    "from sales.delivery import create_delivery\n",
    "from sales.billing import create_billing\n",
    "\n",
    "create_delivery()\n",
    "create_billing()"
   ]
  },
  {
   "cell_type": "code",
   "execution_count": 12,
   "metadata": {},
   "outputs": [
    {
     "name": "stdout",
     "output_type": "stream",
     "text": [
      "Inside delivery.py\n",
      "Inside Billing.py\n"
     ]
    }
   ],
   "source": [
    "# main.py\n",
    "from sales.delivery import create_delivery as start_delivery\n",
    "from sales.billing import create_billing as issue_billing\n",
    "\n",
    "start_delivery()\n",
    "issue_billing()"
   ]
  },
  {
   "cell_type": "code",
   "execution_count": 13,
   "metadata": {},
   "outputs": [
    {
     "name": "stdout",
     "output_type": "stream",
     "text": [
      "Inside delivery.py\n"
     ]
    }
   ],
   "source": [
    "# main.py\n",
    "import sales\n",
    "sales.delivery.create_delivery()"
   ]
  },
  {
   "cell_type": "code",
   "execution_count": 14,
   "metadata": {},
   "outputs": [
    {
     "name": "stdout",
     "output_type": "stream",
     "text": [
      "Inside delivery.py\n"
     ]
    }
   ],
   "source": [
    "# main.py\n",
    "from sales import *\n",
    "\n",
    "delivery.create_delivery()\n",
    "#billing.create_billing()\n",
    "\n",
    "# cannot access the billing modulen because it is not mentioned in the list of the init file"
   ]
  },
  {
   "cell_type": "markdown",
   "metadata": {},
   "source": [
    "Subpackages"
   ]
  },
  {
   "cell_type": "code",
   "execution_count": 15,
   "metadata": {},
   "outputs": [
    {
     "name": "stdout",
     "output_type": "stream",
     "text": [
      "Inside order.py\n"
     ]
    }
   ],
   "source": [
    "# main.py\n",
    "from sales.order import order\n",
    "\n",
    "order.create_sales_order()"
   ]
  },
  {
   "cell_type": "code",
   "execution_count": null,
   "metadata": {},
   "outputs": [],
   "source": []
  }
 ],
 "metadata": {
  "kernelspec": {
   "display_name": "Python 3",
   "language": "python",
   "name": "python3"
  },
  "language_info": {
   "codemirror_mode": {
    "name": "ipython",
    "version": 3
   },
   "file_extension": ".py",
   "mimetype": "text/x-python",
   "name": "python",
   "nbconvert_exporter": "python",
   "pygments_lexer": "ipython3",
   "version": "3.12.6"
  }
 },
 "nbformat": 4,
 "nbformat_minor": 2
}
