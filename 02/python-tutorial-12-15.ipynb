{
 "cells": [
  {
   "cell_type": "markdown",
   "metadata": {},
   "source": [
    "## Python Basics"
   ]
  },
  {
   "cell_type": "markdown",
   "metadata": {},
   "source": [
    "### Section 12 - Files"
   ]
  },
  {
   "cell_type": "markdown",
   "metadata": {},
   "source": [
    "#### Reading from text files"
   ]
  },
  {
   "cell_type": "code",
   "execution_count": 5,
   "metadata": {},
   "outputs": [
    {
     "data": {
      "text/plain": [
       "['Python is a high-level, general-purpose programming language. \\n',\n",
       " 'Its design philosophy emphasizes code readability with the use of significant indentation.\\n',\n",
       " 'Python is dynamically typed and garbage-collected. \\n',\n",
       " 'It supports multiple programming paradigms, including structured (particularly procedural), \\n',\n",
       " 'object-oriented and functional programming. \\n',\n",
       " 'It is often described as a \"batteries included\" language due to its comprehensive standard library.']"
      ]
     },
     "execution_count": 5,
     "metadata": {},
     "output_type": "execute_result"
    }
   ],
   "source": [
    "with open('the-zen-of-python.txt') as f:\n",
    "    lines = f.readlines()\n",
    "\n",
    "lines"
   ]
  },
  {
   "cell_type": "markdown",
   "metadata": {},
   "source": [
    "- open() method takes an argumetn apart from the path to the text file, 'mode'\n",
    "- mode is an optional parameter. It’s a string that specifies the mode in which you want to open the file.\n",
    "    - 'r'\tOpen for text file for reading text\n",
    "    - 'w'\tOpen a text file for writing text\n",
    "    - 'a'\tOpen a text file for appending text"
   ]
  },
  {
   "cell_type": "code",
   "execution_count": 15,
   "metadata": {},
   "outputs": [
    {
     "name": "stdout",
     "output_type": "stream",
     "text": [
      "Python is /\n",
      "a high-level, general-purpose programming language. \n",
      "\n",
      "['Its design philosophy emphasizes code readability with the use of significant indentation.\\n', 'Python is dynamically typed and garbage-collected. \\n', 'It supports multiple programming paradigms, including structured (particularly procedural), \\n', 'object-oriented and functional programming. \\n', 'It is often described as a \"batteries included\" language due to its comprehensive standard library.']\n"
     ]
    }
   ],
   "source": [
    "f = open('the-zen-of-python.txt','r')\n",
    "print(f.read(10),end = \"/\\n\")\n",
    "print(f.readline())\n",
    "print(f.readlines())"
   ]
  },
  {
   "cell_type": "markdown",
   "metadata": {},
   "source": [
    "- The file that you open will remain open until you close it using the close() method."
   ]
  },
  {
   "cell_type": "code",
   "execution_count": 16,
   "metadata": {},
   "outputs": [],
   "source": [
    "f.close()"
   ]
  },
  {
   "cell_type": "code",
   "execution_count": 19,
   "metadata": {},
   "outputs": [
    {
     "data": {
      "text/plain": [
       "['Python is a high-level, general-purpose programming language. \\n',\n",
       " 'Its design philosophy emphasizes code readability with the use of significant indentation.\\n',\n",
       " 'Python is dynamically typed and garbage-collected. \\n',\n",
       " 'It supports multiple programming paradigms, including structured (particularly procedural), \\n',\n",
       " 'object-oriented and functional programming. \\n',\n",
       " 'It is often described as a \"batteries included\" language due to its comprehensive standard library.']"
      ]
     },
     "execution_count": 19,
     "metadata": {},
     "output_type": "execute_result"
    }
   ],
   "source": [
    "# To close the file automatically without calling the close()\n",
    "with open('the-zen-of-python.txt') as f:\n",
    "    contents = f.readlines()"
   ]
  },
  {
   "cell_type": "code",
   "execution_count": 20,
   "metadata": {},
   "outputs": [
    {
     "name": "stdout",
     "output_type": "stream",
     "text": [
      "Python is a high-level, general-purpose programming language.\n",
      "Its design philosophy emphasizes code readability with the use of significant indentation.\n",
      "Python is dynamically typed and garbage-collected.\n",
      "It supports multiple programming paradigms, including structured (particularly procedural),\n",
      "object-oriented and functional programming.\n",
      "It is often described as a \"batteries included\" language due to its comprehensive standard library.\n"
     ]
    }
   ],
   "source": [
    "# to remove blank lines\n",
    "with open('the-zen-of-python.txt') as f:\n",
    "    [print(line.strip()) for line in f.readlines()]"
   ]
  },
  {
   "cell_type": "code",
   "execution_count": 21,
   "metadata": {},
   "outputs": [
    {
     "name": "stdout",
     "output_type": "stream",
     "text": [
      "Python is a high-level, general-purpose programming language.\n",
      "Its design philosophy emphasizes code readability with the use of significant indentation.\n",
      "Python is dynamically typed and garbage-collected.\n",
      "It supports multiple programming paradigms, including structured (particularly procedural),\n",
      "object-oriented and functional programming.\n",
      "It is often described as a \"batteries included\" language due to its comprehensive standard library.\n"
     ]
    }
   ],
   "source": [
    "# using readline() to read the whole file instead of just one line\n",
    "with open('the-zen-of-python.txt') as f:\n",
    "    while True:\n",
    "        line = f.readline()\n",
    "        if not line:\n",
    "            break\n",
    "        print(line.strip())"
   ]
  },
  {
   "cell_type": "code",
   "execution_count": 26,
   "metadata": {},
   "outputs": [
    {
     "ename": "UnicodeDecodeError",
     "evalue": "'charmap' codec can't decode byte 0x8f in position 18: character maps to <undefined>",
     "output_type": "error",
     "traceback": [
      "\u001b[1;31m---------------------------------------------------------------------------\u001b[0m",
      "\u001b[1;31mUnicodeDecodeError\u001b[0m                        Traceback (most recent call last)",
      "Cell \u001b[1;32mIn[26], line 3\u001b[0m\n\u001b[0;32m      1\u001b[0m \u001b[38;5;66;03m# reading utf-8 text files\u001b[39;00m\n\u001b[0;32m      2\u001b[0m \u001b[38;5;28;01mwith\u001b[39;00m \u001b[38;5;28mopen\u001b[39m(\u001b[38;5;124m'\u001b[39m\u001b[38;5;124mquotes.txt\u001b[39m\u001b[38;5;124m'\u001b[39m) \u001b[38;5;28;01mas\u001b[39;00m f:\n\u001b[1;32m----> 3\u001b[0m \u001b[43m    \u001b[49m\u001b[38;5;28;43;01mfor\u001b[39;49;00m\u001b[43m \u001b[49m\u001b[43mline\u001b[49m\u001b[43m \u001b[49m\u001b[38;5;129;43;01min\u001b[39;49;00m\u001b[43m \u001b[49m\u001b[43mf\u001b[49m\u001b[43m:\u001b[49m\n\u001b[0;32m      4\u001b[0m \u001b[43m        \u001b[49m\u001b[38;5;28;43mprint\u001b[39;49m\u001b[43m(\u001b[49m\u001b[43mline\u001b[49m\u001b[38;5;241;43m.\u001b[39;49m\u001b[43mstrip\u001b[49m\u001b[43m(\u001b[49m\u001b[43m)\u001b[49m\u001b[43m)\u001b[49m\n",
      "File \u001b[1;32m~\\AppData\\Local\\Programs\\Python\\Python312\\Lib\\encodings\\cp1252.py:23\u001b[0m, in \u001b[0;36mIncrementalDecoder.decode\u001b[1;34m(self, input, final)\u001b[0m\n\u001b[0;32m     22\u001b[0m \u001b[38;5;28;01mdef\u001b[39;00m \u001b[38;5;21mdecode\u001b[39m(\u001b[38;5;28mself\u001b[39m, \u001b[38;5;28minput\u001b[39m, final\u001b[38;5;241m=\u001b[39m\u001b[38;5;28;01mFalse\u001b[39;00m):\n\u001b[1;32m---> 23\u001b[0m     \u001b[38;5;28;01mreturn\u001b[39;00m \u001b[43mcodecs\u001b[49m\u001b[38;5;241;43m.\u001b[39;49m\u001b[43mcharmap_decode\u001b[49m\u001b[43m(\u001b[49m\u001b[38;5;28;43minput\u001b[39;49m\u001b[43m,\u001b[49m\u001b[38;5;28;43mself\u001b[39;49m\u001b[38;5;241;43m.\u001b[39;49m\u001b[43merrors\u001b[49m\u001b[43m,\u001b[49m\u001b[43mdecoding_table\u001b[49m\u001b[43m)\u001b[49m[\u001b[38;5;241m0\u001b[39m]\n",
      "\u001b[1;31mUnicodeDecodeError\u001b[0m: 'charmap' codec can't decode byte 0x8f in position 18: character maps to <undefined>"
     ]
    }
   ],
   "source": [
    "# reading utf-8 text files\n",
    "with open('quotes.txt') as f:\n",
    "    for line in f:\n",
    "        print(line.strip())"
   ]
  },
  {
   "cell_type": "code",
   "execution_count": 27,
   "metadata": {},
   "outputs": [
    {
     "name": "stdout",
     "output_type": "stream",
     "text": [
      "पायथन एक उच्च-स्तरीय, सामान्य-उद्देश्य प्रोग्रामिंग भाषा है।\n",
      "इसका डिजाइन दर्शन महत्वपूर्ण इंडेंटेशन के उपयोग के साथ कोड पठनीयता पर जोर देता है।\n"
     ]
    }
   ],
   "source": [
    "# reading utf-8 text files\n",
    "with open('quotes.txt', encoding='utf8') as f:\n",
    "    for line in f:\n",
    "        print(line.strip())"
   ]
  },
  {
   "cell_type": "markdown",
   "metadata": {},
   "source": [
    "#### Writing text files"
   ]
  },
  {
   "cell_type": "code",
   "execution_count": 28,
   "metadata": {},
   "outputs": [],
   "source": [
    "with open('readme.txt', 'w') as f:\n",
    "    f.write('readme')"
   ]
  },
  {
   "cell_type": "markdown",
   "metadata": {},
   "source": [
    "The open() function accepts many parameters. But you’ll focus on the first two:\n",
    "\n",
    "- The file parameter specifies the path to the text file that you want to open for writing.\n",
    "- The mode parameter specifies the mode for which you want to open the text file.\n",
    "\n",
    "    - 'w'\tOpen a text file for writing. If the file exists, the function will truncate all the contents as soon as you open it. If the file doesn’t exist, the function creates a new file.\n",
    "    - 'a'\tOpen a text file for appending text. If the file exists, the function append contents at the end of the file.\n",
    "    - ‘+’\tOpen a text file for updating (both reading & writing)."
   ]
  },
  {
   "cell_type": "markdown",
   "metadata": {},
   "source": [
    "The open() function returns a file object that has two useful methods for writing text to the file: write() and writelines().\n",
    "\n",
    "- The write() method writes a string to a text file.\n",
    "- The writelines() method write a list of strings to a file at once."
   ]
  },
  {
   "cell_type": "code",
   "execution_count": 29,
   "metadata": {},
   "outputs": [],
   "source": [
    "lines = ['Readme', 'How to write text files in Python']\n",
    "with open('readme.txt', 'w') as f:\n",
    "    for line in lines:\n",
    "        f.write(line)\n",
    "        f.write('\\n')"
   ]
  },
  {
   "cell_type": "code",
   "execution_count": 30,
   "metadata": {},
   "outputs": [],
   "source": [
    "lines = ['Readme', 'How to write text files in Python']\n",
    "with open('readme.txt', 'w') as f:\n",
    "    f.writelines(lines)"
   ]
  },
  {
   "cell_type": "markdown",
   "metadata": {},
   "source": [
    "Appending text files"
   ]
  },
  {
   "cell_type": "code",
   "execution_count": null,
   "metadata": {},
   "outputs": [],
   "source": [
    "more_lines = ['', 'Append text files', 'The End']\n",
    "\n",
    "with open('readme.txt', 'a') as f:\n",
    "    f.write('\\n'.join(more_lines))"
   ]
  },
  {
   "cell_type": "code",
   "execution_count": 31,
   "metadata": {},
   "outputs": [],
   "source": [
    "# writing to a utf-8 text file\n",
    "quote = 'पायथन एक उच्च-स्तरीय, सामान्य-उद्देश्य प्रोग्रामिंग भाषा है। इसका डिजाइन दर्शन महत्वपूर्ण इंडेंटेशन के उपयोग के साथ कोड पठनीयता पर जोर देता है।。'\n",
    "\n",
    "with open('quotes.txt', 'w', encoding='utf-8') as f:\n",
    "    f.write(quote)\n"
   ]
  },
  {
   "cell_type": "markdown",
   "metadata": {},
   "source": [
    "#### Creating Text files"
   ]
  },
  {
   "cell_type": "code",
   "execution_count": 32,
   "metadata": {},
   "outputs": [],
   "source": [
    "with open('readme.txt', 'w') as f:\n",
    "    f.write('Create a new text file!')"
   ]
  },
  {
   "cell_type": "code",
   "execution_count": 33,
   "metadata": {},
   "outputs": [
    {
     "ename": "FileNotFoundError",
     "evalue": "[Errno 2] No such file or directory: 'docs/readme.txt'",
     "output_type": "error",
     "traceback": [
      "\u001b[1;31m---------------------------------------------------------------------------\u001b[0m",
      "\u001b[1;31mFileNotFoundError\u001b[0m                         Traceback (most recent call last)",
      "Cell \u001b[1;32mIn[33], line 1\u001b[0m\n\u001b[1;32m----> 1\u001b[0m \u001b[38;5;28;01mwith\u001b[39;00m \u001b[38;5;28;43mopen\u001b[39;49m\u001b[43m(\u001b[49m\u001b[38;5;124;43m'\u001b[39;49m\u001b[38;5;124;43mdocs/readme.txt\u001b[39;49m\u001b[38;5;124;43m'\u001b[39;49m\u001b[43m,\u001b[49m\u001b[43m \u001b[49m\u001b[38;5;124;43m'\u001b[39;49m\u001b[38;5;124;43mw\u001b[39;49m\u001b[38;5;124;43m'\u001b[39;49m\u001b[43m)\u001b[49m \u001b[38;5;28;01mas\u001b[39;00m f:\n\u001b[0;32m      2\u001b[0m     f\u001b[38;5;241m.\u001b[39mwrite(\u001b[38;5;124m'\u001b[39m\u001b[38;5;124mCreate a new text file!\u001b[39m\u001b[38;5;124m'\u001b[39m)\n",
      "File \u001b[1;32mc:\\Users\\saadsrin\\umich\\ece5831-2024\\Lib\\site-packages\\IPython\\core\\interactiveshell.py:324\u001b[0m, in \u001b[0;36m_modified_open\u001b[1;34m(file, *args, **kwargs)\u001b[0m\n\u001b[0;32m    317\u001b[0m \u001b[38;5;28;01mif\u001b[39;00m file \u001b[38;5;129;01min\u001b[39;00m {\u001b[38;5;241m0\u001b[39m, \u001b[38;5;241m1\u001b[39m, \u001b[38;5;241m2\u001b[39m}:\n\u001b[0;32m    318\u001b[0m     \u001b[38;5;28;01mraise\u001b[39;00m \u001b[38;5;167;01mValueError\u001b[39;00m(\n\u001b[0;32m    319\u001b[0m         \u001b[38;5;124mf\u001b[39m\u001b[38;5;124m\"\u001b[39m\u001b[38;5;124mIPython won\u001b[39m\u001b[38;5;124m'\u001b[39m\u001b[38;5;124mt let you open fd=\u001b[39m\u001b[38;5;132;01m{\u001b[39;00mfile\u001b[38;5;132;01m}\u001b[39;00m\u001b[38;5;124m by default \u001b[39m\u001b[38;5;124m\"\u001b[39m\n\u001b[0;32m    320\u001b[0m         \u001b[38;5;124m\"\u001b[39m\u001b[38;5;124mas it is likely to crash IPython. If you know what you are doing, \u001b[39m\u001b[38;5;124m\"\u001b[39m\n\u001b[0;32m    321\u001b[0m         \u001b[38;5;124m\"\u001b[39m\u001b[38;5;124myou can use builtins\u001b[39m\u001b[38;5;124m'\u001b[39m\u001b[38;5;124m open.\u001b[39m\u001b[38;5;124m\"\u001b[39m\n\u001b[0;32m    322\u001b[0m     )\n\u001b[1;32m--> 324\u001b[0m \u001b[38;5;28;01mreturn\u001b[39;00m \u001b[43mio_open\u001b[49m\u001b[43m(\u001b[49m\u001b[43mfile\u001b[49m\u001b[43m,\u001b[49m\u001b[43m \u001b[49m\u001b[38;5;241;43m*\u001b[39;49m\u001b[43margs\u001b[49m\u001b[43m,\u001b[49m\u001b[43m \u001b[49m\u001b[38;5;241;43m*\u001b[39;49m\u001b[38;5;241;43m*\u001b[39;49m\u001b[43mkwargs\u001b[49m\u001b[43m)\u001b[49m\n",
      "\u001b[1;31mFileNotFoundError\u001b[0m: [Errno 2] No such file or directory: 'docs/readme.txt'"
     ]
    }
   ],
   "source": [
    "with open('docs/readme.txt', 'w') as f:\n",
    "    f.write('Create a new text file!')"
   ]
  },
  {
   "cell_type": "code",
   "execution_count": 34,
   "metadata": {},
   "outputs": [
    {
     "name": "stdout",
     "output_type": "stream",
     "text": [
      "The 'docs' directory does not exist\n"
     ]
    }
   ],
   "source": [
    "try:\n",
    "    with open('docs/readme.txt', 'w') as f:\n",
    "        f.write('Create a new text file!')\n",
    "except FileNotFoundError:\n",
    "    print(\"The 'docs' directory does not exist\")\n"
   ]
  },
  {
   "cell_type": "code",
   "execution_count": 35,
   "metadata": {},
   "outputs": [
    {
     "ename": "FileExistsError",
     "evalue": "[Errno 17] File exists: 'readme.txt'",
     "output_type": "error",
     "traceback": [
      "\u001b[1;31m---------------------------------------------------------------------------\u001b[0m",
      "\u001b[1;31mFileExistsError\u001b[0m                           Traceback (most recent call last)",
      "Cell \u001b[1;32mIn[35], line 2\u001b[0m\n\u001b[0;32m      1\u001b[0m \u001b[38;5;66;03m# to avoid creating a new file if it already exists\u001b[39;00m\n\u001b[1;32m----> 2\u001b[0m \u001b[38;5;28;01mwith\u001b[39;00m \u001b[38;5;28;43mopen\u001b[39;49m\u001b[43m(\u001b[49m\u001b[38;5;124;43m'\u001b[39;49m\u001b[38;5;124;43mreadme.txt\u001b[39;49m\u001b[38;5;124;43m'\u001b[39;49m\u001b[43m,\u001b[49m\u001b[43m \u001b[49m\u001b[38;5;124;43m'\u001b[39;49m\u001b[38;5;124;43mx\u001b[39;49m\u001b[38;5;124;43m'\u001b[39;49m\u001b[43m)\u001b[49m \u001b[38;5;28;01mas\u001b[39;00m f:\n\u001b[0;32m      3\u001b[0m     f\u001b[38;5;241m.\u001b[39mwrite(\u001b[38;5;124m'\u001b[39m\u001b[38;5;124mCreate a new text file!\u001b[39m\u001b[38;5;124m'\u001b[39m)\n",
      "File \u001b[1;32mc:\\Users\\saadsrin\\umich\\ece5831-2024\\Lib\\site-packages\\IPython\\core\\interactiveshell.py:324\u001b[0m, in \u001b[0;36m_modified_open\u001b[1;34m(file, *args, **kwargs)\u001b[0m\n\u001b[0;32m    317\u001b[0m \u001b[38;5;28;01mif\u001b[39;00m file \u001b[38;5;129;01min\u001b[39;00m {\u001b[38;5;241m0\u001b[39m, \u001b[38;5;241m1\u001b[39m, \u001b[38;5;241m2\u001b[39m}:\n\u001b[0;32m    318\u001b[0m     \u001b[38;5;28;01mraise\u001b[39;00m \u001b[38;5;167;01mValueError\u001b[39;00m(\n\u001b[0;32m    319\u001b[0m         \u001b[38;5;124mf\u001b[39m\u001b[38;5;124m\"\u001b[39m\u001b[38;5;124mIPython won\u001b[39m\u001b[38;5;124m'\u001b[39m\u001b[38;5;124mt let you open fd=\u001b[39m\u001b[38;5;132;01m{\u001b[39;00mfile\u001b[38;5;132;01m}\u001b[39;00m\u001b[38;5;124m by default \u001b[39m\u001b[38;5;124m\"\u001b[39m\n\u001b[0;32m    320\u001b[0m         \u001b[38;5;124m\"\u001b[39m\u001b[38;5;124mas it is likely to crash IPython. If you know what you are doing, \u001b[39m\u001b[38;5;124m\"\u001b[39m\n\u001b[0;32m    321\u001b[0m         \u001b[38;5;124m\"\u001b[39m\u001b[38;5;124myou can use builtins\u001b[39m\u001b[38;5;124m'\u001b[39m\u001b[38;5;124m open.\u001b[39m\u001b[38;5;124m\"\u001b[39m\n\u001b[0;32m    322\u001b[0m     )\n\u001b[1;32m--> 324\u001b[0m \u001b[38;5;28;01mreturn\u001b[39;00m \u001b[43mio_open\u001b[49m\u001b[43m(\u001b[49m\u001b[43mfile\u001b[49m\u001b[43m,\u001b[49m\u001b[43m \u001b[49m\u001b[38;5;241;43m*\u001b[39;49m\u001b[43margs\u001b[49m\u001b[43m,\u001b[49m\u001b[43m \u001b[49m\u001b[38;5;241;43m*\u001b[39;49m\u001b[38;5;241;43m*\u001b[39;49m\u001b[43mkwargs\u001b[49m\u001b[43m)\u001b[49m\n",
      "\u001b[1;31mFileExistsError\u001b[0m: [Errno 17] File exists: 'readme.txt'"
     ]
    }
   ],
   "source": [
    "# to avoid creating a new file if it already exists\n",
    "with open('readme.txt', 'x') as f:\n",
    "    f.write('Create a new text file!')"
   ]
  },
  {
   "cell_type": "markdown",
   "metadata": {},
   "source": [
    "#### Check for file existence"
   ]
  },
  {
   "cell_type": "markdown",
   "metadata": {},
   "source": [
    "Using os.path.exists() function"
   ]
  },
  {
   "cell_type": "code",
   "execution_count": 37,
   "metadata": {},
   "outputs": [
    {
     "data": {
      "text/plain": [
       "True"
      ]
     },
     "execution_count": 37,
     "metadata": {},
     "output_type": "execute_result"
    }
   ],
   "source": [
    "import os.path\n",
    "os.path.exists(r'C:\\Users\\saadsrin\\umich\\ece5831-2024-assignments\\02\\quotes.txt')"
   ]
  },
  {
   "cell_type": "markdown",
   "metadata": {},
   "source": [
    "If the file exists, the exists() function returns True. Otherwise, it returns False."
   ]
  },
  {
   "cell_type": "code",
   "execution_count": 38,
   "metadata": {},
   "outputs": [
    {
     "data": {
      "text/plain": [
       "True"
      ]
     },
     "execution_count": 38,
     "metadata": {},
     "output_type": "execute_result"
    }
   ],
   "source": [
    "from os.path import exists as file_exists\n",
    "file_exists('readme.txt')"
   ]
  },
  {
   "cell_type": "markdown",
   "metadata": {},
   "source": [
    "Using the pathlib module"
   ]
  },
  {
   "cell_type": "code",
   "execution_count": 39,
   "metadata": {},
   "outputs": [
    {
     "name": "stdout",
     "output_type": "stream",
     "text": [
      "The file readme.txt exists\n"
     ]
    }
   ],
   "source": [
    "from pathlib import Path\n",
    "\n",
    "path_to_file = 'readme.txt'\n",
    "path = Path(path_to_file)\n",
    "\n",
    "if path.is_file():\n",
    "    print(f'The file {path_to_file} exists')\n",
    "else:\n",
    "    print(f'The file {path_to_file} does not exist')"
   ]
  },
  {
   "cell_type": "markdown",
   "metadata": {},
   "source": [
    "#### Read CSV files"
   ]
  },
  {
   "cell_type": "code",
   "execution_count": 42,
   "metadata": {},
   "outputs": [
    {
     "name": "stdout",
     "output_type": "stream",
     "text": [
      "['name', 'area', 'country_code2', 'country_code3']\n",
      "['Afghanistan', '652090.00', 'AF', 'AFG']\n",
      "['Albania', '28748.00', 'AL', 'ALB']\n",
      "['Algeria', '2381741.00', 'DZ', 'DZA']\n",
      "['American Samoa', '199.00', 'AS', 'ASM']\n",
      "['Andorra', '468.00', 'AD', 'AND']\n",
      "['Angola', '1246700.00', 'AO', 'AGO']\n",
      "['Anguilla', '96.00', 'AI', 'AIA']\n",
      "['Antarctica', '13120000.00', 'AQ', 'ATA']\n",
      "['Antigua and Barbuda', '442.00', 'AG', 'ATG']\n",
      "['Argentina', '2780400.00', 'AR', 'ARG']\n",
      "['Armenia', '29800.00', 'AM', 'ARM']\n",
      "['Aruba', '193.00', 'AW', 'ABW']\n",
      "['Australia', '7741220.00', 'AU', 'AUS']\n",
      "['Austria', '83859.00', 'AT', 'AUT']\n",
      "['Azerbaijan', '86600.00', 'AZ', 'AZE']\n",
      "['Bahamas', '13878.00', 'BS', 'BHS']\n",
      "['Bahrain', '694.00', 'BH', 'BHR']\n",
      "['Bangladesh', '143998.00', 'BD', 'BGD']\n",
      "['Barbados', '430.00', 'BB', 'BRB']\n",
      "['Belarus', '207600.00', 'BY', 'BLR']\n",
      "['Belgium', '30518.00', 'BE', 'BEL']\n",
      "['Belize', '22696.00', 'BZ', 'BLZ']\n",
      "['Benin', '112622.00', 'BJ', 'BEN']\n",
      "['Bermuda', '53.00', 'BM', 'BMU']\n",
      "['Bhutan', '47000.00', 'BT', 'BTN']\n",
      "['Bolivia', '1098581.00', 'BO', 'BOL']\n",
      "['Bosnia and Herzegovina', '51197.00', 'BA', 'BIH']\n",
      "['Botswana', '581730.00', 'BW', 'BWA']\n",
      "['Bouvet Island', '59.00', 'BV', 'BVT']\n",
      "['Brazil', '8547403.00', 'BR', 'BRA']\n",
      "['British Indian Ocean Territory', '78.00', 'IO', 'IOT']\n",
      "['Brunei', '5765.00', 'BN', 'BRN']\n",
      "['Bulgaria', '110994.00', 'BG', 'BGR']\n",
      "['Burkina Faso', '274000.00', 'BF', 'BFA']\n",
      "['Burundi', '27834.00', 'BI', 'BDI']\n",
      "['Cambodia', '181035.00', 'KH', 'KHM']\n",
      "['Cameroon', '475442.00', 'CM', 'CMR']\n",
      "['Canada', '9970610.00', 'CA', 'CAN']\n",
      "['Cape Verde', '4033.00', 'CV', 'CPV']\n",
      "['Cayman Islands', '264.00', 'KY', 'CYM']\n",
      "['Central African Republic', '622984.00', 'CF', 'CAF']\n",
      "['Chad', '1284000.00', 'TD', 'TCD']\n",
      "['Chile', '756626.00', 'CL', 'CHL']\n",
      "['China', '9572900.00', 'CN', 'CHN']\n",
      "['Christmas Island', '135.00', 'CX', 'CXR']\n",
      "['Cocos (Keeling) Islands', '14.00', 'CC', 'CCK']\n",
      "['Colombia', '1138914.00', 'CO', 'COL']\n",
      "['Comoros', '1862.00', 'KM', 'COM']\n",
      "['Congo', '342000.00', 'CG', 'COG']\n",
      "['Cook Islands', '236.00', 'CK', 'COK']\n",
      "['Costa Rica', '51100.00', 'CR', 'CRI']\n",
      "['CÃ´te dâ€™Ivoire', '322463.00', 'CI', 'CIV']\n",
      "['Croatia', '56538.00', 'HR', 'HRV']\n",
      "['Cuba', '110861.00', 'CU', 'CUB']\n",
      "['Cyprus', '9251.00', 'CY', 'CYP']\n",
      "['Czech Republic', '78866.00', 'CZ', 'CZE']\n",
      "['Denmark', '43094.00', 'DK', 'DNK']\n",
      "['Djibouti', '23200.00', 'DJ', 'DJI']\n",
      "['Dominica', '751.00', 'DM', 'DMA']\n",
      "['Dominican Republic', '48511.00', 'DO', 'DOM']\n",
      "['East Timor', '14874.00', 'TP', 'TMP']\n",
      "['Ecuador', '283561.00', 'EC', 'ECU']\n",
      "['Egypt', '1001449.00', 'EG', 'EGY']\n",
      "['El Salvador', '21041.00', 'SV', 'SLV']\n",
      "['Equatorial Guinea', '28051.00', 'GQ', 'GNQ']\n",
      "['Eritrea', '117600.00', 'ER', 'ERI']\n",
      "['Estonia', '45227.00', 'EE', 'EST']\n",
      "['Ethiopia', '1104300.00', 'ET', 'ETH']\n",
      "['Falkland Islands', '12173.00', 'FK', 'FLK']\n",
      "['Faroe Islands', '1399.00', 'FO', 'FRO']\n",
      "['Federated States of Micronesia', '702.00', 'FM', 'FSM']\n",
      "['Fiji Islands', '18274.00', 'FJ', 'FJI']\n",
      "['Finland', '338145.00', 'FI', 'FIN']\n",
      "['France', '551500.00', 'FR', 'FRA']\n",
      "['French Guiana', '90000.00', 'GF', 'GUF']\n",
      "['French Polynesia', '4000.00', 'PF', 'PYF']\n",
      "['French Southern territories', '7780.00', 'TF', 'ATF']\n",
      "['Gabon', '267668.00', 'GA', 'GAB']\n",
      "['Gambia', '11295.00', 'GM', 'GMB']\n",
      "['Georgia', '69700.00', 'GE', 'GEO']\n",
      "['Germany', '357022.00', 'DE', 'DEU']\n",
      "['Ghana', '238533.00', 'GH', 'GHA']\n",
      "['Gibraltar', '6.00', 'GI', 'GIB']\n",
      "['Greece', '131626.00', 'GR', 'GRC']\n",
      "['Greenland', '2166090.00', 'GL', 'GRL']\n",
      "['Grenada', '344.00', 'GD', 'GRD']\n",
      "['Guadeloupe', '1705.00', 'GP', 'GLP']\n",
      "['Guam', '549.00', 'GU', 'GUM']\n",
      "['Guatemala', '108889.00', 'GT', 'GTM']\n",
      "['Guinea', '245857.00', 'GN', 'GIN']\n",
      "['Guinea-Bissau', '36125.00', 'GW', 'GNB']\n",
      "['Guyana', '214969.00', 'GY', 'GUY']\n",
      "['Haiti', '27750.00', 'HT', 'HTI']\n",
      "['Heard Island and McDonald Islands', '359.00', 'HM', 'HMD']\n",
      "['Holy See (Vatican City State)', '0.40', 'VA', 'VAT']\n",
      "['Honduras', '112088.00', 'HN', 'HND']\n",
      "['Hong Kong', '1075.00', 'HK', 'HKG']\n",
      "['Hungary', '93030.00', 'HU', 'HUN']\n",
      "['Iceland', '103000.00', 'IS', 'ISL']\n",
      "['India', '3287263.00', 'IN', 'IND']\n",
      "['Indonesia', '1904569.00', 'ID', 'IDN']\n",
      "['Iran', '1648195.00', 'IR', 'IRN']\n",
      "['Iraq', '438317.00', 'IQ', 'IRQ']\n",
      "['Ireland', '70273.00', 'IE', 'IRL']\n",
      "['Israel', '21056.00', 'IL', 'ISR']\n",
      "['Italy', '301316.00', 'IT', 'ITA']\n",
      "['Jamaica', '10990.00', 'JM', 'JAM']\n",
      "['Japan', '377829.00', 'JP', 'JPN']\n",
      "['Jordan', '88946.00', 'JO', 'JOR']\n",
      "['Kazakstan', '2724900.00', 'KZ', 'KAZ']\n",
      "['Kenya', '580367.00', 'KE', 'KEN']\n",
      "['Kiribati', '726.00', 'KI', 'KIR']\n",
      "['Kuwait', '17818.00', 'KW', 'KWT']\n",
      "['Kyrgyzstan', '199900.00', 'KG', 'KGZ']\n",
      "['Laos', '236800.00', 'LA', 'LAO']\n",
      "['Latvia', '64589.00', 'LV', 'LVA']\n",
      "['Lebanon', '10400.00', 'LB', 'LBN']\n",
      "['Lesotho', '30355.00', 'LS', 'LSO']\n",
      "['Liberia', '111369.00', 'LR', 'LBR']\n",
      "['Libyan Arab Jamahiriya', '1759540.00', 'LY', 'LBY']\n",
      "['Liechtenstein', '160.00', 'LI', 'LIE']\n",
      "['Lithuania', '65301.00', 'LT', 'LTU']\n",
      "['Luxembourg', '2586.00', 'LU', 'LUX']\n",
      "['Macao', '18.00', 'MO', 'MAC']\n",
      "['Macedonia', '25713.00', 'MK', 'MKD']\n",
      "['Madagascar', '587041.00', 'MG', 'MDG']\n",
      "['Malawi', '118484.00', 'MW', 'MWI']\n",
      "['Malaysia', '329758.00', 'MY', 'MYS']\n",
      "['Maldives', '298.00', 'MV', 'MDV']\n",
      "['Mali', '1240192.00', 'ML', 'MLI']\n",
      "['Malta', '316.00', 'MT', 'MLT']\n",
      "['Marshall Islands', '181.00', 'MH', 'MHL']\n",
      "['Martinique', '1102.00', 'MQ', 'MTQ']\n",
      "['Mauritania', '1025520.00', 'MR', 'MRT']\n",
      "['Mauritius', '2040.00', 'MU', 'MUS']\n",
      "['Mayotte', '373.00', 'YT', 'MYT']\n",
      "['Mexico', '1958201.00', 'MX', 'MEX']\n",
      "['Moldova', '33851.00', 'MD', 'MDA']\n",
      "['Monaco', '1.50', 'MC', 'MCO']\n",
      "['Mongolia', '1566500.00', 'MN', 'MNG']\n",
      "['Montserrat', '102.00', 'MS', 'MSR']\n",
      "['Morocco', '446550.00', 'MA', 'MAR']\n",
      "['Mozambique', '801590.00', 'MZ', 'MOZ']\n",
      "['Myanmar', '676578.00', 'MM', 'MMR']\n",
      "['Namibia', '824292.00', 'NA', 'NAM']\n",
      "['Nauru', '21.00', 'NR', 'NRU']\n",
      "['Nepal', '147181.00', 'NP', 'NPL']\n",
      "['Netherlands', '41526.00', 'NL', 'NLD']\n",
      "['Netherlands Antilles', '800.00', 'AN', 'ANT']\n",
      "['New Caledonia', '18575.00', 'NC', 'NCL']\n",
      "['New Zealand', '270534.00', 'NZ', 'NZL']\n",
      "['Nicaragua', '130000.00', 'NI', 'NIC']\n",
      "['Niger', '1267000.00', 'NE', 'NER']\n",
      "['Nigeria', '923768.00', 'NG', 'NGA']\n",
      "['Niue', '260.00', 'NU', 'NIU']\n",
      "['Norfolk Island', '36.00', 'NF', 'NFK']\n",
      "['North Korea', '120538.00', 'KP', 'PRK']\n",
      "['Northern Mariana Islands', '464.00', 'MP', 'MNP']\n",
      "['Norway', '323877.00', 'NO', 'NOR']\n",
      "['Oman', '309500.00', 'OM', 'OMN']\n",
      "['Pakistan', '796095.00', 'PK', 'PAK']\n",
      "['Palau', '459.00', 'PW', 'PLW']\n",
      "['Palestine', '6257.00', 'PS', 'PSE']\n",
      "['Panama', '75517.00', 'PA', 'PAN']\n",
      "['Papua New Guinea', '462840.00', 'PG', 'PNG']\n",
      "['Paraguay', '406752.00', 'PY', 'PRY']\n",
      "['Peru', '1285216.00', 'PE', 'PER']\n",
      "['Philippines', '300000.00', 'PH', 'PHL']\n",
      "['Pitcairn', '49.00', 'PN', 'PCN']\n",
      "['Poland', '323250.00', 'PL', 'POL']\n",
      "['Portugal', '91982.00', 'PT', 'PRT']\n",
      "['Puerto Rico', '8875.00', 'PR', 'PRI']\n",
      "['Qatar', '11000.00', 'QA', 'QAT']\n",
      "['RÃ©union', '2510.00', 'RE', 'REU']\n",
      "['Romania', '238391.00', 'RO', 'ROM']\n",
      "['Russian Federation', '17075400.00', 'RU', 'RUS']\n",
      "['Rwanda', '26338.00', 'RW', 'RWA']\n",
      "['Saint Helena', '314.00', 'SH', 'SHN']\n",
      "['Saint Kitts and Nevis', '261.00', 'KN', 'KNA']\n",
      "['Saint Lucia', '622.00', 'LC', 'LCA']\n",
      "['Saint Pierre and Miquelon', '242.00', 'PM', 'SPM']\n",
      "['Saint Vincent and the Grenadines', '388.00', 'VC', 'VCT']\n",
      "['Samoa', '2831.00', 'WS', 'WSM']\n",
      "['San Marino', '61.00', 'SM', 'SMR']\n",
      "['Sao Tome and Principe', '964.00', 'ST', 'STP']\n",
      "['Saudi Arabia', '2149690.00', 'SA', 'SAU']\n",
      "['Senegal', '196722.00', 'SN', 'SEN']\n",
      "['Seychelles', '455.00', 'SC', 'SYC']\n",
      "['Sierra Leone', '71740.00', 'SL', 'SLE']\n",
      "['Singapore', '618.00', 'SG', 'SGP']\n",
      "['Slovakia', '49012.00', 'SK', 'SVK']\n",
      "['Slovenia', '20256.00', 'SI', 'SVN']\n",
      "['Solomon Islands', '28896.00', 'SB', 'SLB']\n",
      "['Somalia', '637657.00', 'SO', 'SOM']\n",
      "['South Africa', '1221037.00', 'ZA', 'ZAF']\n",
      "['South Georgia and the South Sandwich Islands', '3903.00', 'GS', 'SGS']\n",
      "['South Korea', '99434.00', 'KR', 'KOR']\n",
      "['Spain', '505992.00', 'ES', 'ESP']\n",
      "['Sri Lanka', '65610.00', 'LK', 'LKA']\n",
      "['Sudan', '2505813.00', 'SD', 'SDN']\n",
      "['Suriname', '163265.00', 'SR', 'SUR']\n",
      "['Svalbard and Jan Mayen', '62422.00', 'SJ', 'SJM']\n",
      "['Swaziland', '17364.00', 'SZ', 'SWZ']\n",
      "['Sweden', '449964.00', 'SE', 'SWE']\n",
      "['Switzerland', '41284.00', 'CH', 'CHE']\n",
      "['Syria', '185180.00', 'SY', 'SYR']\n",
      "['Taiwan', '36188.00', 'TW', 'TWN']\n",
      "['Tajikistan', '143100.00', 'TJ', 'TJK']\n",
      "['Tanzania', '883749.00', 'TZ', 'TZA']\n",
      "['Thailand', '513115.00', 'TH', 'THA']\n",
      "['The Democratic Republic of the Congo', '2344858.00', 'CD', 'COD']\n",
      "['Togo', '56785.00', 'TG', 'TGO']\n",
      "['Tokelau', '12.00', 'TK', 'TKL']\n",
      "['Tonga', '650.00', 'TO', 'TON']\n",
      "['Trinidad and Tobago', '5130.00', 'TT', 'TTO']\n",
      "['Tunisia', '163610.00', 'TN', 'TUN']\n",
      "['Turkey', '774815.00', 'TR', 'TUR']\n",
      "['Turkmenistan', '488100.00', 'TM', 'TKM']\n",
      "['Turks and Caicos Islands', '430.00', 'TC', 'TCA']\n",
      "['Tuvalu', '26.00', 'TV', 'TUV']\n",
      "['Uganda', '241038.00', 'UG', 'UGA']\n",
      "['Ukraine', '603700.00', 'UA', 'UKR']\n",
      "['United Arab Emirates', '83600.00', 'AE', 'ARE']\n",
      "['United Kingdom', '242900.00', 'GB', 'GBR']\n",
      "['United States', '9363520.00', 'US', 'USA']\n",
      "['United States Minor Outlying Islands', '16.00', 'UM', 'UMI']\n",
      "['Uruguay', '175016.00', 'UY', 'URY']\n",
      "['Uzbekistan', '447400.00', 'UZ', 'UZB']\n",
      "['Vanuatu', '12189.00', 'VU', 'VUT']\n",
      "['Venezuela', '912050.00', 'VE', 'VEN']\n",
      "['Vietnam', '331689.00', 'VN', 'VNM']\n",
      "['Virgin Islands, British', '151.00', 'VG', 'VGB']\n",
      "['Virgin Islands, U.S.', '347.00', 'VI', 'VIR']\n",
      "['Wallis and Futuna', '200.00', 'WF', 'WLF']\n",
      "['Western Sahara', '266000.00', 'EH', 'ESH']\n",
      "['Yemen', '527968.00', 'YE', 'YEM']\n",
      "['Yugoslavia', '102173.00', 'YU', 'YUG']\n",
      "['Zambia', '752618.00', 'ZM', 'ZMB']\n",
      "['Zimbabwe', '390757.00', 'ZW', 'ZWE']\n"
     ]
    }
   ],
   "source": [
    "import csv\n",
    "\n",
    "with open('country.csv', 'r') as f:\n",
    "    csv_reader = csv.reader(f)\n",
    "    for line in csv_reader:\n",
    "        # process each line\n",
    "        print(line)\n"
   ]
  },
  {
   "cell_type": "code",
   "execution_count": 43,
   "metadata": {},
   "outputs": [
    {
     "name": "stdout",
     "output_type": "stream",
     "text": [
      "['name', 'area', 'country_code2', 'country_code3']\n",
      "['Afghanistan', '652090.00', 'AF', 'AFG']\n",
      "['Albania', '28748.00', 'AL', 'ALB']\n",
      "['Algeria', '2381741.00', 'DZ', 'DZA']\n",
      "['American Samoa', '199.00', 'AS', 'ASM']\n",
      "['Andorra', '468.00', 'AD', 'AND']\n",
      "['Angola', '1246700.00', 'AO', 'AGO']\n",
      "['Anguilla', '96.00', 'AI', 'AIA']\n",
      "['Antarctica', '13120000.00', 'AQ', 'ATA']\n",
      "['Antigua and Barbuda', '442.00', 'AG', 'ATG']\n",
      "['Argentina', '2780400.00', 'AR', 'ARG']\n",
      "['Armenia', '29800.00', 'AM', 'ARM']\n",
      "['Aruba', '193.00', 'AW', 'ABW']\n",
      "['Australia', '7741220.00', 'AU', 'AUS']\n",
      "['Austria', '83859.00', 'AT', 'AUT']\n",
      "['Azerbaijan', '86600.00', 'AZ', 'AZE']\n",
      "['Bahamas', '13878.00', 'BS', 'BHS']\n",
      "['Bahrain', '694.00', 'BH', 'BHR']\n",
      "['Bangladesh', '143998.00', 'BD', 'BGD']\n",
      "['Barbados', '430.00', 'BB', 'BRB']\n",
      "['Belarus', '207600.00', 'BY', 'BLR']\n",
      "['Belgium', '30518.00', 'BE', 'BEL']\n",
      "['Belize', '22696.00', 'BZ', 'BLZ']\n",
      "['Benin', '112622.00', 'BJ', 'BEN']\n",
      "['Bermuda', '53.00', 'BM', 'BMU']\n",
      "['Bhutan', '47000.00', 'BT', 'BTN']\n",
      "['Bolivia', '1098581.00', 'BO', 'BOL']\n",
      "['Bosnia and Herzegovina', '51197.00', 'BA', 'BIH']\n",
      "['Botswana', '581730.00', 'BW', 'BWA']\n",
      "['Bouvet Island', '59.00', 'BV', 'BVT']\n",
      "['Brazil', '8547403.00', 'BR', 'BRA']\n",
      "['British Indian Ocean Territory', '78.00', 'IO', 'IOT']\n",
      "['Brunei', '5765.00', 'BN', 'BRN']\n",
      "['Bulgaria', '110994.00', 'BG', 'BGR']\n",
      "['Burkina Faso', '274000.00', 'BF', 'BFA']\n",
      "['Burundi', '27834.00', 'BI', 'BDI']\n",
      "['Cambodia', '181035.00', 'KH', 'KHM']\n",
      "['Cameroon', '475442.00', 'CM', 'CMR']\n",
      "['Canada', '9970610.00', 'CA', 'CAN']\n",
      "['Cape Verde', '4033.00', 'CV', 'CPV']\n",
      "['Cayman Islands', '264.00', 'KY', 'CYM']\n",
      "['Central African Republic', '622984.00', 'CF', 'CAF']\n",
      "['Chad', '1284000.00', 'TD', 'TCD']\n",
      "['Chile', '756626.00', 'CL', 'CHL']\n",
      "['China', '9572900.00', 'CN', 'CHN']\n",
      "['Christmas Island', '135.00', 'CX', 'CXR']\n",
      "['Cocos (Keeling) Islands', '14.00', 'CC', 'CCK']\n",
      "['Colombia', '1138914.00', 'CO', 'COL']\n",
      "['Comoros', '1862.00', 'KM', 'COM']\n",
      "['Congo', '342000.00', 'CG', 'COG']\n",
      "['Cook Islands', '236.00', 'CK', 'COK']\n",
      "['Costa Rica', '51100.00', 'CR', 'CRI']\n",
      "['Côte d’Ivoire', '322463.00', 'CI', 'CIV']\n",
      "['Croatia', '56538.00', 'HR', 'HRV']\n",
      "['Cuba', '110861.00', 'CU', 'CUB']\n",
      "['Cyprus', '9251.00', 'CY', 'CYP']\n",
      "['Czech Republic', '78866.00', 'CZ', 'CZE']\n",
      "['Denmark', '43094.00', 'DK', 'DNK']\n",
      "['Djibouti', '23200.00', 'DJ', 'DJI']\n",
      "['Dominica', '751.00', 'DM', 'DMA']\n",
      "['Dominican Republic', '48511.00', 'DO', 'DOM']\n",
      "['East Timor', '14874.00', 'TP', 'TMP']\n",
      "['Ecuador', '283561.00', 'EC', 'ECU']\n",
      "['Egypt', '1001449.00', 'EG', 'EGY']\n",
      "['El Salvador', '21041.00', 'SV', 'SLV']\n",
      "['Equatorial Guinea', '28051.00', 'GQ', 'GNQ']\n",
      "['Eritrea', '117600.00', 'ER', 'ERI']\n",
      "['Estonia', '45227.00', 'EE', 'EST']\n",
      "['Ethiopia', '1104300.00', 'ET', 'ETH']\n",
      "['Falkland Islands', '12173.00', 'FK', 'FLK']\n",
      "['Faroe Islands', '1399.00', 'FO', 'FRO']\n",
      "['Federated States of Micronesia', '702.00', 'FM', 'FSM']\n",
      "['Fiji Islands', '18274.00', 'FJ', 'FJI']\n",
      "['Finland', '338145.00', 'FI', 'FIN']\n",
      "['France', '551500.00', 'FR', 'FRA']\n",
      "['French Guiana', '90000.00', 'GF', 'GUF']\n",
      "['French Polynesia', '4000.00', 'PF', 'PYF']\n",
      "['French Southern territories', '7780.00', 'TF', 'ATF']\n",
      "['Gabon', '267668.00', 'GA', 'GAB']\n",
      "['Gambia', '11295.00', 'GM', 'GMB']\n",
      "['Georgia', '69700.00', 'GE', 'GEO']\n",
      "['Germany', '357022.00', 'DE', 'DEU']\n",
      "['Ghana', '238533.00', 'GH', 'GHA']\n",
      "['Gibraltar', '6.00', 'GI', 'GIB']\n",
      "['Greece', '131626.00', 'GR', 'GRC']\n",
      "['Greenland', '2166090.00', 'GL', 'GRL']\n",
      "['Grenada', '344.00', 'GD', 'GRD']\n",
      "['Guadeloupe', '1705.00', 'GP', 'GLP']\n",
      "['Guam', '549.00', 'GU', 'GUM']\n",
      "['Guatemala', '108889.00', 'GT', 'GTM']\n",
      "['Guinea', '245857.00', 'GN', 'GIN']\n",
      "['Guinea-Bissau', '36125.00', 'GW', 'GNB']\n",
      "['Guyana', '214969.00', 'GY', 'GUY']\n",
      "['Haiti', '27750.00', 'HT', 'HTI']\n",
      "['Heard Island and McDonald Islands', '359.00', 'HM', 'HMD']\n",
      "['Holy See (Vatican City State)', '0.40', 'VA', 'VAT']\n",
      "['Honduras', '112088.00', 'HN', 'HND']\n",
      "['Hong Kong', '1075.00', 'HK', 'HKG']\n",
      "['Hungary', '93030.00', 'HU', 'HUN']\n",
      "['Iceland', '103000.00', 'IS', 'ISL']\n",
      "['India', '3287263.00', 'IN', 'IND']\n",
      "['Indonesia', '1904569.00', 'ID', 'IDN']\n",
      "['Iran', '1648195.00', 'IR', 'IRN']\n",
      "['Iraq', '438317.00', 'IQ', 'IRQ']\n",
      "['Ireland', '70273.00', 'IE', 'IRL']\n",
      "['Israel', '21056.00', 'IL', 'ISR']\n",
      "['Italy', '301316.00', 'IT', 'ITA']\n",
      "['Jamaica', '10990.00', 'JM', 'JAM']\n",
      "['Japan', '377829.00', 'JP', 'JPN']\n",
      "['Jordan', '88946.00', 'JO', 'JOR']\n",
      "['Kazakstan', '2724900.00', 'KZ', 'KAZ']\n",
      "['Kenya', '580367.00', 'KE', 'KEN']\n",
      "['Kiribati', '726.00', 'KI', 'KIR']\n",
      "['Kuwait', '17818.00', 'KW', 'KWT']\n",
      "['Kyrgyzstan', '199900.00', 'KG', 'KGZ']\n",
      "['Laos', '236800.00', 'LA', 'LAO']\n",
      "['Latvia', '64589.00', 'LV', 'LVA']\n",
      "['Lebanon', '10400.00', 'LB', 'LBN']\n",
      "['Lesotho', '30355.00', 'LS', 'LSO']\n",
      "['Liberia', '111369.00', 'LR', 'LBR']\n",
      "['Libyan Arab Jamahiriya', '1759540.00', 'LY', 'LBY']\n",
      "['Liechtenstein', '160.00', 'LI', 'LIE']\n",
      "['Lithuania', '65301.00', 'LT', 'LTU']\n",
      "['Luxembourg', '2586.00', 'LU', 'LUX']\n",
      "['Macao', '18.00', 'MO', 'MAC']\n",
      "['Macedonia', '25713.00', 'MK', 'MKD']\n",
      "['Madagascar', '587041.00', 'MG', 'MDG']\n",
      "['Malawi', '118484.00', 'MW', 'MWI']\n",
      "['Malaysia', '329758.00', 'MY', 'MYS']\n",
      "['Maldives', '298.00', 'MV', 'MDV']\n",
      "['Mali', '1240192.00', 'ML', 'MLI']\n",
      "['Malta', '316.00', 'MT', 'MLT']\n",
      "['Marshall Islands', '181.00', 'MH', 'MHL']\n",
      "['Martinique', '1102.00', 'MQ', 'MTQ']\n",
      "['Mauritania', '1025520.00', 'MR', 'MRT']\n",
      "['Mauritius', '2040.00', 'MU', 'MUS']\n",
      "['Mayotte', '373.00', 'YT', 'MYT']\n",
      "['Mexico', '1958201.00', 'MX', 'MEX']\n",
      "['Moldova', '33851.00', 'MD', 'MDA']\n",
      "['Monaco', '1.50', 'MC', 'MCO']\n",
      "['Mongolia', '1566500.00', 'MN', 'MNG']\n",
      "['Montserrat', '102.00', 'MS', 'MSR']\n",
      "['Morocco', '446550.00', 'MA', 'MAR']\n",
      "['Mozambique', '801590.00', 'MZ', 'MOZ']\n",
      "['Myanmar', '676578.00', 'MM', 'MMR']\n",
      "['Namibia', '824292.00', 'NA', 'NAM']\n",
      "['Nauru', '21.00', 'NR', 'NRU']\n",
      "['Nepal', '147181.00', 'NP', 'NPL']\n",
      "['Netherlands', '41526.00', 'NL', 'NLD']\n",
      "['Netherlands Antilles', '800.00', 'AN', 'ANT']\n",
      "['New Caledonia', '18575.00', 'NC', 'NCL']\n",
      "['New Zealand', '270534.00', 'NZ', 'NZL']\n",
      "['Nicaragua', '130000.00', 'NI', 'NIC']\n",
      "['Niger', '1267000.00', 'NE', 'NER']\n",
      "['Nigeria', '923768.00', 'NG', 'NGA']\n",
      "['Niue', '260.00', 'NU', 'NIU']\n",
      "['Norfolk Island', '36.00', 'NF', 'NFK']\n",
      "['North Korea', '120538.00', 'KP', 'PRK']\n",
      "['Northern Mariana Islands', '464.00', 'MP', 'MNP']\n",
      "['Norway', '323877.00', 'NO', 'NOR']\n",
      "['Oman', '309500.00', 'OM', 'OMN']\n",
      "['Pakistan', '796095.00', 'PK', 'PAK']\n",
      "['Palau', '459.00', 'PW', 'PLW']\n",
      "['Palestine', '6257.00', 'PS', 'PSE']\n",
      "['Panama', '75517.00', 'PA', 'PAN']\n",
      "['Papua New Guinea', '462840.00', 'PG', 'PNG']\n",
      "['Paraguay', '406752.00', 'PY', 'PRY']\n",
      "['Peru', '1285216.00', 'PE', 'PER']\n",
      "['Philippines', '300000.00', 'PH', 'PHL']\n",
      "['Pitcairn', '49.00', 'PN', 'PCN']\n",
      "['Poland', '323250.00', 'PL', 'POL']\n",
      "['Portugal', '91982.00', 'PT', 'PRT']\n",
      "['Puerto Rico', '8875.00', 'PR', 'PRI']\n",
      "['Qatar', '11000.00', 'QA', 'QAT']\n",
      "['Réunion', '2510.00', 'RE', 'REU']\n",
      "['Romania', '238391.00', 'RO', 'ROM']\n",
      "['Russian Federation', '17075400.00', 'RU', 'RUS']\n",
      "['Rwanda', '26338.00', 'RW', 'RWA']\n",
      "['Saint Helena', '314.00', 'SH', 'SHN']\n",
      "['Saint Kitts and Nevis', '261.00', 'KN', 'KNA']\n",
      "['Saint Lucia', '622.00', 'LC', 'LCA']\n",
      "['Saint Pierre and Miquelon', '242.00', 'PM', 'SPM']\n",
      "['Saint Vincent and the Grenadines', '388.00', 'VC', 'VCT']\n",
      "['Samoa', '2831.00', 'WS', 'WSM']\n",
      "['San Marino', '61.00', 'SM', 'SMR']\n",
      "['Sao Tome and Principe', '964.00', 'ST', 'STP']\n",
      "['Saudi Arabia', '2149690.00', 'SA', 'SAU']\n",
      "['Senegal', '196722.00', 'SN', 'SEN']\n",
      "['Seychelles', '455.00', 'SC', 'SYC']\n",
      "['Sierra Leone', '71740.00', 'SL', 'SLE']\n",
      "['Singapore', '618.00', 'SG', 'SGP']\n",
      "['Slovakia', '49012.00', 'SK', 'SVK']\n",
      "['Slovenia', '20256.00', 'SI', 'SVN']\n",
      "['Solomon Islands', '28896.00', 'SB', 'SLB']\n",
      "['Somalia', '637657.00', 'SO', 'SOM']\n",
      "['South Africa', '1221037.00', 'ZA', 'ZAF']\n",
      "['South Georgia and the South Sandwich Islands', '3903.00', 'GS', 'SGS']\n",
      "['South Korea', '99434.00', 'KR', 'KOR']\n",
      "['Spain', '505992.00', 'ES', 'ESP']\n",
      "['Sri Lanka', '65610.00', 'LK', 'LKA']\n",
      "['Sudan', '2505813.00', 'SD', 'SDN']\n",
      "['Suriname', '163265.00', 'SR', 'SUR']\n",
      "['Svalbard and Jan Mayen', '62422.00', 'SJ', 'SJM']\n",
      "['Swaziland', '17364.00', 'SZ', 'SWZ']\n",
      "['Sweden', '449964.00', 'SE', 'SWE']\n",
      "['Switzerland', '41284.00', 'CH', 'CHE']\n",
      "['Syria', '185180.00', 'SY', 'SYR']\n",
      "['Taiwan', '36188.00', 'TW', 'TWN']\n",
      "['Tajikistan', '143100.00', 'TJ', 'TJK']\n",
      "['Tanzania', '883749.00', 'TZ', 'TZA']\n",
      "['Thailand', '513115.00', 'TH', 'THA']\n",
      "['The Democratic Republic of the Congo', '2344858.00', 'CD', 'COD']\n",
      "['Togo', '56785.00', 'TG', 'TGO']\n",
      "['Tokelau', '12.00', 'TK', 'TKL']\n",
      "['Tonga', '650.00', 'TO', 'TON']\n",
      "['Trinidad and Tobago', '5130.00', 'TT', 'TTO']\n",
      "['Tunisia', '163610.00', 'TN', 'TUN']\n",
      "['Turkey', '774815.00', 'TR', 'TUR']\n",
      "['Turkmenistan', '488100.00', 'TM', 'TKM']\n",
      "['Turks and Caicos Islands', '430.00', 'TC', 'TCA']\n",
      "['Tuvalu', '26.00', 'TV', 'TUV']\n",
      "['Uganda', '241038.00', 'UG', 'UGA']\n",
      "['Ukraine', '603700.00', 'UA', 'UKR']\n",
      "['United Arab Emirates', '83600.00', 'AE', 'ARE']\n",
      "['United Kingdom', '242900.00', 'GB', 'GBR']\n",
      "['United States', '9363520.00', 'US', 'USA']\n",
      "['United States Minor Outlying Islands', '16.00', 'UM', 'UMI']\n",
      "['Uruguay', '175016.00', 'UY', 'URY']\n",
      "['Uzbekistan', '447400.00', 'UZ', 'UZB']\n",
      "['Vanuatu', '12189.00', 'VU', 'VUT']\n",
      "['Venezuela', '912050.00', 'VE', 'VEN']\n",
      "['Vietnam', '331689.00', 'VN', 'VNM']\n",
      "['Virgin Islands, British', '151.00', 'VG', 'VGB']\n",
      "['Virgin Islands, U.S.', '347.00', 'VI', 'VIR']\n",
      "['Wallis and Futuna', '200.00', 'WF', 'WLF']\n",
      "['Western Sahara', '266000.00', 'EH', 'ESH']\n",
      "['Yemen', '527968.00', 'YE', 'YEM']\n",
      "['Yugoslavia', '102173.00', 'YU', 'YUG']\n",
      "['Zambia', '752618.00', 'ZM', 'ZMB']\n",
      "['Zimbabwe', '390757.00', 'ZW', 'ZWE']\n"
     ]
    }
   ],
   "source": [
    "import csv\n",
    "\n",
    "with open('country.csv', encoding=\"utf8\") as f:\n",
    "    csv_reader = csv.reader(f)\n",
    "    for line in csv_reader:\n",
    "        print(line)"
   ]
  },
  {
   "cell_type": "code",
   "execution_count": 44,
   "metadata": {},
   "outputs": [
    {
     "name": "stdout",
     "output_type": "stream",
     "text": [
      "['name', 'area', 'country_code2', 'country_code3']\n",
      "['Afghanistan', '652090.00', 'AF', 'AFG']\n",
      "['Albania', '28748.00', 'AL', 'ALB']\n",
      "['Algeria', '2381741.00', 'DZ', 'DZA']\n",
      "['American Samoa', '199.00', 'AS', 'ASM']\n",
      "['Andorra', '468.00', 'AD', 'AND']\n",
      "['Angola', '1246700.00', 'AO', 'AGO']\n",
      "['Anguilla', '96.00', 'AI', 'AIA']\n",
      "['Antarctica', '13120000.00', 'AQ', 'ATA']\n",
      "['Antigua and Barbuda', '442.00', 'AG', 'ATG']\n",
      "['Argentina', '2780400.00', 'AR', 'ARG']\n",
      "['Armenia', '29800.00', 'AM', 'ARM']\n",
      "['Aruba', '193.00', 'AW', 'ABW']\n",
      "['Australia', '7741220.00', 'AU', 'AUS']\n",
      "['Austria', '83859.00', 'AT', 'AUT']\n",
      "['Azerbaijan', '86600.00', 'AZ', 'AZE']\n",
      "['Bahamas', '13878.00', 'BS', 'BHS']\n",
      "['Bahrain', '694.00', 'BH', 'BHR']\n",
      "['Bangladesh', '143998.00', 'BD', 'BGD']\n",
      "['Barbados', '430.00', 'BB', 'BRB']\n",
      "['Belarus', '207600.00', 'BY', 'BLR']\n",
      "['Belgium', '30518.00', 'BE', 'BEL']\n",
      "['Belize', '22696.00', 'BZ', 'BLZ']\n",
      "['Benin', '112622.00', 'BJ', 'BEN']\n",
      "['Bermuda', '53.00', 'BM', 'BMU']\n",
      "['Bhutan', '47000.00', 'BT', 'BTN']\n",
      "['Bolivia', '1098581.00', 'BO', 'BOL']\n",
      "['Bosnia and Herzegovina', '51197.00', 'BA', 'BIH']\n",
      "['Botswana', '581730.00', 'BW', 'BWA']\n",
      "['Bouvet Island', '59.00', 'BV', 'BVT']\n",
      "['Brazil', '8547403.00', 'BR', 'BRA']\n",
      "['British Indian Ocean Territory', '78.00', 'IO', 'IOT']\n",
      "['Brunei', '5765.00', 'BN', 'BRN']\n",
      "['Bulgaria', '110994.00', 'BG', 'BGR']\n",
      "['Burkina Faso', '274000.00', 'BF', 'BFA']\n",
      "['Burundi', '27834.00', 'BI', 'BDI']\n",
      "['Cambodia', '181035.00', 'KH', 'KHM']\n",
      "['Cameroon', '475442.00', 'CM', 'CMR']\n",
      "['Canada', '9970610.00', 'CA', 'CAN']\n",
      "['Cape Verde', '4033.00', 'CV', 'CPV']\n",
      "['Cayman Islands', '264.00', 'KY', 'CYM']\n",
      "['Central African Republic', '622984.00', 'CF', 'CAF']\n",
      "['Chad', '1284000.00', 'TD', 'TCD']\n",
      "['Chile', '756626.00', 'CL', 'CHL']\n",
      "['China', '9572900.00', 'CN', 'CHN']\n",
      "['Christmas Island', '135.00', 'CX', 'CXR']\n",
      "['Cocos (Keeling) Islands', '14.00', 'CC', 'CCK']\n",
      "['Colombia', '1138914.00', 'CO', 'COL']\n",
      "['Comoros', '1862.00', 'KM', 'COM']\n",
      "['Congo', '342000.00', 'CG', 'COG']\n",
      "['Cook Islands', '236.00', 'CK', 'COK']\n",
      "['Costa Rica', '51100.00', 'CR', 'CRI']\n",
      "['Côte d’Ivoire', '322463.00', 'CI', 'CIV']\n",
      "['Croatia', '56538.00', 'HR', 'HRV']\n",
      "['Cuba', '110861.00', 'CU', 'CUB']\n",
      "['Cyprus', '9251.00', 'CY', 'CYP']\n",
      "['Czech Republic', '78866.00', 'CZ', 'CZE']\n",
      "['Denmark', '43094.00', 'DK', 'DNK']\n",
      "['Djibouti', '23200.00', 'DJ', 'DJI']\n",
      "['Dominica', '751.00', 'DM', 'DMA']\n",
      "['Dominican Republic', '48511.00', 'DO', 'DOM']\n",
      "['East Timor', '14874.00', 'TP', 'TMP']\n",
      "['Ecuador', '283561.00', 'EC', 'ECU']\n",
      "['Egypt', '1001449.00', 'EG', 'EGY']\n",
      "['El Salvador', '21041.00', 'SV', 'SLV']\n",
      "['Equatorial Guinea', '28051.00', 'GQ', 'GNQ']\n",
      "['Eritrea', '117600.00', 'ER', 'ERI']\n",
      "['Estonia', '45227.00', 'EE', 'EST']\n",
      "['Ethiopia', '1104300.00', 'ET', 'ETH']\n",
      "['Falkland Islands', '12173.00', 'FK', 'FLK']\n",
      "['Faroe Islands', '1399.00', 'FO', 'FRO']\n",
      "['Federated States of Micronesia', '702.00', 'FM', 'FSM']\n",
      "['Fiji Islands', '18274.00', 'FJ', 'FJI']\n",
      "['Finland', '338145.00', 'FI', 'FIN']\n",
      "['France', '551500.00', 'FR', 'FRA']\n",
      "['French Guiana', '90000.00', 'GF', 'GUF']\n",
      "['French Polynesia', '4000.00', 'PF', 'PYF']\n",
      "['French Southern territories', '7780.00', 'TF', 'ATF']\n",
      "['Gabon', '267668.00', 'GA', 'GAB']\n",
      "['Gambia', '11295.00', 'GM', 'GMB']\n",
      "['Georgia', '69700.00', 'GE', 'GEO']\n",
      "['Germany', '357022.00', 'DE', 'DEU']\n",
      "['Ghana', '238533.00', 'GH', 'GHA']\n",
      "['Gibraltar', '6.00', 'GI', 'GIB']\n",
      "['Greece', '131626.00', 'GR', 'GRC']\n",
      "['Greenland', '2166090.00', 'GL', 'GRL']\n",
      "['Grenada', '344.00', 'GD', 'GRD']\n",
      "['Guadeloupe', '1705.00', 'GP', 'GLP']\n",
      "['Guam', '549.00', 'GU', 'GUM']\n",
      "['Guatemala', '108889.00', 'GT', 'GTM']\n",
      "['Guinea', '245857.00', 'GN', 'GIN']\n",
      "['Guinea-Bissau', '36125.00', 'GW', 'GNB']\n",
      "['Guyana', '214969.00', 'GY', 'GUY']\n",
      "['Haiti', '27750.00', 'HT', 'HTI']\n",
      "['Heard Island and McDonald Islands', '359.00', 'HM', 'HMD']\n",
      "['Holy See (Vatican City State)', '0.40', 'VA', 'VAT']\n",
      "['Honduras', '112088.00', 'HN', 'HND']\n",
      "['Hong Kong', '1075.00', 'HK', 'HKG']\n",
      "['Hungary', '93030.00', 'HU', 'HUN']\n",
      "['Iceland', '103000.00', 'IS', 'ISL']\n",
      "['India', '3287263.00', 'IN', 'IND']\n",
      "['Indonesia', '1904569.00', 'ID', 'IDN']\n",
      "['Iran', '1648195.00', 'IR', 'IRN']\n",
      "['Iraq', '438317.00', 'IQ', 'IRQ']\n",
      "['Ireland', '70273.00', 'IE', 'IRL']\n",
      "['Israel', '21056.00', 'IL', 'ISR']\n",
      "['Italy', '301316.00', 'IT', 'ITA']\n",
      "['Jamaica', '10990.00', 'JM', 'JAM']\n",
      "['Japan', '377829.00', 'JP', 'JPN']\n",
      "['Jordan', '88946.00', 'JO', 'JOR']\n",
      "['Kazakstan', '2724900.00', 'KZ', 'KAZ']\n",
      "['Kenya', '580367.00', 'KE', 'KEN']\n",
      "['Kiribati', '726.00', 'KI', 'KIR']\n",
      "['Kuwait', '17818.00', 'KW', 'KWT']\n",
      "['Kyrgyzstan', '199900.00', 'KG', 'KGZ']\n",
      "['Laos', '236800.00', 'LA', 'LAO']\n",
      "['Latvia', '64589.00', 'LV', 'LVA']\n",
      "['Lebanon', '10400.00', 'LB', 'LBN']\n",
      "['Lesotho', '30355.00', 'LS', 'LSO']\n",
      "['Liberia', '111369.00', 'LR', 'LBR']\n",
      "['Libyan Arab Jamahiriya', '1759540.00', 'LY', 'LBY']\n",
      "['Liechtenstein', '160.00', 'LI', 'LIE']\n",
      "['Lithuania', '65301.00', 'LT', 'LTU']\n",
      "['Luxembourg', '2586.00', 'LU', 'LUX']\n",
      "['Macao', '18.00', 'MO', 'MAC']\n",
      "['Macedonia', '25713.00', 'MK', 'MKD']\n",
      "['Madagascar', '587041.00', 'MG', 'MDG']\n",
      "['Malawi', '118484.00', 'MW', 'MWI']\n",
      "['Malaysia', '329758.00', 'MY', 'MYS']\n",
      "['Maldives', '298.00', 'MV', 'MDV']\n",
      "['Mali', '1240192.00', 'ML', 'MLI']\n",
      "['Malta', '316.00', 'MT', 'MLT']\n",
      "['Marshall Islands', '181.00', 'MH', 'MHL']\n",
      "['Martinique', '1102.00', 'MQ', 'MTQ']\n",
      "['Mauritania', '1025520.00', 'MR', 'MRT']\n",
      "['Mauritius', '2040.00', 'MU', 'MUS']\n",
      "['Mayotte', '373.00', 'YT', 'MYT']\n",
      "['Mexico', '1958201.00', 'MX', 'MEX']\n",
      "['Moldova', '33851.00', 'MD', 'MDA']\n",
      "['Monaco', '1.50', 'MC', 'MCO']\n",
      "['Mongolia', '1566500.00', 'MN', 'MNG']\n",
      "['Montserrat', '102.00', 'MS', 'MSR']\n",
      "['Morocco', '446550.00', 'MA', 'MAR']\n",
      "['Mozambique', '801590.00', 'MZ', 'MOZ']\n",
      "['Myanmar', '676578.00', 'MM', 'MMR']\n",
      "['Namibia', '824292.00', 'NA', 'NAM']\n",
      "['Nauru', '21.00', 'NR', 'NRU']\n",
      "['Nepal', '147181.00', 'NP', 'NPL']\n",
      "['Netherlands', '41526.00', 'NL', 'NLD']\n",
      "['Netherlands Antilles', '800.00', 'AN', 'ANT']\n",
      "['New Caledonia', '18575.00', 'NC', 'NCL']\n",
      "['New Zealand', '270534.00', 'NZ', 'NZL']\n",
      "['Nicaragua', '130000.00', 'NI', 'NIC']\n",
      "['Niger', '1267000.00', 'NE', 'NER']\n",
      "['Nigeria', '923768.00', 'NG', 'NGA']\n",
      "['Niue', '260.00', 'NU', 'NIU']\n",
      "['Norfolk Island', '36.00', 'NF', 'NFK']\n",
      "['North Korea', '120538.00', 'KP', 'PRK']\n",
      "['Northern Mariana Islands', '464.00', 'MP', 'MNP']\n",
      "['Norway', '323877.00', 'NO', 'NOR']\n",
      "['Oman', '309500.00', 'OM', 'OMN']\n",
      "['Pakistan', '796095.00', 'PK', 'PAK']\n",
      "['Palau', '459.00', 'PW', 'PLW']\n",
      "['Palestine', '6257.00', 'PS', 'PSE']\n",
      "['Panama', '75517.00', 'PA', 'PAN']\n",
      "['Papua New Guinea', '462840.00', 'PG', 'PNG']\n",
      "['Paraguay', '406752.00', 'PY', 'PRY']\n",
      "['Peru', '1285216.00', 'PE', 'PER']\n",
      "['Philippines', '300000.00', 'PH', 'PHL']\n",
      "['Pitcairn', '49.00', 'PN', 'PCN']\n",
      "['Poland', '323250.00', 'PL', 'POL']\n",
      "['Portugal', '91982.00', 'PT', 'PRT']\n",
      "['Puerto Rico', '8875.00', 'PR', 'PRI']\n",
      "['Qatar', '11000.00', 'QA', 'QAT']\n",
      "['Réunion', '2510.00', 'RE', 'REU']\n",
      "['Romania', '238391.00', 'RO', 'ROM']\n",
      "['Russian Federation', '17075400.00', 'RU', 'RUS']\n",
      "['Rwanda', '26338.00', 'RW', 'RWA']\n",
      "['Saint Helena', '314.00', 'SH', 'SHN']\n",
      "['Saint Kitts and Nevis', '261.00', 'KN', 'KNA']\n",
      "['Saint Lucia', '622.00', 'LC', 'LCA']\n",
      "['Saint Pierre and Miquelon', '242.00', 'PM', 'SPM']\n",
      "['Saint Vincent and the Grenadines', '388.00', 'VC', 'VCT']\n",
      "['Samoa', '2831.00', 'WS', 'WSM']\n",
      "['San Marino', '61.00', 'SM', 'SMR']\n",
      "['Sao Tome and Principe', '964.00', 'ST', 'STP']\n",
      "['Saudi Arabia', '2149690.00', 'SA', 'SAU']\n",
      "['Senegal', '196722.00', 'SN', 'SEN']\n",
      "['Seychelles', '455.00', 'SC', 'SYC']\n",
      "['Sierra Leone', '71740.00', 'SL', 'SLE']\n",
      "['Singapore', '618.00', 'SG', 'SGP']\n",
      "['Slovakia', '49012.00', 'SK', 'SVK']\n",
      "['Slovenia', '20256.00', 'SI', 'SVN']\n",
      "['Solomon Islands', '28896.00', 'SB', 'SLB']\n",
      "['Somalia', '637657.00', 'SO', 'SOM']\n",
      "['South Africa', '1221037.00', 'ZA', 'ZAF']\n",
      "['South Georgia and the South Sandwich Islands', '3903.00', 'GS', 'SGS']\n",
      "['South Korea', '99434.00', 'KR', 'KOR']\n",
      "['Spain', '505992.00', 'ES', 'ESP']\n",
      "['Sri Lanka', '65610.00', 'LK', 'LKA']\n",
      "['Sudan', '2505813.00', 'SD', 'SDN']\n",
      "['Suriname', '163265.00', 'SR', 'SUR']\n",
      "['Svalbard and Jan Mayen', '62422.00', 'SJ', 'SJM']\n",
      "['Swaziland', '17364.00', 'SZ', 'SWZ']\n",
      "['Sweden', '449964.00', 'SE', 'SWE']\n",
      "['Switzerland', '41284.00', 'CH', 'CHE']\n",
      "['Syria', '185180.00', 'SY', 'SYR']\n",
      "['Taiwan', '36188.00', 'TW', 'TWN']\n",
      "['Tajikistan', '143100.00', 'TJ', 'TJK']\n",
      "['Tanzania', '883749.00', 'TZ', 'TZA']\n",
      "['Thailand', '513115.00', 'TH', 'THA']\n",
      "['The Democratic Republic of the Congo', '2344858.00', 'CD', 'COD']\n",
      "['Togo', '56785.00', 'TG', 'TGO']\n",
      "['Tokelau', '12.00', 'TK', 'TKL']\n",
      "['Tonga', '650.00', 'TO', 'TON']\n",
      "['Trinidad and Tobago', '5130.00', 'TT', 'TTO']\n",
      "['Tunisia', '163610.00', 'TN', 'TUN']\n",
      "['Turkey', '774815.00', 'TR', 'TUR']\n",
      "['Turkmenistan', '488100.00', 'TM', 'TKM']\n",
      "['Turks and Caicos Islands', '430.00', 'TC', 'TCA']\n",
      "['Tuvalu', '26.00', 'TV', 'TUV']\n",
      "['Uganda', '241038.00', 'UG', 'UGA']\n",
      "['Ukraine', '603700.00', 'UA', 'UKR']\n",
      "['United Arab Emirates', '83600.00', 'AE', 'ARE']\n",
      "['United Kingdom', '242900.00', 'GB', 'GBR']\n",
      "['United States', '9363520.00', 'US', 'USA']\n",
      "['United States Minor Outlying Islands', '16.00', 'UM', 'UMI']\n",
      "['Uruguay', '175016.00', 'UY', 'URY']\n",
      "['Uzbekistan', '447400.00', 'UZ', 'UZB']\n",
      "['Vanuatu', '12189.00', 'VU', 'VUT']\n",
      "['Venezuela', '912050.00', 'VE', 'VEN']\n",
      "['Vietnam', '331689.00', 'VN', 'VNM']\n",
      "['Virgin Islands, British', '151.00', 'VG', 'VGB']\n",
      "['Virgin Islands, U.S.', '347.00', 'VI', 'VIR']\n",
      "['Wallis and Futuna', '200.00', 'WF', 'WLF']\n",
      "['Western Sahara', '266000.00', 'EH', 'ESH']\n",
      "['Yemen', '527968.00', 'YE', 'YEM']\n",
      "['Yugoslavia', '102173.00', 'YU', 'YUG']\n",
      "['Zambia', '752618.00', 'ZM', 'ZMB']\n",
      "['Zimbabwe', '390757.00', 'ZW', 'ZWE']\n"
     ]
    }
   ],
   "source": [
    "import csv\n",
    "\n",
    "with open('country.csv', encoding=\"utf8\") as f:\n",
    "    csv_reader = csv.reader(f)\n",
    "    for line in csv_reader:\n",
    "        print(line)"
   ]
  },
  {
   "cell_type": "code",
   "execution_count": 45,
   "metadata": {},
   "outputs": [
    {
     "name": "stdout",
     "output_type": "stream",
     "text": [
      "Header:\n",
      "['name', 'area', 'country_code2', 'country_code3']\n",
      "Data:\n",
      "['Afghanistan', '652090.00', 'AF', 'AFG']\n",
      "['Albania', '28748.00', 'AL', 'ALB']\n",
      "['Algeria', '2381741.00', 'DZ', 'DZA']\n",
      "['American Samoa', '199.00', 'AS', 'ASM']\n",
      "['Andorra', '468.00', 'AD', 'AND']\n",
      "['Angola', '1246700.00', 'AO', 'AGO']\n",
      "['Anguilla', '96.00', 'AI', 'AIA']\n",
      "['Antarctica', '13120000.00', 'AQ', 'ATA']\n",
      "['Antigua and Barbuda', '442.00', 'AG', 'ATG']\n",
      "['Argentina', '2780400.00', 'AR', 'ARG']\n",
      "['Armenia', '29800.00', 'AM', 'ARM']\n",
      "['Aruba', '193.00', 'AW', 'ABW']\n",
      "['Australia', '7741220.00', 'AU', 'AUS']\n",
      "['Austria', '83859.00', 'AT', 'AUT']\n",
      "['Azerbaijan', '86600.00', 'AZ', 'AZE']\n",
      "['Bahamas', '13878.00', 'BS', 'BHS']\n",
      "['Bahrain', '694.00', 'BH', 'BHR']\n",
      "['Bangladesh', '143998.00', 'BD', 'BGD']\n",
      "['Barbados', '430.00', 'BB', 'BRB']\n",
      "['Belarus', '207600.00', 'BY', 'BLR']\n",
      "['Belgium', '30518.00', 'BE', 'BEL']\n",
      "['Belize', '22696.00', 'BZ', 'BLZ']\n",
      "['Benin', '112622.00', 'BJ', 'BEN']\n",
      "['Bermuda', '53.00', 'BM', 'BMU']\n",
      "['Bhutan', '47000.00', 'BT', 'BTN']\n",
      "['Bolivia', '1098581.00', 'BO', 'BOL']\n",
      "['Bosnia and Herzegovina', '51197.00', 'BA', 'BIH']\n",
      "['Botswana', '581730.00', 'BW', 'BWA']\n",
      "['Bouvet Island', '59.00', 'BV', 'BVT']\n",
      "['Brazil', '8547403.00', 'BR', 'BRA']\n",
      "['British Indian Ocean Territory', '78.00', 'IO', 'IOT']\n",
      "['Brunei', '5765.00', 'BN', 'BRN']\n",
      "['Bulgaria', '110994.00', 'BG', 'BGR']\n",
      "['Burkina Faso', '274000.00', 'BF', 'BFA']\n",
      "['Burundi', '27834.00', 'BI', 'BDI']\n",
      "['Cambodia', '181035.00', 'KH', 'KHM']\n",
      "['Cameroon', '475442.00', 'CM', 'CMR']\n",
      "['Canada', '9970610.00', 'CA', 'CAN']\n",
      "['Cape Verde', '4033.00', 'CV', 'CPV']\n",
      "['Cayman Islands', '264.00', 'KY', 'CYM']\n",
      "['Central African Republic', '622984.00', 'CF', 'CAF']\n",
      "['Chad', '1284000.00', 'TD', 'TCD']\n",
      "['Chile', '756626.00', 'CL', 'CHL']\n",
      "['China', '9572900.00', 'CN', 'CHN']\n",
      "['Christmas Island', '135.00', 'CX', 'CXR']\n",
      "['Cocos (Keeling) Islands', '14.00', 'CC', 'CCK']\n",
      "['Colombia', '1138914.00', 'CO', 'COL']\n",
      "['Comoros', '1862.00', 'KM', 'COM']\n",
      "['Congo', '342000.00', 'CG', 'COG']\n",
      "['Cook Islands', '236.00', 'CK', 'COK']\n",
      "['Costa Rica', '51100.00', 'CR', 'CRI']\n",
      "['Côte d’Ivoire', '322463.00', 'CI', 'CIV']\n",
      "['Croatia', '56538.00', 'HR', 'HRV']\n",
      "['Cuba', '110861.00', 'CU', 'CUB']\n",
      "['Cyprus', '9251.00', 'CY', 'CYP']\n",
      "['Czech Republic', '78866.00', 'CZ', 'CZE']\n",
      "['Denmark', '43094.00', 'DK', 'DNK']\n",
      "['Djibouti', '23200.00', 'DJ', 'DJI']\n",
      "['Dominica', '751.00', 'DM', 'DMA']\n",
      "['Dominican Republic', '48511.00', 'DO', 'DOM']\n",
      "['East Timor', '14874.00', 'TP', 'TMP']\n",
      "['Ecuador', '283561.00', 'EC', 'ECU']\n",
      "['Egypt', '1001449.00', 'EG', 'EGY']\n",
      "['El Salvador', '21041.00', 'SV', 'SLV']\n",
      "['Equatorial Guinea', '28051.00', 'GQ', 'GNQ']\n",
      "['Eritrea', '117600.00', 'ER', 'ERI']\n",
      "['Estonia', '45227.00', 'EE', 'EST']\n",
      "['Ethiopia', '1104300.00', 'ET', 'ETH']\n",
      "['Falkland Islands', '12173.00', 'FK', 'FLK']\n",
      "['Faroe Islands', '1399.00', 'FO', 'FRO']\n",
      "['Federated States of Micronesia', '702.00', 'FM', 'FSM']\n",
      "['Fiji Islands', '18274.00', 'FJ', 'FJI']\n",
      "['Finland', '338145.00', 'FI', 'FIN']\n",
      "['France', '551500.00', 'FR', 'FRA']\n",
      "['French Guiana', '90000.00', 'GF', 'GUF']\n",
      "['French Polynesia', '4000.00', 'PF', 'PYF']\n",
      "['French Southern territories', '7780.00', 'TF', 'ATF']\n",
      "['Gabon', '267668.00', 'GA', 'GAB']\n",
      "['Gambia', '11295.00', 'GM', 'GMB']\n",
      "['Georgia', '69700.00', 'GE', 'GEO']\n",
      "['Germany', '357022.00', 'DE', 'DEU']\n",
      "['Ghana', '238533.00', 'GH', 'GHA']\n",
      "['Gibraltar', '6.00', 'GI', 'GIB']\n",
      "['Greece', '131626.00', 'GR', 'GRC']\n",
      "['Greenland', '2166090.00', 'GL', 'GRL']\n",
      "['Grenada', '344.00', 'GD', 'GRD']\n",
      "['Guadeloupe', '1705.00', 'GP', 'GLP']\n",
      "['Guam', '549.00', 'GU', 'GUM']\n",
      "['Guatemala', '108889.00', 'GT', 'GTM']\n",
      "['Guinea', '245857.00', 'GN', 'GIN']\n",
      "['Guinea-Bissau', '36125.00', 'GW', 'GNB']\n",
      "['Guyana', '214969.00', 'GY', 'GUY']\n",
      "['Haiti', '27750.00', 'HT', 'HTI']\n",
      "['Heard Island and McDonald Islands', '359.00', 'HM', 'HMD']\n",
      "['Holy See (Vatican City State)', '0.40', 'VA', 'VAT']\n",
      "['Honduras', '112088.00', 'HN', 'HND']\n",
      "['Hong Kong', '1075.00', 'HK', 'HKG']\n",
      "['Hungary', '93030.00', 'HU', 'HUN']\n",
      "['Iceland', '103000.00', 'IS', 'ISL']\n",
      "['India', '3287263.00', 'IN', 'IND']\n",
      "['Indonesia', '1904569.00', 'ID', 'IDN']\n",
      "['Iran', '1648195.00', 'IR', 'IRN']\n",
      "['Iraq', '438317.00', 'IQ', 'IRQ']\n",
      "['Ireland', '70273.00', 'IE', 'IRL']\n",
      "['Israel', '21056.00', 'IL', 'ISR']\n",
      "['Italy', '301316.00', 'IT', 'ITA']\n",
      "['Jamaica', '10990.00', 'JM', 'JAM']\n",
      "['Japan', '377829.00', 'JP', 'JPN']\n",
      "['Jordan', '88946.00', 'JO', 'JOR']\n",
      "['Kazakstan', '2724900.00', 'KZ', 'KAZ']\n",
      "['Kenya', '580367.00', 'KE', 'KEN']\n",
      "['Kiribati', '726.00', 'KI', 'KIR']\n",
      "['Kuwait', '17818.00', 'KW', 'KWT']\n",
      "['Kyrgyzstan', '199900.00', 'KG', 'KGZ']\n",
      "['Laos', '236800.00', 'LA', 'LAO']\n",
      "['Latvia', '64589.00', 'LV', 'LVA']\n",
      "['Lebanon', '10400.00', 'LB', 'LBN']\n",
      "['Lesotho', '30355.00', 'LS', 'LSO']\n",
      "['Liberia', '111369.00', 'LR', 'LBR']\n",
      "['Libyan Arab Jamahiriya', '1759540.00', 'LY', 'LBY']\n",
      "['Liechtenstein', '160.00', 'LI', 'LIE']\n",
      "['Lithuania', '65301.00', 'LT', 'LTU']\n",
      "['Luxembourg', '2586.00', 'LU', 'LUX']\n",
      "['Macao', '18.00', 'MO', 'MAC']\n",
      "['Macedonia', '25713.00', 'MK', 'MKD']\n",
      "['Madagascar', '587041.00', 'MG', 'MDG']\n",
      "['Malawi', '118484.00', 'MW', 'MWI']\n",
      "['Malaysia', '329758.00', 'MY', 'MYS']\n",
      "['Maldives', '298.00', 'MV', 'MDV']\n",
      "['Mali', '1240192.00', 'ML', 'MLI']\n",
      "['Malta', '316.00', 'MT', 'MLT']\n",
      "['Marshall Islands', '181.00', 'MH', 'MHL']\n",
      "['Martinique', '1102.00', 'MQ', 'MTQ']\n",
      "['Mauritania', '1025520.00', 'MR', 'MRT']\n",
      "['Mauritius', '2040.00', 'MU', 'MUS']\n",
      "['Mayotte', '373.00', 'YT', 'MYT']\n",
      "['Mexico', '1958201.00', 'MX', 'MEX']\n",
      "['Moldova', '33851.00', 'MD', 'MDA']\n",
      "['Monaco', '1.50', 'MC', 'MCO']\n",
      "['Mongolia', '1566500.00', 'MN', 'MNG']\n",
      "['Montserrat', '102.00', 'MS', 'MSR']\n",
      "['Morocco', '446550.00', 'MA', 'MAR']\n",
      "['Mozambique', '801590.00', 'MZ', 'MOZ']\n",
      "['Myanmar', '676578.00', 'MM', 'MMR']\n",
      "['Namibia', '824292.00', 'NA', 'NAM']\n",
      "['Nauru', '21.00', 'NR', 'NRU']\n",
      "['Nepal', '147181.00', 'NP', 'NPL']\n",
      "['Netherlands', '41526.00', 'NL', 'NLD']\n",
      "['Netherlands Antilles', '800.00', 'AN', 'ANT']\n",
      "['New Caledonia', '18575.00', 'NC', 'NCL']\n",
      "['New Zealand', '270534.00', 'NZ', 'NZL']\n",
      "['Nicaragua', '130000.00', 'NI', 'NIC']\n",
      "['Niger', '1267000.00', 'NE', 'NER']\n",
      "['Nigeria', '923768.00', 'NG', 'NGA']\n",
      "['Niue', '260.00', 'NU', 'NIU']\n",
      "['Norfolk Island', '36.00', 'NF', 'NFK']\n",
      "['North Korea', '120538.00', 'KP', 'PRK']\n",
      "['Northern Mariana Islands', '464.00', 'MP', 'MNP']\n",
      "['Norway', '323877.00', 'NO', 'NOR']\n",
      "['Oman', '309500.00', 'OM', 'OMN']\n",
      "['Pakistan', '796095.00', 'PK', 'PAK']\n",
      "['Palau', '459.00', 'PW', 'PLW']\n",
      "['Palestine', '6257.00', 'PS', 'PSE']\n",
      "['Panama', '75517.00', 'PA', 'PAN']\n",
      "['Papua New Guinea', '462840.00', 'PG', 'PNG']\n",
      "['Paraguay', '406752.00', 'PY', 'PRY']\n",
      "['Peru', '1285216.00', 'PE', 'PER']\n",
      "['Philippines', '300000.00', 'PH', 'PHL']\n",
      "['Pitcairn', '49.00', 'PN', 'PCN']\n",
      "['Poland', '323250.00', 'PL', 'POL']\n",
      "['Portugal', '91982.00', 'PT', 'PRT']\n",
      "['Puerto Rico', '8875.00', 'PR', 'PRI']\n",
      "['Qatar', '11000.00', 'QA', 'QAT']\n",
      "['Réunion', '2510.00', 'RE', 'REU']\n",
      "['Romania', '238391.00', 'RO', 'ROM']\n",
      "['Russian Federation', '17075400.00', 'RU', 'RUS']\n",
      "['Rwanda', '26338.00', 'RW', 'RWA']\n",
      "['Saint Helena', '314.00', 'SH', 'SHN']\n",
      "['Saint Kitts and Nevis', '261.00', 'KN', 'KNA']\n",
      "['Saint Lucia', '622.00', 'LC', 'LCA']\n",
      "['Saint Pierre and Miquelon', '242.00', 'PM', 'SPM']\n",
      "['Saint Vincent and the Grenadines', '388.00', 'VC', 'VCT']\n",
      "['Samoa', '2831.00', 'WS', 'WSM']\n",
      "['San Marino', '61.00', 'SM', 'SMR']\n",
      "['Sao Tome and Principe', '964.00', 'ST', 'STP']\n",
      "['Saudi Arabia', '2149690.00', 'SA', 'SAU']\n",
      "['Senegal', '196722.00', 'SN', 'SEN']\n",
      "['Seychelles', '455.00', 'SC', 'SYC']\n",
      "['Sierra Leone', '71740.00', 'SL', 'SLE']\n",
      "['Singapore', '618.00', 'SG', 'SGP']\n",
      "['Slovakia', '49012.00', 'SK', 'SVK']\n",
      "['Slovenia', '20256.00', 'SI', 'SVN']\n",
      "['Solomon Islands', '28896.00', 'SB', 'SLB']\n",
      "['Somalia', '637657.00', 'SO', 'SOM']\n",
      "['South Africa', '1221037.00', 'ZA', 'ZAF']\n",
      "['South Georgia and the South Sandwich Islands', '3903.00', 'GS', 'SGS']\n",
      "['South Korea', '99434.00', 'KR', 'KOR']\n",
      "['Spain', '505992.00', 'ES', 'ESP']\n",
      "['Sri Lanka', '65610.00', 'LK', 'LKA']\n",
      "['Sudan', '2505813.00', 'SD', 'SDN']\n",
      "['Suriname', '163265.00', 'SR', 'SUR']\n",
      "['Svalbard and Jan Mayen', '62422.00', 'SJ', 'SJM']\n",
      "['Swaziland', '17364.00', 'SZ', 'SWZ']\n",
      "['Sweden', '449964.00', 'SE', 'SWE']\n",
      "['Switzerland', '41284.00', 'CH', 'CHE']\n",
      "['Syria', '185180.00', 'SY', 'SYR']\n",
      "['Taiwan', '36188.00', 'TW', 'TWN']\n",
      "['Tajikistan', '143100.00', 'TJ', 'TJK']\n",
      "['Tanzania', '883749.00', 'TZ', 'TZA']\n",
      "['Thailand', '513115.00', 'TH', 'THA']\n",
      "['The Democratic Republic of the Congo', '2344858.00', 'CD', 'COD']\n",
      "['Togo', '56785.00', 'TG', 'TGO']\n",
      "['Tokelau', '12.00', 'TK', 'TKL']\n",
      "['Tonga', '650.00', 'TO', 'TON']\n",
      "['Trinidad and Tobago', '5130.00', 'TT', 'TTO']\n",
      "['Tunisia', '163610.00', 'TN', 'TUN']\n",
      "['Turkey', '774815.00', 'TR', 'TUR']\n",
      "['Turkmenistan', '488100.00', 'TM', 'TKM']\n",
      "['Turks and Caicos Islands', '430.00', 'TC', 'TCA']\n",
      "['Tuvalu', '26.00', 'TV', 'TUV']\n",
      "['Uganda', '241038.00', 'UG', 'UGA']\n",
      "['Ukraine', '603700.00', 'UA', 'UKR']\n",
      "['United Arab Emirates', '83600.00', 'AE', 'ARE']\n",
      "['United Kingdom', '242900.00', 'GB', 'GBR']\n",
      "['United States', '9363520.00', 'US', 'USA']\n",
      "['United States Minor Outlying Islands', '16.00', 'UM', 'UMI']\n",
      "['Uruguay', '175016.00', 'UY', 'URY']\n",
      "['Uzbekistan', '447400.00', 'UZ', 'UZB']\n",
      "['Vanuatu', '12189.00', 'VU', 'VUT']\n",
      "['Venezuela', '912050.00', 'VE', 'VEN']\n",
      "['Vietnam', '331689.00', 'VN', 'VNM']\n",
      "['Virgin Islands, British', '151.00', 'VG', 'VGB']\n",
      "['Virgin Islands, U.S.', '347.00', 'VI', 'VIR']\n",
      "['Wallis and Futuna', '200.00', 'WF', 'WLF']\n",
      "['Western Sahara', '266000.00', 'EH', 'ESH']\n",
      "['Yemen', '527968.00', 'YE', 'YEM']\n",
      "['Yugoslavia', '102173.00', 'YU', 'YUG']\n",
      "['Zambia', '752618.00', 'ZM', 'ZMB']\n",
      "['Zimbabwe', '390757.00', 'ZW', 'ZWE']\n"
     ]
    }
   ],
   "source": [
    "import csv\n",
    "\n",
    "with open('country.csv', encoding=\"utf8\") as f:\n",
    "    csv_reader = csv.reader(f)\n",
    "    for line_no, line in enumerate(csv_reader, 1):\n",
    "        if line_no == 1:\n",
    "            print('Header:')\n",
    "            print(line)  # header\n",
    "            print('Data:')\n",
    "        else:\n",
    "            print(line)  # data\n"
   ]
  },
  {
   "cell_type": "code",
   "execution_count": 46,
   "metadata": {},
   "outputs": [
    {
     "name": "stdout",
     "output_type": "stream",
     "text": [
      "['Afghanistan', '652090.00', 'AF', 'AFG']\n",
      "['Albania', '28748.00', 'AL', 'ALB']\n",
      "['Algeria', '2381741.00', 'DZ', 'DZA']\n",
      "['American Samoa', '199.00', 'AS', 'ASM']\n",
      "['Andorra', '468.00', 'AD', 'AND']\n",
      "['Angola', '1246700.00', 'AO', 'AGO']\n",
      "['Anguilla', '96.00', 'AI', 'AIA']\n",
      "['Antarctica', '13120000.00', 'AQ', 'ATA']\n",
      "['Antigua and Barbuda', '442.00', 'AG', 'ATG']\n",
      "['Argentina', '2780400.00', 'AR', 'ARG']\n",
      "['Armenia', '29800.00', 'AM', 'ARM']\n",
      "['Aruba', '193.00', 'AW', 'ABW']\n",
      "['Australia', '7741220.00', 'AU', 'AUS']\n",
      "['Austria', '83859.00', 'AT', 'AUT']\n",
      "['Azerbaijan', '86600.00', 'AZ', 'AZE']\n",
      "['Bahamas', '13878.00', 'BS', 'BHS']\n",
      "['Bahrain', '694.00', 'BH', 'BHR']\n",
      "['Bangladesh', '143998.00', 'BD', 'BGD']\n",
      "['Barbados', '430.00', 'BB', 'BRB']\n",
      "['Belarus', '207600.00', 'BY', 'BLR']\n",
      "['Belgium', '30518.00', 'BE', 'BEL']\n",
      "['Belize', '22696.00', 'BZ', 'BLZ']\n",
      "['Benin', '112622.00', 'BJ', 'BEN']\n",
      "['Bermuda', '53.00', 'BM', 'BMU']\n",
      "['Bhutan', '47000.00', 'BT', 'BTN']\n",
      "['Bolivia', '1098581.00', 'BO', 'BOL']\n",
      "['Bosnia and Herzegovina', '51197.00', 'BA', 'BIH']\n",
      "['Botswana', '581730.00', 'BW', 'BWA']\n",
      "['Bouvet Island', '59.00', 'BV', 'BVT']\n",
      "['Brazil', '8547403.00', 'BR', 'BRA']\n",
      "['British Indian Ocean Territory', '78.00', 'IO', 'IOT']\n",
      "['Brunei', '5765.00', 'BN', 'BRN']\n",
      "['Bulgaria', '110994.00', 'BG', 'BGR']\n",
      "['Burkina Faso', '274000.00', 'BF', 'BFA']\n",
      "['Burundi', '27834.00', 'BI', 'BDI']\n",
      "['Cambodia', '181035.00', 'KH', 'KHM']\n",
      "['Cameroon', '475442.00', 'CM', 'CMR']\n",
      "['Canada', '9970610.00', 'CA', 'CAN']\n",
      "['Cape Verde', '4033.00', 'CV', 'CPV']\n",
      "['Cayman Islands', '264.00', 'KY', 'CYM']\n",
      "['Central African Republic', '622984.00', 'CF', 'CAF']\n",
      "['Chad', '1284000.00', 'TD', 'TCD']\n",
      "['Chile', '756626.00', 'CL', 'CHL']\n",
      "['China', '9572900.00', 'CN', 'CHN']\n",
      "['Christmas Island', '135.00', 'CX', 'CXR']\n",
      "['Cocos (Keeling) Islands', '14.00', 'CC', 'CCK']\n",
      "['Colombia', '1138914.00', 'CO', 'COL']\n",
      "['Comoros', '1862.00', 'KM', 'COM']\n",
      "['Congo', '342000.00', 'CG', 'COG']\n",
      "['Cook Islands', '236.00', 'CK', 'COK']\n",
      "['Costa Rica', '51100.00', 'CR', 'CRI']\n",
      "['Côte d’Ivoire', '322463.00', 'CI', 'CIV']\n",
      "['Croatia', '56538.00', 'HR', 'HRV']\n",
      "['Cuba', '110861.00', 'CU', 'CUB']\n",
      "['Cyprus', '9251.00', 'CY', 'CYP']\n",
      "['Czech Republic', '78866.00', 'CZ', 'CZE']\n",
      "['Denmark', '43094.00', 'DK', 'DNK']\n",
      "['Djibouti', '23200.00', 'DJ', 'DJI']\n",
      "['Dominica', '751.00', 'DM', 'DMA']\n",
      "['Dominican Republic', '48511.00', 'DO', 'DOM']\n",
      "['East Timor', '14874.00', 'TP', 'TMP']\n",
      "['Ecuador', '283561.00', 'EC', 'ECU']\n",
      "['Egypt', '1001449.00', 'EG', 'EGY']\n",
      "['El Salvador', '21041.00', 'SV', 'SLV']\n",
      "['Equatorial Guinea', '28051.00', 'GQ', 'GNQ']\n",
      "['Eritrea', '117600.00', 'ER', 'ERI']\n",
      "['Estonia', '45227.00', 'EE', 'EST']\n",
      "['Ethiopia', '1104300.00', 'ET', 'ETH']\n",
      "['Falkland Islands', '12173.00', 'FK', 'FLK']\n",
      "['Faroe Islands', '1399.00', 'FO', 'FRO']\n",
      "['Federated States of Micronesia', '702.00', 'FM', 'FSM']\n",
      "['Fiji Islands', '18274.00', 'FJ', 'FJI']\n",
      "['Finland', '338145.00', 'FI', 'FIN']\n",
      "['France', '551500.00', 'FR', 'FRA']\n",
      "['French Guiana', '90000.00', 'GF', 'GUF']\n",
      "['French Polynesia', '4000.00', 'PF', 'PYF']\n",
      "['French Southern territories', '7780.00', 'TF', 'ATF']\n",
      "['Gabon', '267668.00', 'GA', 'GAB']\n",
      "['Gambia', '11295.00', 'GM', 'GMB']\n",
      "['Georgia', '69700.00', 'GE', 'GEO']\n",
      "['Germany', '357022.00', 'DE', 'DEU']\n",
      "['Ghana', '238533.00', 'GH', 'GHA']\n",
      "['Gibraltar', '6.00', 'GI', 'GIB']\n",
      "['Greece', '131626.00', 'GR', 'GRC']\n",
      "['Greenland', '2166090.00', 'GL', 'GRL']\n",
      "['Grenada', '344.00', 'GD', 'GRD']\n",
      "['Guadeloupe', '1705.00', 'GP', 'GLP']\n",
      "['Guam', '549.00', 'GU', 'GUM']\n",
      "['Guatemala', '108889.00', 'GT', 'GTM']\n",
      "['Guinea', '245857.00', 'GN', 'GIN']\n",
      "['Guinea-Bissau', '36125.00', 'GW', 'GNB']\n",
      "['Guyana', '214969.00', 'GY', 'GUY']\n",
      "['Haiti', '27750.00', 'HT', 'HTI']\n",
      "['Heard Island and McDonald Islands', '359.00', 'HM', 'HMD']\n",
      "['Holy See (Vatican City State)', '0.40', 'VA', 'VAT']\n",
      "['Honduras', '112088.00', 'HN', 'HND']\n",
      "['Hong Kong', '1075.00', 'HK', 'HKG']\n",
      "['Hungary', '93030.00', 'HU', 'HUN']\n",
      "['Iceland', '103000.00', 'IS', 'ISL']\n",
      "['India', '3287263.00', 'IN', 'IND']\n",
      "['Indonesia', '1904569.00', 'ID', 'IDN']\n",
      "['Iran', '1648195.00', 'IR', 'IRN']\n",
      "['Iraq', '438317.00', 'IQ', 'IRQ']\n",
      "['Ireland', '70273.00', 'IE', 'IRL']\n",
      "['Israel', '21056.00', 'IL', 'ISR']\n",
      "['Italy', '301316.00', 'IT', 'ITA']\n",
      "['Jamaica', '10990.00', 'JM', 'JAM']\n",
      "['Japan', '377829.00', 'JP', 'JPN']\n",
      "['Jordan', '88946.00', 'JO', 'JOR']\n",
      "['Kazakstan', '2724900.00', 'KZ', 'KAZ']\n",
      "['Kenya', '580367.00', 'KE', 'KEN']\n",
      "['Kiribati', '726.00', 'KI', 'KIR']\n",
      "['Kuwait', '17818.00', 'KW', 'KWT']\n",
      "['Kyrgyzstan', '199900.00', 'KG', 'KGZ']\n",
      "['Laos', '236800.00', 'LA', 'LAO']\n",
      "['Latvia', '64589.00', 'LV', 'LVA']\n",
      "['Lebanon', '10400.00', 'LB', 'LBN']\n",
      "['Lesotho', '30355.00', 'LS', 'LSO']\n",
      "['Liberia', '111369.00', 'LR', 'LBR']\n",
      "['Libyan Arab Jamahiriya', '1759540.00', 'LY', 'LBY']\n",
      "['Liechtenstein', '160.00', 'LI', 'LIE']\n",
      "['Lithuania', '65301.00', 'LT', 'LTU']\n",
      "['Luxembourg', '2586.00', 'LU', 'LUX']\n",
      "['Macao', '18.00', 'MO', 'MAC']\n",
      "['Macedonia', '25713.00', 'MK', 'MKD']\n",
      "['Madagascar', '587041.00', 'MG', 'MDG']\n",
      "['Malawi', '118484.00', 'MW', 'MWI']\n",
      "['Malaysia', '329758.00', 'MY', 'MYS']\n",
      "['Maldives', '298.00', 'MV', 'MDV']\n",
      "['Mali', '1240192.00', 'ML', 'MLI']\n",
      "['Malta', '316.00', 'MT', 'MLT']\n",
      "['Marshall Islands', '181.00', 'MH', 'MHL']\n",
      "['Martinique', '1102.00', 'MQ', 'MTQ']\n",
      "['Mauritania', '1025520.00', 'MR', 'MRT']\n",
      "['Mauritius', '2040.00', 'MU', 'MUS']\n",
      "['Mayotte', '373.00', 'YT', 'MYT']\n",
      "['Mexico', '1958201.00', 'MX', 'MEX']\n",
      "['Moldova', '33851.00', 'MD', 'MDA']\n",
      "['Monaco', '1.50', 'MC', 'MCO']\n",
      "['Mongolia', '1566500.00', 'MN', 'MNG']\n",
      "['Montserrat', '102.00', 'MS', 'MSR']\n",
      "['Morocco', '446550.00', 'MA', 'MAR']\n",
      "['Mozambique', '801590.00', 'MZ', 'MOZ']\n",
      "['Myanmar', '676578.00', 'MM', 'MMR']\n",
      "['Namibia', '824292.00', 'NA', 'NAM']\n",
      "['Nauru', '21.00', 'NR', 'NRU']\n",
      "['Nepal', '147181.00', 'NP', 'NPL']\n",
      "['Netherlands', '41526.00', 'NL', 'NLD']\n",
      "['Netherlands Antilles', '800.00', 'AN', 'ANT']\n",
      "['New Caledonia', '18575.00', 'NC', 'NCL']\n",
      "['New Zealand', '270534.00', 'NZ', 'NZL']\n",
      "['Nicaragua', '130000.00', 'NI', 'NIC']\n",
      "['Niger', '1267000.00', 'NE', 'NER']\n",
      "['Nigeria', '923768.00', 'NG', 'NGA']\n",
      "['Niue', '260.00', 'NU', 'NIU']\n",
      "['Norfolk Island', '36.00', 'NF', 'NFK']\n",
      "['North Korea', '120538.00', 'KP', 'PRK']\n",
      "['Northern Mariana Islands', '464.00', 'MP', 'MNP']\n",
      "['Norway', '323877.00', 'NO', 'NOR']\n",
      "['Oman', '309500.00', 'OM', 'OMN']\n",
      "['Pakistan', '796095.00', 'PK', 'PAK']\n",
      "['Palau', '459.00', 'PW', 'PLW']\n",
      "['Palestine', '6257.00', 'PS', 'PSE']\n",
      "['Panama', '75517.00', 'PA', 'PAN']\n",
      "['Papua New Guinea', '462840.00', 'PG', 'PNG']\n",
      "['Paraguay', '406752.00', 'PY', 'PRY']\n",
      "['Peru', '1285216.00', 'PE', 'PER']\n",
      "['Philippines', '300000.00', 'PH', 'PHL']\n",
      "['Pitcairn', '49.00', 'PN', 'PCN']\n",
      "['Poland', '323250.00', 'PL', 'POL']\n",
      "['Portugal', '91982.00', 'PT', 'PRT']\n",
      "['Puerto Rico', '8875.00', 'PR', 'PRI']\n",
      "['Qatar', '11000.00', 'QA', 'QAT']\n",
      "['Réunion', '2510.00', 'RE', 'REU']\n",
      "['Romania', '238391.00', 'RO', 'ROM']\n",
      "['Russian Federation', '17075400.00', 'RU', 'RUS']\n",
      "['Rwanda', '26338.00', 'RW', 'RWA']\n",
      "['Saint Helena', '314.00', 'SH', 'SHN']\n",
      "['Saint Kitts and Nevis', '261.00', 'KN', 'KNA']\n",
      "['Saint Lucia', '622.00', 'LC', 'LCA']\n",
      "['Saint Pierre and Miquelon', '242.00', 'PM', 'SPM']\n",
      "['Saint Vincent and the Grenadines', '388.00', 'VC', 'VCT']\n",
      "['Samoa', '2831.00', 'WS', 'WSM']\n",
      "['San Marino', '61.00', 'SM', 'SMR']\n",
      "['Sao Tome and Principe', '964.00', 'ST', 'STP']\n",
      "['Saudi Arabia', '2149690.00', 'SA', 'SAU']\n",
      "['Senegal', '196722.00', 'SN', 'SEN']\n",
      "['Seychelles', '455.00', 'SC', 'SYC']\n",
      "['Sierra Leone', '71740.00', 'SL', 'SLE']\n",
      "['Singapore', '618.00', 'SG', 'SGP']\n",
      "['Slovakia', '49012.00', 'SK', 'SVK']\n",
      "['Slovenia', '20256.00', 'SI', 'SVN']\n",
      "['Solomon Islands', '28896.00', 'SB', 'SLB']\n",
      "['Somalia', '637657.00', 'SO', 'SOM']\n",
      "['South Africa', '1221037.00', 'ZA', 'ZAF']\n",
      "['South Georgia and the South Sandwich Islands', '3903.00', 'GS', 'SGS']\n",
      "['South Korea', '99434.00', 'KR', 'KOR']\n",
      "['Spain', '505992.00', 'ES', 'ESP']\n",
      "['Sri Lanka', '65610.00', 'LK', 'LKA']\n",
      "['Sudan', '2505813.00', 'SD', 'SDN']\n",
      "['Suriname', '163265.00', 'SR', 'SUR']\n",
      "['Svalbard and Jan Mayen', '62422.00', 'SJ', 'SJM']\n",
      "['Swaziland', '17364.00', 'SZ', 'SWZ']\n",
      "['Sweden', '449964.00', 'SE', 'SWE']\n",
      "['Switzerland', '41284.00', 'CH', 'CHE']\n",
      "['Syria', '185180.00', 'SY', 'SYR']\n",
      "['Taiwan', '36188.00', 'TW', 'TWN']\n",
      "['Tajikistan', '143100.00', 'TJ', 'TJK']\n",
      "['Tanzania', '883749.00', 'TZ', 'TZA']\n",
      "['Thailand', '513115.00', 'TH', 'THA']\n",
      "['The Democratic Republic of the Congo', '2344858.00', 'CD', 'COD']\n",
      "['Togo', '56785.00', 'TG', 'TGO']\n",
      "['Tokelau', '12.00', 'TK', 'TKL']\n",
      "['Tonga', '650.00', 'TO', 'TON']\n",
      "['Trinidad and Tobago', '5130.00', 'TT', 'TTO']\n",
      "['Tunisia', '163610.00', 'TN', 'TUN']\n",
      "['Turkey', '774815.00', 'TR', 'TUR']\n",
      "['Turkmenistan', '488100.00', 'TM', 'TKM']\n",
      "['Turks and Caicos Islands', '430.00', 'TC', 'TCA']\n",
      "['Tuvalu', '26.00', 'TV', 'TUV']\n",
      "['Uganda', '241038.00', 'UG', 'UGA']\n",
      "['Ukraine', '603700.00', 'UA', 'UKR']\n",
      "['United Arab Emirates', '83600.00', 'AE', 'ARE']\n",
      "['United Kingdom', '242900.00', 'GB', 'GBR']\n",
      "['United States', '9363520.00', 'US', 'USA']\n",
      "['United States Minor Outlying Islands', '16.00', 'UM', 'UMI']\n",
      "['Uruguay', '175016.00', 'UY', 'URY']\n",
      "['Uzbekistan', '447400.00', 'UZ', 'UZB']\n",
      "['Vanuatu', '12189.00', 'VU', 'VUT']\n",
      "['Venezuela', '912050.00', 'VE', 'VEN']\n",
      "['Vietnam', '331689.00', 'VN', 'VNM']\n",
      "['Virgin Islands, British', '151.00', 'VG', 'VGB']\n",
      "['Virgin Islands, U.S.', '347.00', 'VI', 'VIR']\n",
      "['Wallis and Futuna', '200.00', 'WF', 'WLF']\n",
      "['Western Sahara', '266000.00', 'EH', 'ESH']\n",
      "['Yemen', '527968.00', 'YE', 'YEM']\n",
      "['Yugoslavia', '102173.00', 'YU', 'YUG']\n",
      "['Zambia', '752618.00', 'ZM', 'ZMB']\n",
      "['Zimbabwe', '390757.00', 'ZW', 'ZWE']\n"
     ]
    }
   ],
   "source": [
    "import csv\n",
    "\n",
    "with open('country.csv', encoding=\"utf8\") as f:\n",
    "    csv_reader = csv.reader(f)\n",
    "\n",
    "    # skip the first row\n",
    "    next(csv_reader)\n",
    "\n",
    "    # show the data\n",
    "    for line in csv_reader:\n",
    "        print(line)\n"
   ]
  },
  {
   "cell_type": "code",
   "execution_count": 47,
   "metadata": {},
   "outputs": [
    {
     "name": "stdout",
     "output_type": "stream",
     "text": [
      "148956306.9\n"
     ]
    }
   ],
   "source": [
    "import csv\n",
    "\n",
    "total_area = 0\n",
    "\n",
    "# calculate the total area of all countries\n",
    "\n",
    "with open('country.csv', encoding=\"utf8\") as f:\n",
    "    csv_reader = csv.reader(f)\n",
    "\n",
    "    # skip the header\n",
    "    next(csv_reader)\n",
    "\n",
    "    # calculate total\n",
    "    for line in csv_reader:\n",
    "        total_area += float(line[1])\n",
    "\n",
    "print(total_area)"
   ]
  },
  {
   "cell_type": "markdown",
   "metadata": {},
   "source": [
    "Using DictReader class"
   ]
  },
  {
   "cell_type": "code",
   "execution_count": 48,
   "metadata": {},
   "outputs": [
    {
     "name": "stdout",
     "output_type": "stream",
     "text": [
      "The area of Albania is 28748.00 km2\n",
      "The area of Algeria is 2381741.00 km2\n",
      "The area of American Samoa is 199.00 km2\n",
      "The area of Andorra is 468.00 km2\n",
      "The area of Angola is 1246700.00 km2\n",
      "The area of Anguilla is 96.00 km2\n",
      "The area of Antarctica is 13120000.00 km2\n",
      "The area of Antigua and Barbuda is 442.00 km2\n",
      "The area of Argentina is 2780400.00 km2\n",
      "The area of Armenia is 29800.00 km2\n",
      "The area of Aruba is 193.00 km2\n",
      "The area of Australia is 7741220.00 km2\n",
      "The area of Austria is 83859.00 km2\n",
      "The area of Azerbaijan is 86600.00 km2\n",
      "The area of Bahamas is 13878.00 km2\n",
      "The area of Bahrain is 694.00 km2\n",
      "The area of Bangladesh is 143998.00 km2\n",
      "The area of Barbados is 430.00 km2\n",
      "The area of Belarus is 207600.00 km2\n",
      "The area of Belgium is 30518.00 km2\n",
      "The area of Belize is 22696.00 km2\n",
      "The area of Benin is 112622.00 km2\n",
      "The area of Bermuda is 53.00 km2\n",
      "The area of Bhutan is 47000.00 km2\n",
      "The area of Bolivia is 1098581.00 km2\n",
      "The area of Bosnia and Herzegovina is 51197.00 km2\n",
      "The area of Botswana is 581730.00 km2\n",
      "The area of Bouvet Island is 59.00 km2\n",
      "The area of Brazil is 8547403.00 km2\n",
      "The area of British Indian Ocean Territory is 78.00 km2\n",
      "The area of Brunei is 5765.00 km2\n",
      "The area of Bulgaria is 110994.00 km2\n",
      "The area of Burkina Faso is 274000.00 km2\n",
      "The area of Burundi is 27834.00 km2\n",
      "The area of Cambodia is 181035.00 km2\n",
      "The area of Cameroon is 475442.00 km2\n",
      "The area of Canada is 9970610.00 km2\n",
      "The area of Cape Verde is 4033.00 km2\n",
      "The area of Cayman Islands is 264.00 km2\n",
      "The area of Central African Republic is 622984.00 km2\n",
      "The area of Chad is 1284000.00 km2\n",
      "The area of Chile is 756626.00 km2\n",
      "The area of China is 9572900.00 km2\n",
      "The area of Christmas Island is 135.00 km2\n",
      "The area of Cocos (Keeling) Islands is 14.00 km2\n",
      "The area of Colombia is 1138914.00 km2\n",
      "The area of Comoros is 1862.00 km2\n",
      "The area of Congo is 342000.00 km2\n",
      "The area of Cook Islands is 236.00 km2\n",
      "The area of Costa Rica is 51100.00 km2\n",
      "The area of Côte d’Ivoire is 322463.00 km2\n",
      "The area of Croatia is 56538.00 km2\n",
      "The area of Cuba is 110861.00 km2\n",
      "The area of Cyprus is 9251.00 km2\n",
      "The area of Czech Republic is 78866.00 km2\n",
      "The area of Denmark is 43094.00 km2\n",
      "The area of Djibouti is 23200.00 km2\n",
      "The area of Dominica is 751.00 km2\n",
      "The area of Dominican Republic is 48511.00 km2\n",
      "The area of East Timor is 14874.00 km2\n",
      "The area of Ecuador is 283561.00 km2\n",
      "The area of Egypt is 1001449.00 km2\n",
      "The area of El Salvador is 21041.00 km2\n",
      "The area of Equatorial Guinea is 28051.00 km2\n",
      "The area of Eritrea is 117600.00 km2\n",
      "The area of Estonia is 45227.00 km2\n",
      "The area of Ethiopia is 1104300.00 km2\n",
      "The area of Falkland Islands is 12173.00 km2\n",
      "The area of Faroe Islands is 1399.00 km2\n",
      "The area of Federated States of Micronesia is 702.00 km2\n",
      "The area of Fiji Islands is 18274.00 km2\n",
      "The area of Finland is 338145.00 km2\n",
      "The area of France is 551500.00 km2\n",
      "The area of French Guiana is 90000.00 km2\n",
      "The area of French Polynesia is 4000.00 km2\n",
      "The area of French Southern territories is 7780.00 km2\n",
      "The area of Gabon is 267668.00 km2\n",
      "The area of Gambia is 11295.00 km2\n",
      "The area of Georgia is 69700.00 km2\n",
      "The area of Germany is 357022.00 km2\n",
      "The area of Ghana is 238533.00 km2\n",
      "The area of Gibraltar is 6.00 km2\n",
      "The area of Greece is 131626.00 km2\n",
      "The area of Greenland is 2166090.00 km2\n",
      "The area of Grenada is 344.00 km2\n",
      "The area of Guadeloupe is 1705.00 km2\n",
      "The area of Guam is 549.00 km2\n",
      "The area of Guatemala is 108889.00 km2\n",
      "The area of Guinea is 245857.00 km2\n",
      "The area of Guinea-Bissau is 36125.00 km2\n",
      "The area of Guyana is 214969.00 km2\n",
      "The area of Haiti is 27750.00 km2\n",
      "The area of Heard Island and McDonald Islands is 359.00 km2\n",
      "The area of Holy See (Vatican City State) is 0.40 km2\n",
      "The area of Honduras is 112088.00 km2\n",
      "The area of Hong Kong is 1075.00 km2\n",
      "The area of Hungary is 93030.00 km2\n",
      "The area of Iceland is 103000.00 km2\n",
      "The area of India is 3287263.00 km2\n",
      "The area of Indonesia is 1904569.00 km2\n",
      "The area of Iran is 1648195.00 km2\n",
      "The area of Iraq is 438317.00 km2\n",
      "The area of Ireland is 70273.00 km2\n",
      "The area of Israel is 21056.00 km2\n",
      "The area of Italy is 301316.00 km2\n",
      "The area of Jamaica is 10990.00 km2\n",
      "The area of Japan is 377829.00 km2\n",
      "The area of Jordan is 88946.00 km2\n",
      "The area of Kazakstan is 2724900.00 km2\n",
      "The area of Kenya is 580367.00 km2\n",
      "The area of Kiribati is 726.00 km2\n",
      "The area of Kuwait is 17818.00 km2\n",
      "The area of Kyrgyzstan is 199900.00 km2\n",
      "The area of Laos is 236800.00 km2\n",
      "The area of Latvia is 64589.00 km2\n",
      "The area of Lebanon is 10400.00 km2\n",
      "The area of Lesotho is 30355.00 km2\n",
      "The area of Liberia is 111369.00 km2\n",
      "The area of Libyan Arab Jamahiriya is 1759540.00 km2\n",
      "The area of Liechtenstein is 160.00 km2\n",
      "The area of Lithuania is 65301.00 km2\n",
      "The area of Luxembourg is 2586.00 km2\n",
      "The area of Macao is 18.00 km2\n",
      "The area of Macedonia is 25713.00 km2\n",
      "The area of Madagascar is 587041.00 km2\n",
      "The area of Malawi is 118484.00 km2\n",
      "The area of Malaysia is 329758.00 km2\n",
      "The area of Maldives is 298.00 km2\n",
      "The area of Mali is 1240192.00 km2\n",
      "The area of Malta is 316.00 km2\n",
      "The area of Marshall Islands is 181.00 km2\n",
      "The area of Martinique is 1102.00 km2\n",
      "The area of Mauritania is 1025520.00 km2\n",
      "The area of Mauritius is 2040.00 km2\n",
      "The area of Mayotte is 373.00 km2\n",
      "The area of Mexico is 1958201.00 km2\n",
      "The area of Moldova is 33851.00 km2\n",
      "The area of Monaco is 1.50 km2\n",
      "The area of Mongolia is 1566500.00 km2\n",
      "The area of Montserrat is 102.00 km2\n",
      "The area of Morocco is 446550.00 km2\n",
      "The area of Mozambique is 801590.00 km2\n",
      "The area of Myanmar is 676578.00 km2\n",
      "The area of Namibia is 824292.00 km2\n",
      "The area of Nauru is 21.00 km2\n",
      "The area of Nepal is 147181.00 km2\n",
      "The area of Netherlands is 41526.00 km2\n",
      "The area of Netherlands Antilles is 800.00 km2\n",
      "The area of New Caledonia is 18575.00 km2\n",
      "The area of New Zealand is 270534.00 km2\n",
      "The area of Nicaragua is 130000.00 km2\n",
      "The area of Niger is 1267000.00 km2\n",
      "The area of Nigeria is 923768.00 km2\n",
      "The area of Niue is 260.00 km2\n",
      "The area of Norfolk Island is 36.00 km2\n",
      "The area of North Korea is 120538.00 km2\n",
      "The area of Northern Mariana Islands is 464.00 km2\n",
      "The area of Norway is 323877.00 km2\n",
      "The area of Oman is 309500.00 km2\n",
      "The area of Pakistan is 796095.00 km2\n",
      "The area of Palau is 459.00 km2\n",
      "The area of Palestine is 6257.00 km2\n",
      "The area of Panama is 75517.00 km2\n",
      "The area of Papua New Guinea is 462840.00 km2\n",
      "The area of Paraguay is 406752.00 km2\n",
      "The area of Peru is 1285216.00 km2\n",
      "The area of Philippines is 300000.00 km2\n",
      "The area of Pitcairn is 49.00 km2\n",
      "The area of Poland is 323250.00 km2\n",
      "The area of Portugal is 91982.00 km2\n",
      "The area of Puerto Rico is 8875.00 km2\n",
      "The area of Qatar is 11000.00 km2\n",
      "The area of Réunion is 2510.00 km2\n",
      "The area of Romania is 238391.00 km2\n",
      "The area of Russian Federation is 17075400.00 km2\n",
      "The area of Rwanda is 26338.00 km2\n",
      "The area of Saint Helena is 314.00 km2\n",
      "The area of Saint Kitts and Nevis is 261.00 km2\n",
      "The area of Saint Lucia is 622.00 km2\n",
      "The area of Saint Pierre and Miquelon is 242.00 km2\n",
      "The area of Saint Vincent and the Grenadines is 388.00 km2\n",
      "The area of Samoa is 2831.00 km2\n",
      "The area of San Marino is 61.00 km2\n",
      "The area of Sao Tome and Principe is 964.00 km2\n",
      "The area of Saudi Arabia is 2149690.00 km2\n",
      "The area of Senegal is 196722.00 km2\n",
      "The area of Seychelles is 455.00 km2\n",
      "The area of Sierra Leone is 71740.00 km2\n",
      "The area of Singapore is 618.00 km2\n",
      "The area of Slovakia is 49012.00 km2\n",
      "The area of Slovenia is 20256.00 km2\n",
      "The area of Solomon Islands is 28896.00 km2\n",
      "The area of Somalia is 637657.00 km2\n",
      "The area of South Africa is 1221037.00 km2\n",
      "The area of South Georgia and the South Sandwich Islands is 3903.00 km2\n",
      "The area of South Korea is 99434.00 km2\n",
      "The area of Spain is 505992.00 km2\n",
      "The area of Sri Lanka is 65610.00 km2\n",
      "The area of Sudan is 2505813.00 km2\n",
      "The area of Suriname is 163265.00 km2\n",
      "The area of Svalbard and Jan Mayen is 62422.00 km2\n",
      "The area of Swaziland is 17364.00 km2\n",
      "The area of Sweden is 449964.00 km2\n",
      "The area of Switzerland is 41284.00 km2\n",
      "The area of Syria is 185180.00 km2\n",
      "The area of Taiwan is 36188.00 km2\n",
      "The area of Tajikistan is 143100.00 km2\n",
      "The area of Tanzania is 883749.00 km2\n",
      "The area of Thailand is 513115.00 km2\n",
      "The area of The Democratic Republic of the Congo is 2344858.00 km2\n",
      "The area of Togo is 56785.00 km2\n",
      "The area of Tokelau is 12.00 km2\n",
      "The area of Tonga is 650.00 km2\n",
      "The area of Trinidad and Tobago is 5130.00 km2\n",
      "The area of Tunisia is 163610.00 km2\n",
      "The area of Turkey is 774815.00 km2\n",
      "The area of Turkmenistan is 488100.00 km2\n",
      "The area of Turks and Caicos Islands is 430.00 km2\n",
      "The area of Tuvalu is 26.00 km2\n",
      "The area of Uganda is 241038.00 km2\n",
      "The area of Ukraine is 603700.00 km2\n",
      "The area of United Arab Emirates is 83600.00 km2\n",
      "The area of United Kingdom is 242900.00 km2\n",
      "The area of United States is 9363520.00 km2\n",
      "The area of United States Minor Outlying Islands is 16.00 km2\n",
      "The area of Uruguay is 175016.00 km2\n",
      "The area of Uzbekistan is 447400.00 km2\n",
      "The area of Vanuatu is 12189.00 km2\n",
      "The area of Venezuela is 912050.00 km2\n",
      "The area of Vietnam is 331689.00 km2\n",
      "The area of Virgin Islands, British is 151.00 km2\n",
      "The area of Virgin Islands, U.S. is 347.00 km2\n",
      "The area of Wallis and Futuna is 200.00 km2\n",
      "The area of Western Sahara is 266000.00 km2\n",
      "The area of Yemen is 527968.00 km2\n",
      "The area of Yugoslavia is 102173.00 km2\n",
      "The area of Zambia is 752618.00 km2\n",
      "The area of Zimbabwe is 390757.00 km2\n"
     ]
    }
   ],
   "source": [
    "import csv\n",
    "\n",
    "with open('country.csv', encoding=\"utf8\") as f:\n",
    "    csv_reader = csv.DictReader(f)\n",
    "    # skip the header\n",
    "    next(csv_reader)\n",
    "    # show the data\n",
    "    for line in csv_reader:\n",
    "        print(f\"The area of {line['name']} is {line['area']} km2\")\n"
   ]
  },
  {
   "cell_type": "code",
   "execution_count": 49,
   "metadata": {},
   "outputs": [
    {
     "name": "stdout",
     "output_type": "stream",
     "text": [
      "The area of Afghanistan is 652090.00 km2\n",
      "The area of Albania is 28748.00 km2\n",
      "The area of Algeria is 2381741.00 km2\n",
      "The area of American Samoa is 199.00 km2\n",
      "The area of Andorra is 468.00 km2\n",
      "The area of Angola is 1246700.00 km2\n",
      "The area of Anguilla is 96.00 km2\n",
      "The area of Antarctica is 13120000.00 km2\n",
      "The area of Antigua and Barbuda is 442.00 km2\n",
      "The area of Argentina is 2780400.00 km2\n",
      "The area of Armenia is 29800.00 km2\n",
      "The area of Aruba is 193.00 km2\n",
      "The area of Australia is 7741220.00 km2\n",
      "The area of Austria is 83859.00 km2\n",
      "The area of Azerbaijan is 86600.00 km2\n",
      "The area of Bahamas is 13878.00 km2\n",
      "The area of Bahrain is 694.00 km2\n",
      "The area of Bangladesh is 143998.00 km2\n",
      "The area of Barbados is 430.00 km2\n",
      "The area of Belarus is 207600.00 km2\n",
      "The area of Belgium is 30518.00 km2\n",
      "The area of Belize is 22696.00 km2\n",
      "The area of Benin is 112622.00 km2\n",
      "The area of Bermuda is 53.00 km2\n",
      "The area of Bhutan is 47000.00 km2\n",
      "The area of Bolivia is 1098581.00 km2\n",
      "The area of Bosnia and Herzegovina is 51197.00 km2\n",
      "The area of Botswana is 581730.00 km2\n",
      "The area of Bouvet Island is 59.00 km2\n",
      "The area of Brazil is 8547403.00 km2\n",
      "The area of British Indian Ocean Territory is 78.00 km2\n",
      "The area of Brunei is 5765.00 km2\n",
      "The area of Bulgaria is 110994.00 km2\n",
      "The area of Burkina Faso is 274000.00 km2\n",
      "The area of Burundi is 27834.00 km2\n",
      "The area of Cambodia is 181035.00 km2\n",
      "The area of Cameroon is 475442.00 km2\n",
      "The area of Canada is 9970610.00 km2\n",
      "The area of Cape Verde is 4033.00 km2\n",
      "The area of Cayman Islands is 264.00 km2\n",
      "The area of Central African Republic is 622984.00 km2\n",
      "The area of Chad is 1284000.00 km2\n",
      "The area of Chile is 756626.00 km2\n",
      "The area of China is 9572900.00 km2\n",
      "The area of Christmas Island is 135.00 km2\n",
      "The area of Cocos (Keeling) Islands is 14.00 km2\n",
      "The area of Colombia is 1138914.00 km2\n",
      "The area of Comoros is 1862.00 km2\n",
      "The area of Congo is 342000.00 km2\n",
      "The area of Cook Islands is 236.00 km2\n",
      "The area of Costa Rica is 51100.00 km2\n",
      "The area of Côte d’Ivoire is 322463.00 km2\n",
      "The area of Croatia is 56538.00 km2\n",
      "The area of Cuba is 110861.00 km2\n",
      "The area of Cyprus is 9251.00 km2\n",
      "The area of Czech Republic is 78866.00 km2\n",
      "The area of Denmark is 43094.00 km2\n",
      "The area of Djibouti is 23200.00 km2\n",
      "The area of Dominica is 751.00 km2\n",
      "The area of Dominican Republic is 48511.00 km2\n",
      "The area of East Timor is 14874.00 km2\n",
      "The area of Ecuador is 283561.00 km2\n",
      "The area of Egypt is 1001449.00 km2\n",
      "The area of El Salvador is 21041.00 km2\n",
      "The area of Equatorial Guinea is 28051.00 km2\n",
      "The area of Eritrea is 117600.00 km2\n",
      "The area of Estonia is 45227.00 km2\n",
      "The area of Ethiopia is 1104300.00 km2\n",
      "The area of Falkland Islands is 12173.00 km2\n",
      "The area of Faroe Islands is 1399.00 km2\n",
      "The area of Federated States of Micronesia is 702.00 km2\n",
      "The area of Fiji Islands is 18274.00 km2\n",
      "The area of Finland is 338145.00 km2\n",
      "The area of France is 551500.00 km2\n",
      "The area of French Guiana is 90000.00 km2\n",
      "The area of French Polynesia is 4000.00 km2\n",
      "The area of French Southern territories is 7780.00 km2\n",
      "The area of Gabon is 267668.00 km2\n",
      "The area of Gambia is 11295.00 km2\n",
      "The area of Georgia is 69700.00 km2\n",
      "The area of Germany is 357022.00 km2\n",
      "The area of Ghana is 238533.00 km2\n",
      "The area of Gibraltar is 6.00 km2\n",
      "The area of Greece is 131626.00 km2\n",
      "The area of Greenland is 2166090.00 km2\n",
      "The area of Grenada is 344.00 km2\n",
      "The area of Guadeloupe is 1705.00 km2\n",
      "The area of Guam is 549.00 km2\n",
      "The area of Guatemala is 108889.00 km2\n",
      "The area of Guinea is 245857.00 km2\n",
      "The area of Guinea-Bissau is 36125.00 km2\n",
      "The area of Guyana is 214969.00 km2\n",
      "The area of Haiti is 27750.00 km2\n",
      "The area of Heard Island and McDonald Islands is 359.00 km2\n",
      "The area of Holy See (Vatican City State) is 0.40 km2\n",
      "The area of Honduras is 112088.00 km2\n",
      "The area of Hong Kong is 1075.00 km2\n",
      "The area of Hungary is 93030.00 km2\n",
      "The area of Iceland is 103000.00 km2\n",
      "The area of India is 3287263.00 km2\n",
      "The area of Indonesia is 1904569.00 km2\n",
      "The area of Iran is 1648195.00 km2\n",
      "The area of Iraq is 438317.00 km2\n",
      "The area of Ireland is 70273.00 km2\n",
      "The area of Israel is 21056.00 km2\n",
      "The area of Italy is 301316.00 km2\n",
      "The area of Jamaica is 10990.00 km2\n",
      "The area of Japan is 377829.00 km2\n",
      "The area of Jordan is 88946.00 km2\n",
      "The area of Kazakstan is 2724900.00 km2\n",
      "The area of Kenya is 580367.00 km2\n",
      "The area of Kiribati is 726.00 km2\n",
      "The area of Kuwait is 17818.00 km2\n",
      "The area of Kyrgyzstan is 199900.00 km2\n",
      "The area of Laos is 236800.00 km2\n",
      "The area of Latvia is 64589.00 km2\n",
      "The area of Lebanon is 10400.00 km2\n",
      "The area of Lesotho is 30355.00 km2\n",
      "The area of Liberia is 111369.00 km2\n",
      "The area of Libyan Arab Jamahiriya is 1759540.00 km2\n",
      "The area of Liechtenstein is 160.00 km2\n",
      "The area of Lithuania is 65301.00 km2\n",
      "The area of Luxembourg is 2586.00 km2\n",
      "The area of Macao is 18.00 km2\n",
      "The area of Macedonia is 25713.00 km2\n",
      "The area of Madagascar is 587041.00 km2\n",
      "The area of Malawi is 118484.00 km2\n",
      "The area of Malaysia is 329758.00 km2\n",
      "The area of Maldives is 298.00 km2\n",
      "The area of Mali is 1240192.00 km2\n",
      "The area of Malta is 316.00 km2\n",
      "The area of Marshall Islands is 181.00 km2\n",
      "The area of Martinique is 1102.00 km2\n",
      "The area of Mauritania is 1025520.00 km2\n",
      "The area of Mauritius is 2040.00 km2\n",
      "The area of Mayotte is 373.00 km2\n",
      "The area of Mexico is 1958201.00 km2\n",
      "The area of Moldova is 33851.00 km2\n",
      "The area of Monaco is 1.50 km2\n",
      "The area of Mongolia is 1566500.00 km2\n",
      "The area of Montserrat is 102.00 km2\n",
      "The area of Morocco is 446550.00 km2\n",
      "The area of Mozambique is 801590.00 km2\n",
      "The area of Myanmar is 676578.00 km2\n",
      "The area of Namibia is 824292.00 km2\n",
      "The area of Nauru is 21.00 km2\n",
      "The area of Nepal is 147181.00 km2\n",
      "The area of Netherlands is 41526.00 km2\n",
      "The area of Netherlands Antilles is 800.00 km2\n",
      "The area of New Caledonia is 18575.00 km2\n",
      "The area of New Zealand is 270534.00 km2\n",
      "The area of Nicaragua is 130000.00 km2\n",
      "The area of Niger is 1267000.00 km2\n",
      "The area of Nigeria is 923768.00 km2\n",
      "The area of Niue is 260.00 km2\n",
      "The area of Norfolk Island is 36.00 km2\n",
      "The area of North Korea is 120538.00 km2\n",
      "The area of Northern Mariana Islands is 464.00 km2\n",
      "The area of Norway is 323877.00 km2\n",
      "The area of Oman is 309500.00 km2\n",
      "The area of Pakistan is 796095.00 km2\n",
      "The area of Palau is 459.00 km2\n",
      "The area of Palestine is 6257.00 km2\n",
      "The area of Panama is 75517.00 km2\n",
      "The area of Papua New Guinea is 462840.00 km2\n",
      "The area of Paraguay is 406752.00 km2\n",
      "The area of Peru is 1285216.00 km2\n",
      "The area of Philippines is 300000.00 km2\n",
      "The area of Pitcairn is 49.00 km2\n",
      "The area of Poland is 323250.00 km2\n",
      "The area of Portugal is 91982.00 km2\n",
      "The area of Puerto Rico is 8875.00 km2\n",
      "The area of Qatar is 11000.00 km2\n",
      "The area of Réunion is 2510.00 km2\n",
      "The area of Romania is 238391.00 km2\n",
      "The area of Russian Federation is 17075400.00 km2\n",
      "The area of Rwanda is 26338.00 km2\n",
      "The area of Saint Helena is 314.00 km2\n",
      "The area of Saint Kitts and Nevis is 261.00 km2\n",
      "The area of Saint Lucia is 622.00 km2\n",
      "The area of Saint Pierre and Miquelon is 242.00 km2\n",
      "The area of Saint Vincent and the Grenadines is 388.00 km2\n",
      "The area of Samoa is 2831.00 km2\n",
      "The area of San Marino is 61.00 km2\n",
      "The area of Sao Tome and Principe is 964.00 km2\n",
      "The area of Saudi Arabia is 2149690.00 km2\n",
      "The area of Senegal is 196722.00 km2\n",
      "The area of Seychelles is 455.00 km2\n",
      "The area of Sierra Leone is 71740.00 km2\n",
      "The area of Singapore is 618.00 km2\n",
      "The area of Slovakia is 49012.00 km2\n",
      "The area of Slovenia is 20256.00 km2\n",
      "The area of Solomon Islands is 28896.00 km2\n",
      "The area of Somalia is 637657.00 km2\n",
      "The area of South Africa is 1221037.00 km2\n",
      "The area of South Georgia and the South Sandwich Islands is 3903.00 km2\n",
      "The area of South Korea is 99434.00 km2\n",
      "The area of Spain is 505992.00 km2\n",
      "The area of Sri Lanka is 65610.00 km2\n",
      "The area of Sudan is 2505813.00 km2\n",
      "The area of Suriname is 163265.00 km2\n",
      "The area of Svalbard and Jan Mayen is 62422.00 km2\n",
      "The area of Swaziland is 17364.00 km2\n",
      "The area of Sweden is 449964.00 km2\n",
      "The area of Switzerland is 41284.00 km2\n",
      "The area of Syria is 185180.00 km2\n",
      "The area of Taiwan is 36188.00 km2\n",
      "The area of Tajikistan is 143100.00 km2\n",
      "The area of Tanzania is 883749.00 km2\n",
      "The area of Thailand is 513115.00 km2\n",
      "The area of The Democratic Republic of the Congo is 2344858.00 km2\n",
      "The area of Togo is 56785.00 km2\n",
      "The area of Tokelau is 12.00 km2\n",
      "The area of Tonga is 650.00 km2\n",
      "The area of Trinidad and Tobago is 5130.00 km2\n",
      "The area of Tunisia is 163610.00 km2\n",
      "The area of Turkey is 774815.00 km2\n",
      "The area of Turkmenistan is 488100.00 km2\n",
      "The area of Turks and Caicos Islands is 430.00 km2\n",
      "The area of Tuvalu is 26.00 km2\n",
      "The area of Uganda is 241038.00 km2\n",
      "The area of Ukraine is 603700.00 km2\n",
      "The area of United Arab Emirates is 83600.00 km2\n",
      "The area of United Kingdom is 242900.00 km2\n",
      "The area of United States is 9363520.00 km2\n",
      "The area of United States Minor Outlying Islands is 16.00 km2\n",
      "The area of Uruguay is 175016.00 km2\n",
      "The area of Uzbekistan is 447400.00 km2\n",
      "The area of Vanuatu is 12189.00 km2\n",
      "The area of Venezuela is 912050.00 km2\n",
      "The area of Vietnam is 331689.00 km2\n",
      "The area of Virgin Islands, British is 151.00 km2\n",
      "The area of Virgin Islands, U.S. is 347.00 km2\n",
      "The area of Wallis and Futuna is 200.00 km2\n",
      "The area of Western Sahara is 266000.00 km2\n",
      "The area of Yemen is 527968.00 km2\n",
      "The area of Yugoslavia is 102173.00 km2\n",
      "The area of Zambia is 752618.00 km2\n",
      "The area of Zimbabwe is 390757.00 km2\n"
     ]
    }
   ],
   "source": [
    "import csv\n",
    "\n",
    "fieldnames = ['country_name', 'area', 'code2', 'code3']\n",
    "\n",
    "with open('country.csv', encoding=\"utf8\") as f:\n",
    "    csv_reader = csv.DictReader(f, fieldnames)\n",
    "    next(csv_reader)\n",
    "    for line in csv_reader:\n",
    "        print(f\"The area of {line['country_name']} is {line['area']} km2\")\n"
   ]
  },
  {
   "cell_type": "markdown",
   "metadata": {},
   "source": [
    "#### Write to CSV files"
   ]
  },
  {
   "cell_type": "code",
   "execution_count": 50,
   "metadata": {},
   "outputs": [],
   "source": [
    "import csv  \n",
    "\n",
    "header = ['name', 'area', 'country_code2', 'country_code3']\n",
    "data = ['Afghanistan', 652090, 'AF', 'AFG']\n",
    "\n",
    "with open('countries.csv', 'w', encoding='UTF8') as f:\n",
    "    writer = csv.writer(f)\n",
    "\n",
    "    # write the header\n",
    "    writer.writerow(header)\n",
    "\n",
    "    # write the data\n",
    "    writer.writerow(data)\n"
   ]
  },
  {
   "cell_type": "code",
   "execution_count": 51,
   "metadata": {},
   "outputs": [],
   "source": [
    "# To remove the blank line\n",
    "\n",
    "header = ['name', 'area', 'country_code2', 'country_code3']\n",
    "data = ['Afghanistan', 652090, 'AF', 'AFG']\n",
    "\n",
    "\n",
    "with open('countries.csv', 'w', encoding='UTF8', newline='') as f:\n",
    "    writer = csv.writer(f)\n",
    "\n",
    "    # write the header\n",
    "    writer.writerow(header)\n",
    "\n",
    "    # write the data\n",
    "    writer.writerow(data)"
   ]
  },
  {
   "cell_type": "code",
   "execution_count": 52,
   "metadata": {},
   "outputs": [],
   "source": [
    "# writing multiple rows\n",
    "import csv\n",
    "\n",
    "header = ['name', 'area', 'country_code2', 'country_code3']\n",
    "data = [\n",
    "    ['Albania', 28748, 'AL', 'ALB'],\n",
    "    ['Algeria', 2381741, 'DZ', 'DZA'],\n",
    "    ['American Samoa', 199, 'AS', 'ASM'],\n",
    "    ['Andorra', 468, 'AD', 'AND'],\n",
    "    ['Angola', 1246700, 'AO', 'AGO']\n",
    "]\n",
    "\n",
    "with open('countries.csv', 'w', encoding='UTF8', newline='') as f:\n",
    "    writer = csv.writer(f)\n",
    "\n",
    "    # write the header\n",
    "    writer.writerow(header)\n",
    "\n",
    "    # write multiple rows\n",
    "    writer.writerows(data)\n"
   ]
  },
  {
   "cell_type": "markdown",
   "metadata": {},
   "source": [
    "Using the DictWriter class"
   ]
  },
  {
   "cell_type": "code",
   "execution_count": 53,
   "metadata": {},
   "outputs": [],
   "source": [
    "import csv\n",
    "\n",
    "# csv header\n",
    "fieldnames = ['name', 'area', 'country_code2', 'country_code3']\n",
    "\n",
    "# csv data\n",
    "rows = [\n",
    "    {'name': 'Albania',\n",
    "    'area': 28748,\n",
    "    'country_code2': 'AL',\n",
    "    'country_code3': 'ALB'},\n",
    "    {'name': 'Algeria',\n",
    "    'area': 2381741,\n",
    "    'country_code2': 'DZ',\n",
    "    'country_code3': 'DZA'},\n",
    "    {'name': 'American Samoa',\n",
    "    'area': 199,\n",
    "    'country_code2': 'AS',\n",
    "    'country_code3': 'ASM'}\n",
    "]\n",
    "\n",
    "with open('countries.csv', 'w', encoding='UTF8', newline='') as f:\n",
    "    writer = csv.DictWriter(f, fieldnames=fieldnames)\n",
    "    writer.writeheader()\n",
    "    writer.writerows(rows)\n"
   ]
  },
  {
   "cell_type": "markdown",
   "metadata": {},
   "source": [
    "#### Renaming Files"
   ]
  },
  {
   "cell_type": "code",
   "execution_count": 54,
   "metadata": {},
   "outputs": [],
   "source": [
    "import os\n",
    "os.rename('readme.txt', 'notes.txt')"
   ]
  },
  {
   "cell_type": "code",
   "execution_count": 55,
   "metadata": {},
   "outputs": [
    {
     "name": "stdout",
     "output_type": "stream",
     "text": [
      "[WinError 2] The system cannot find the file specified: 'readme.txt' -> 'notes.txt'\n"
     ]
    }
   ],
   "source": [
    "# To avoid an error if the readme.txt doesn’t exist and/or the notes.txt file already exists\n",
    "\n",
    "try:\n",
    "    os.rename('readme.txt', 'notes.txt')\n",
    "except FileNotFoundError as e:\n",
    "    print(e)\n",
    "except FileExistsError as e:\n",
    "    print(e)"
   ]
  },
  {
   "cell_type": "markdown",
   "metadata": {},
   "source": [
    "#### Deleting Files"
   ]
  },
  {
   "cell_type": "code",
   "execution_count": 56,
   "metadata": {},
   "outputs": [
    {
     "ename": "FileNotFoundError",
     "evalue": "[WinError 2] The system cannot find the file specified: 'readme1.txt'",
     "output_type": "error",
     "traceback": [
      "\u001b[1;31m---------------------------------------------------------------------------\u001b[0m",
      "\u001b[1;31mFileNotFoundError\u001b[0m                         Traceback (most recent call last)",
      "Cell \u001b[1;32mIn[56], line 2\u001b[0m\n\u001b[0;32m      1\u001b[0m \u001b[38;5;28;01mimport\u001b[39;00m \u001b[38;5;21;01mos\u001b[39;00m\n\u001b[1;32m----> 2\u001b[0m \u001b[43mos\u001b[49m\u001b[38;5;241;43m.\u001b[39;49m\u001b[43mremove\u001b[49m\u001b[43m(\u001b[49m\u001b[38;5;124;43m'\u001b[39;49m\u001b[38;5;124;43mreadme1.txt\u001b[39;49m\u001b[38;5;124;43m'\u001b[39;49m\u001b[43m)\u001b[49m\n",
      "\u001b[1;31mFileNotFoundError\u001b[0m: [WinError 2] The system cannot find the file specified: 'readme1.txt'"
     ]
    }
   ],
   "source": [
    "import os\n",
    "os.remove('readme1.txt')"
   ]
  },
  {
   "cell_type": "code",
   "execution_count": 57,
   "metadata": {},
   "outputs": [],
   "source": [
    "# to avoid the error\n",
    "\n",
    "filename = 'readme.txt'\n",
    "if os.path.exists(filename):\n",
    "    os.remove(filename)"
   ]
  },
  {
   "cell_type": "markdown",
   "metadata": {},
   "source": [
    "### Section 13 - Working Directories"
   ]
  },
  {
   "cell_type": "markdown",
   "metadata": {},
   "source": [
    "#### Working with dirs"
   ]
  },
  {
   "cell_type": "markdown",
   "metadata": {},
   "source": [
    "Get the current working directory"
   ]
  },
  {
   "cell_type": "code",
   "execution_count": 66,
   "metadata": {},
   "outputs": [
    {
     "name": "stdout",
     "output_type": "stream",
     "text": [
      "c:\\Users\\saadsrin\\umich\\ece5831-2024-assignments\\02\n"
     ]
    }
   ],
   "source": [
    "cwd = os.getcwd()\n",
    "print(cwd)"
   ]
  },
  {
   "cell_type": "markdown",
   "metadata": {},
   "source": [
    "To change the current working directory"
   ]
  },
  {
   "cell_type": "code",
   "execution_count": 69,
   "metadata": {},
   "outputs": [
    {
     "name": "stdout",
     "output_type": "stream",
     "text": [
      "c:\\Users\\saadsrin\\umich\\ece5831-2024-assignments\\02\\sales\n",
      "c:\\Users\\saadsrin\\umich\\ece5831-2024-assignments\\02\n"
     ]
    }
   ],
   "source": [
    "os.chdir('sales')\n",
    "cwd = os.getcwd()\n",
    "print(cwd)\n",
    "\n",
    "os.chdir('..')\n",
    "cwd = os.getcwd()\n",
    "print(cwd)"
   ]
  },
  {
   "cell_type": "markdown",
   "metadata": {},
   "source": [
    "Join and split a path"
   ]
  },
  {
   "cell_type": "code",
   "execution_count": 70,
   "metadata": {},
   "outputs": [
    {
     "name": "stdout",
     "output_type": "stream",
     "text": [
      "temp\\python\n",
      "('temp', 'python')\n"
     ]
    }
   ],
   "source": [
    "fp = os.path.join('temp', 'python')\n",
    "print(fp)  # temp\\python (on Windows)\n",
    "\n",
    "pc = os.path.split(fp)\n",
    "print(pc)  # ('temp', 'python')\n"
   ]
  },
  {
   "cell_type": "markdown",
   "metadata": {},
   "source": [
    "Test if a path is a directory"
   ]
  },
  {
   "cell_type": "code",
   "execution_count": 77,
   "metadata": {},
   "outputs": [
    {
     "name": "stdout",
     "output_type": "stream",
     "text": [
      "C:\\temp\n",
      "The C:\\temp is a directory\n"
     ]
    }
   ],
   "source": [
    "dir = os.path.join(\"C:\\\\\", \"temp\")\n",
    "print(dir)\n",
    "\n",
    "if os.path.exists(dir) or os.path.isdir(dir):\n",
    "    print(f'The {dir} is a directory')"
   ]
  },
  {
   "cell_type": "markdown",
   "metadata": {},
   "source": [
    "Create a directory"
   ]
  },
  {
   "cell_type": "code",
   "execution_count": 81,
   "metadata": {},
   "outputs": [],
   "source": [
    "dir = os.path.join(r\"C:\\Users\\saadsrin\\umich\\ece5831-2024-assignments\\02\", \"temp\")\n",
    "if not os.path.exists(dir):\n",
    "    os.mkdir(dir)"
   ]
  },
  {
   "cell_type": "markdown",
   "metadata": {},
   "source": [
    "Rename a directory"
   ]
  },
  {
   "cell_type": "code",
   "execution_count": 82,
   "metadata": {},
   "outputs": [
    {
     "name": "stdout",
     "output_type": "stream",
     "text": [
      "'C:\\Users\\saadsrin\\umich\\ece5831-2024-assignments\\02\\temp' was renamed to 'C:\\Users\\saadsrin\\umich\\ece5831-2024-assignments\\02\\temp3'\n"
     ]
    }
   ],
   "source": [
    "oldpath = os.path.join(r\"C:\\Users\\saadsrin\\umich\\ece5831-2024-assignments\\02\", \"temp\")\n",
    "newpath = os.path.join(r\"C:\\Users\\saadsrin\\umich\\ece5831-2024-assignments\\02\", \"temp3\")\n",
    "\n",
    "if os.path.exists(oldpath) and not os.path.exists(newpath):\n",
    "    os.rename(oldpath, newpath)\n",
    "    print(\"'{0}' was renamed to '{1}'\".format(oldpath, newpath))\n",
    "\n",
    "if os.path.exists(oldpath) and not os.path.exists(newpath):\n",
    "    os.rename(oldpath, newpath)\n",
    "    print(\"'{0}' was renamed to '{1}'\".format(oldpath, newpath))\n"
   ]
  },
  {
   "cell_type": "markdown",
   "metadata": {},
   "source": [
    "Delete a directory"
   ]
  },
  {
   "cell_type": "code",
   "execution_count": 83,
   "metadata": {},
   "outputs": [
    {
     "name": "stdout",
     "output_type": "stream",
     "text": [
      "C:\\Users\\saadsrin\\umich\\ece5831-2024-assignments\\02\\temp3 is removed.\n"
     ]
    }
   ],
   "source": [
    "dir = os.path.join(r\"C:\\Users\\saadsrin\\umich\\ece5831-2024-assignments\\02\",\"temp3\")\n",
    "if os.path.exists(dir):\n",
    "    os.rmdir(dir)\n",
    "    print(dir + ' is removed.')"
   ]
  },
  {
   "cell_type": "markdown",
   "metadata": {},
   "source": [
    "Traverse a directory recursively"
   ]
  },
  {
   "cell_type": "code",
   "execution_count": 85,
   "metadata": {},
   "outputs": [
    {
     "name": "stdout",
     "output_type": "stream",
     "text": [
      "C:\\Users\\saadsrin\\umich\\ece5831-2024-assignments\\02 has 17 files\n",
      "C:\\Users\\saadsrin\\umich\\ece5831-2024-assignments\\02\\sales has 3 files\n",
      "C:\\Users\\saadsrin\\umich\\ece5831-2024-assignments\\02\\sales\\order has 1 files\n",
      "C:\\Users\\saadsrin\\umich\\ece5831-2024-assignments\\02\\sales\\order\\__pycache__ has 1 files\n",
      "C:\\Users\\saadsrin\\umich\\ece5831-2024-assignments\\02\\sales\\__pycache__ has 4 files\n",
      "C:\\Users\\saadsrin\\umich\\ece5831-2024-assignments\\02\\__pycache__ has 5 files\n"
     ]
    }
   ],
   "source": [
    "import os\n",
    "\n",
    "path = r\"C:\\Users\\saadsrin\\umich\\ece5831-2024-assignments\\02\"\n",
    "for root, dirs, files in os.walk(path):\n",
    "    print(\"{0} has {1} files\".format(root, len(files)))"
   ]
  },
  {
   "cell_type": "markdown",
   "metadata": {},
   "source": [
    "#### List Files in a Directory"
   ]
  },
  {
   "cell_type": "code",
   "execution_count": 88,
   "metadata": {},
   "outputs": [
    {
     "name": "stdout",
     "output_type": "stream",
     "text": [
      "C:\\Users\\saadsrin\\umich\\ece5831-2024-assignments\\02\\app.py\n",
      "C:\\Users\\saadsrin\\umich\\ece5831-2024-assignments\\02\\billing.py\n",
      "C:\\Users\\saadsrin\\umich\\ece5831-2024-assignments\\02\\pricing.py\n",
      "C:\\Users\\saadsrin\\umich\\ece5831-2024-assignments\\02\\product.py\n",
      "C:\\Users\\saadsrin\\umich\\ece5831-2024-assignments\\02\\recruitment.py\n",
      "C:\\Users\\saadsrin\\umich\\ece5831-2024-assignments\\02\\sales\\billing.py\n",
      "C:\\Users\\saadsrin\\umich\\ece5831-2024-assignments\\02\\sales\\delivery.py\n",
      "C:\\Users\\saadsrin\\umich\\ece5831-2024-assignments\\02\\sales\\__init__.py\n",
      "C:\\Users\\saadsrin\\umich\\ece5831-2024-assignments\\02\\sales\\order\\order.py\n"
     ]
    }
   ],
   "source": [
    "path = r\"C:\\Users\\saadsrin\\umich\\ece5831-2024-assignments\\02\"\n",
    "\n",
    "files = []\n",
    "\n",
    "for dirpath, dirnames, filenames in os.walk(path):\n",
    "    for filename in filenames:\n",
    "        if filename.endswith('.py'):\n",
    "            files.append(os.path.join(dirpath, filename))\n",
    "\n",
    "for file in files:\n",
    "    print(file)"
   ]
  },
  {
   "cell_type": "markdown",
   "metadata": {},
   "source": [
    "Defining a reusable list files function"
   ]
  },
  {
   "cell_type": "code",
   "execution_count": 89,
   "metadata": {},
   "outputs": [
    {
     "name": "stdout",
     "output_type": "stream",
     "text": [
      "C:\\Users\\saadsrin\\umich\\ece5831-2024-assignments\\02\\app.py\n",
      "C:\\Users\\saadsrin\\umich\\ece5831-2024-assignments\\02\\billing.py\n",
      "C:\\Users\\saadsrin\\umich\\ece5831-2024-assignments\\02\\learn-python-2.ipynb\n",
      "C:\\Users\\saadsrin\\umich\\ece5831-2024-assignments\\02\\learn-python-3.ipynb\n",
      "C:\\Users\\saadsrin\\umich\\ece5831-2024-assignments\\02\\numpy-tutorials.ipynb\n",
      "C:\\Users\\saadsrin\\umich\\ece5831-2024-assignments\\02\\pricing.py\n",
      "C:\\Users\\saadsrin\\umich\\ece5831-2024-assignments\\02\\product.py\n",
      "C:\\Users\\saadsrin\\umich\\ece5831-2024-assignments\\02\\python-tutorial-1-10.ipynb\n",
      "C:\\Users\\saadsrin\\umich\\ece5831-2024-assignments\\02\\python-tutorial-11.ipynb\n",
      "C:\\Users\\saadsrin\\umich\\ece5831-2024-assignments\\02\\python-tutorial-12-15.ipynb\n",
      "C:\\Users\\saadsrin\\umich\\ece5831-2024-assignments\\02\\recruitment.py\n",
      "C:\\Users\\saadsrin\\umich\\ece5831-2024-assignments\\02\\sales\\billing.py\n",
      "C:\\Users\\saadsrin\\umich\\ece5831-2024-assignments\\02\\sales\\delivery.py\n",
      "C:\\Users\\saadsrin\\umich\\ece5831-2024-assignments\\02\\sales\\__init__.py\n",
      "C:\\Users\\saadsrin\\umich\\ece5831-2024-assignments\\02\\sales\\order\\order.py\n"
     ]
    }
   ],
   "source": [
    "def list_files(path, extentions=None):\n",
    "    \"\"\" List all files in a directory specified by path\n",
    "    Args:\n",
    "        path - the root directory path\n",
    "        extensions - a iterator of file extensions to include, pass None to get all files.\n",
    "    Returns:\n",
    "        A list of files specified by extensions\n",
    "    \"\"\"\n",
    "    filepaths = []\n",
    "    for root, _, files in os.walk(path):\n",
    "        for file in files:\n",
    "            if extentions is None:\n",
    "                filepaths.append(os.path.join(root, file))\n",
    "            else:\n",
    "                for ext in extentions:\n",
    "                    if file.endswith(ext):\n",
    "                        filepaths.append(os.path.join(root, file))\n",
    "\n",
    "    return filepaths\n",
    "\n",
    "\n",
    "if __name__ == '__main__':\n",
    "    filepaths = list_files(r\"C:\\Users\\saadsrin\\umich\\ece5831-2024-assignments\\02\", ('.py', '.ipynb'))\n",
    "    for filepath in filepaths:\n",
    "        print(filepath)"
   ]
  },
  {
   "cell_type": "markdown",
   "metadata": {},
   "source": [
    "Make list files function more efficient"
   ]
  },
  {
   "cell_type": "code",
   "execution_count": 90,
   "metadata": {},
   "outputs": [
    {
     "name": "stdout",
     "output_type": "stream",
     "text": [
      "C:\\Users\\saadsrin\\umich\\ece5831-2024-assignments\\02\\app.py\n",
      "C:\\Users\\saadsrin\\umich\\ece5831-2024-assignments\\02\\billing.py\n",
      "C:\\Users\\saadsrin\\umich\\ece5831-2024-assignments\\02\\learn-python-2.ipynb\n",
      "C:\\Users\\saadsrin\\umich\\ece5831-2024-assignments\\02\\learn-python-3.ipynb\n",
      "C:\\Users\\saadsrin\\umich\\ece5831-2024-assignments\\02\\numpy-tutorials.ipynb\n",
      "C:\\Users\\saadsrin\\umich\\ece5831-2024-assignments\\02\\pricing.py\n",
      "C:\\Users\\saadsrin\\umich\\ece5831-2024-assignments\\02\\product.py\n",
      "C:\\Users\\saadsrin\\umich\\ece5831-2024-assignments\\02\\python-tutorial-1-10.ipynb\n",
      "C:\\Users\\saadsrin\\umich\\ece5831-2024-assignments\\02\\python-tutorial-11.ipynb\n",
      "C:\\Users\\saadsrin\\umich\\ece5831-2024-assignments\\02\\python-tutorial-12-15.ipynb\n",
      "C:\\Users\\saadsrin\\umich\\ece5831-2024-assignments\\02\\recruitment.py\n",
      "C:\\Users\\saadsrin\\umich\\ece5831-2024-assignments\\02\\sales\\billing.py\n",
      "C:\\Users\\saadsrin\\umich\\ece5831-2024-assignments\\02\\sales\\delivery.py\n",
      "C:\\Users\\saadsrin\\umich\\ece5831-2024-assignments\\02\\sales\\__init__.py\n",
      "C:\\Users\\saadsrin\\umich\\ece5831-2024-assignments\\02\\sales\\order\\order.py\n"
     ]
    }
   ],
   "source": [
    "def list_files(path, extentions=None):\n",
    "    \"\"\" List all files in a directory specified by path\n",
    "    Args:\n",
    "        path - the root directory path\n",
    "        extensions - a iterator of file extensions to include, pass None to get all files.\n",
    "    Returns:\n",
    "        A list of files specified by extensions\n",
    "    \"\"\"\n",
    "    for root, _, files in os.walk(path):\n",
    "        for file in files:\n",
    "            if extentions is None:\n",
    "                yield os.path.join(root, file)\n",
    "            else:\n",
    "                for ext in extentions:\n",
    "                    if file.endswith(ext):\n",
    "                        yield os.path.join(root, file)\n",
    "\n",
    "\n",
    "if __name__ == '__main__':\n",
    "    filepaths = list_files(r\"C:\\Users\\saadsrin\\umich\\ece5831-2024-assignments\\02\", ('.py', '.ipynb'))\n",
    "    for filepath in filepaths:\n",
    "        print(filepath)"
   ]
  },
  {
   "cell_type": "markdown",
   "metadata": {},
   "source": [
    "### Section 15 - Strings"
   ]
  },
  {
   "cell_type": "markdown",
   "metadata": {},
   "source": [
    "#### F-strings"
   ]
  },
  {
   "cell_type": "code",
   "execution_count": 91,
   "metadata": {},
   "outputs": [
    {
     "name": "stdout",
     "output_type": "stream",
     "text": [
      "Hello, Saadhana!\n"
     ]
    }
   ],
   "source": [
    "name = 'Saadhana'\n",
    "s = f'Hello, {name}!'\n",
    "print(s)"
   ]
  },
  {
   "cell_type": "code",
   "execution_count": 92,
   "metadata": {},
   "outputs": [
    {
     "name": "stdout",
     "output_type": "stream",
     "text": [
      "Hello, SAADHANA!\n"
     ]
    }
   ],
   "source": [
    "name = 'Saadhana'\n",
    "s = F'Hello, {name.upper()}!'\n",
    "print(s)"
   ]
  },
  {
   "cell_type": "code",
   "execution_count": 93,
   "metadata": {},
   "outputs": [
    {
     "name": "stdout",
     "output_type": "stream",
     "text": [
      "Hello, Saadhana Srinath!\n"
     ]
    }
   ],
   "source": [
    "first_name = 'Saadhana'\n",
    "last_name = 'Srinath'\n",
    "s = F'Hello, {first_name} {last_name}!'\n",
    "print(s)"
   ]
  },
  {
   "cell_type": "code",
   "execution_count": 94,
   "metadata": {},
   "outputs": [
    {
     "name": "stdout",
     "output_type": "stream",
     "text": [
      "Hello, Saadhana Srinath!\n"
     ]
    }
   ],
   "source": [
    "first_name = 'Saadhana'\n",
    "last_name = 'Srinath'\n",
    "s = F'Hello, {\" \".join((first_name, last_name))}!'\n",
    "\n",
    "print(s)"
   ]
  },
  {
   "cell_type": "markdown",
   "metadata": {},
   "source": [
    "Multiline f-strings"
   ]
  },
  {
   "cell_type": "code",
   "execution_count": 95,
   "metadata": {},
   "outputs": [
    {
     "name": "stdout",
     "output_type": "stream",
     "text": [
      "Hello John. You're learning Python at PythonTutorial.net.\n"
     ]
    }
   ],
   "source": [
    "name = 'John'\n",
    "website = 'PythonTutorial.net'\n",
    "\n",
    "message = (\n",
    "    f'Hello {name}. '\n",
    "    f\"You're learning Python at {website}.\" \n",
    ")\n",
    "\n",
    "print(message)"
   ]
  },
  {
   "cell_type": "code",
   "execution_count": 96,
   "metadata": {},
   "outputs": [
    {
     "name": "stdout",
     "output_type": "stream",
     "text": [
      "Hello John. You're learning Python at PythonTutorial.net.\n"
     ]
    }
   ],
   "source": [
    "name = 'John'\n",
    "website = 'PythonTutorial.net'\n",
    "\n",
    "message = f'Hello {name}. ' \\\n",
    "          f\"You're learning Python at {website}.\" \n",
    "\n",
    "print(message)"
   ]
  },
  {
   "cell_type": "code",
   "execution_count": 97,
   "metadata": {},
   "outputs": [
    {
     "name": "stdout",
     "output_type": "stream",
     "text": [
      "Hello John.\n",
      "You're learning Python at PythonTutorial.net.\n"
     ]
    }
   ],
   "source": [
    "name = 'John'\n",
    "website = 'PythonTutorial.net'\n",
    "\n",
    "message = f\"\"\"Hello {name}.\n",
    "You're learning Python at {website}.\"\"\"\n",
    "\n",
    "print(message)"
   ]
  },
  {
   "cell_type": "markdown",
   "metadata": {},
   "source": [
    "Curly braces"
   ]
  },
  {
   "cell_type": "code",
   "execution_count": 98,
   "metadata": {},
   "outputs": [
    {
     "name": "stdout",
     "output_type": "stream",
     "text": [
      "{1+2}\n"
     ]
    }
   ],
   "source": [
    "s = f'{{1+2}}'\n",
    "print(s)"
   ]
  },
  {
   "cell_type": "code",
   "execution_count": 99,
   "metadata": {},
   "outputs": [
    {
     "name": "stdout",
     "output_type": "stream",
     "text": [
      "{3}\n"
     ]
    }
   ],
   "source": [
    "s = f'{{{1+2}}}'\n",
    "print(s)"
   ]
  },
  {
   "cell_type": "code",
   "execution_count": 100,
   "metadata": {},
   "outputs": [
    {
     "name": "stdout",
     "output_type": "stream",
     "text": [
      "{{1+2}}\n"
     ]
    }
   ],
   "source": [
    "s = f'{{{{1+2}}}}'\n",
    "print(s)"
   ]
  },
  {
   "cell_type": "markdown",
   "metadata": {},
   "source": [
    "evaluation order of expressions in Python f-strings"
   ]
  },
  {
   "cell_type": "code",
   "execution_count": 101,
   "metadata": {},
   "outputs": [
    {
     "name": "stdout",
     "output_type": "stream",
     "text": [
      "1,3\n"
     ]
    }
   ],
   "source": [
    "def inc(numbers, value):\n",
    "    numbers[0] += value\n",
    "    return numbers[0]\n",
    "\n",
    "numbers = [0]\n",
    "\n",
    "s = f'{inc(numbers,1)},{inc(numbers,2)}'\n",
    "print(s)"
   ]
  },
  {
   "cell_type": "markdown",
   "metadata": {},
   "source": [
    "Format numbers using f-strings"
   ]
  },
  {
   "cell_type": "code",
   "execution_count": 102,
   "metadata": {},
   "outputs": [
    {
     "name": "stdout",
     "output_type": "stream",
     "text": [
      "10\n"
     ]
    }
   ],
   "source": [
    "number = 16\n",
    "s = f'{number:x}'\n",
    "print(s)  # 10"
   ]
  },
  {
   "cell_type": "code",
   "execution_count": 103,
   "metadata": {},
   "outputs": [
    {
     "name": "stdout",
     "output_type": "stream",
     "text": [
      "1.000000e-02\n"
     ]
    }
   ],
   "source": [
    "number = 0.01\n",
    "s = f'{number:e}'\n",
    "print(s)  # 1.000000e-02"
   ]
  },
  {
   "cell_type": "code",
   "execution_count": 104,
   "metadata": {},
   "outputs": [
    {
     "name": "stdout",
     "output_type": "stream",
     "text": [
      " 00200\n"
     ]
    }
   ],
   "source": [
    "number = 200\n",
    "s = f'{number: 06}'\n",
    "print(s)  # 00200"
   ]
  },
  {
   "cell_type": "code",
   "execution_count": 105,
   "metadata": {},
   "outputs": [
    {
     "name": "stdout",
     "output_type": "stream",
     "text": [
      " 9.99\n"
     ]
    }
   ],
   "source": [
    "number = 9.98567\n",
    "s = f'{number: .2f}'\n",
    "print(s)  # 9.99"
   ]
  },
  {
   "cell_type": "code",
   "execution_count": 106,
   "metadata": {},
   "outputs": [
    {
     "name": "stdout",
     "output_type": "stream",
     "text": [
      " 400,000,000,000\n"
     ]
    }
   ],
   "source": [
    "number = 400000000000\n",
    "s = f'{number: ,}'  # also can use _\n",
    "print(s)  # 400,000,000,000"
   ]
  },
  {
   "cell_type": "code",
   "execution_count": 107,
   "metadata": {},
   "outputs": [
    {
     "name": "stdout",
     "output_type": "stream",
     "text": [
      " 12.59%\n",
      " 12.6%\n"
     ]
    }
   ],
   "source": [
    "number = 0.1259\n",
    "s = f'{number: .2%}'\n",
    "print(s)  # 12.59%\n",
    "\n",
    "s = f'{number: .1%}'\n",
    "print(s)  # 12.5%"
   ]
  },
  {
   "cell_type": "markdown",
   "metadata": {},
   "source": [
    "#### Raw Strings"
   ]
  },
  {
   "cell_type": "code",
   "execution_count": 108,
   "metadata": {},
   "outputs": [
    {
     "name": "stdout",
     "output_type": "stream",
     "text": [
      "lang\tver\n",
      "Python\t3\n"
     ]
    }
   ],
   "source": [
    "s = 'lang\\tver\\nPython\\t3'\n",
    "print(s)"
   ]
  },
  {
   "cell_type": "code",
   "execution_count": 109,
   "metadata": {},
   "outputs": [
    {
     "name": "stdout",
     "output_type": "stream",
     "text": [
      "lang\\tver\\nPython\\t3\n"
     ]
    }
   ],
   "source": [
    "s = r'lang\\tver\\nPython\\t3'\n",
    "print(s)"
   ]
  },
  {
   "cell_type": "code",
   "execution_count": 110,
   "metadata": {},
   "outputs": [
    {
     "name": "stdout",
     "output_type": "stream",
     "text": [
      "True\n"
     ]
    }
   ],
   "source": [
    "s1 = r'lang\\tver\\nPython\\t3'\n",
    "s2 = 'lang\\\\tver\\\\nPython\\\\t3'\n",
    "\n",
    "print(s1 == s2) # True"
   ]
  },
  {
   "cell_type": "code",
   "execution_count": 111,
   "metadata": {},
   "outputs": [
    {
     "name": "stdout",
     "output_type": "stream",
     "text": [
      "1\n"
     ]
    }
   ],
   "source": [
    "s = '\\n'\n",
    "print(len(s)) # 1"
   ]
  },
  {
   "cell_type": "code",
   "execution_count": 112,
   "metadata": {},
   "outputs": [
    {
     "name": "stdout",
     "output_type": "stream",
     "text": [
      "2\n"
     ]
    }
   ],
   "source": [
    "s = r'\\n'\n",
    "print(len(s)) # 2"
   ]
  },
  {
   "cell_type": "markdown",
   "metadata": {},
   "source": [
    "Use raw strings to handle file path on Windows"
   ]
  },
  {
   "cell_type": "code",
   "execution_count": 113,
   "metadata": {},
   "outputs": [
    {
     "ename": "SyntaxError",
     "evalue": "(unicode error) 'unicodeescape' codec can't decode bytes in position 2-3: truncated \\uXXXX escape (4204228918.py, line 1)",
     "output_type": "error",
     "traceback": [
      "\u001b[1;36m  Cell \u001b[1;32mIn[113], line 1\u001b[1;36m\u001b[0m\n\u001b[1;33m    dir_path = 'c:\\user\\tasks\\new'\u001b[0m\n\u001b[1;37m               ^\u001b[0m\n\u001b[1;31mSyntaxError\u001b[0m\u001b[1;31m:\u001b[0m (unicode error) 'unicodeescape' codec can't decode bytes in position 2-3: truncated \\uXXXX escape\n"
     ]
    }
   ],
   "source": [
    "dir_path = 'c:\\user\\tasks\\new'"
   ]
  },
  {
   "cell_type": "code",
   "execution_count": 114,
   "metadata": {},
   "outputs": [
    {
     "name": "stdout",
     "output_type": "stream",
     "text": [
      "c:\\user\tasks\n",
      "ew\n"
     ]
    }
   ],
   "source": [
    "dir_path = 'c:\\\\user\\tasks\\new'\n",
    "print(dir_path)"
   ]
  },
  {
   "cell_type": "code",
   "execution_count": 115,
   "metadata": {},
   "outputs": [
    {
     "name": "stdout",
     "output_type": "stream",
     "text": [
      "c:\\user\\tasks\\new\n"
     ]
    }
   ],
   "source": [
    "dir_path = r'c:\\user\\tasks\\new'\n",
    "print(dir_path)"
   ]
  },
  {
   "cell_type": "markdown",
   "metadata": {},
   "source": [
    "Convert a regular string into a raw string"
   ]
  },
  {
   "cell_type": "code",
   "execution_count": 116,
   "metadata": {},
   "outputs": [
    {
     "name": "stdout",
     "output_type": "stream",
     "text": [
      "'\\n'\n"
     ]
    }
   ],
   "source": [
    "s = '\\n'\n",
    "raw_string = repr(s)\n",
    "\n",
    "print(raw_string)"
   ]
  },
  {
   "cell_type": "code",
   "execution_count": 117,
   "metadata": {},
   "outputs": [
    {
     "name": "stdout",
     "output_type": "stream",
     "text": [
      "\\n\n"
     ]
    }
   ],
   "source": [
    "s = '\\n'\n",
    "raw_string = repr(s)[1:-1]\n",
    "print(raw_string)"
   ]
  },
  {
   "cell_type": "markdown",
   "metadata": {},
   "source": [
    "#### Backslash"
   ]
  },
  {
   "cell_type": "code",
   "execution_count": 118,
   "metadata": {},
   "outputs": [
    {
     "name": "stdout",
     "output_type": "stream",
     "text": [
      "Hello,\n",
      " World\n"
     ]
    }
   ],
   "source": [
    "print('Hello,\\n World')"
   ]
  },
  {
   "cell_type": "code",
   "execution_count": 119,
   "metadata": {},
   "outputs": [
    {
     "name": "stdout",
     "output_type": "stream",
     "text": [
      "1\n"
     ]
    }
   ],
   "source": [
    "s = '\\n'\n",
    "print(len(s)) # 1"
   ]
  },
  {
   "cell_type": "code",
   "execution_count": 120,
   "metadata": {},
   "outputs": [
    {
     "name": "stdout",
     "output_type": "stream",
     "text": [
      "\"Python's awesome\" She said\n"
     ]
    }
   ],
   "source": [
    "s = '\"Python\\'s awesome\" She said'\n",
    "print(s)"
   ]
  },
  {
   "cell_type": "markdown",
   "metadata": {},
   "source": [
    "Backslash in f-strings"
   ]
  },
  {
   "cell_type": "code",
   "execution_count": 122,
   "metadata": {},
   "outputs": [
    {
     "name": "stdout",
     "output_type": "stream",
     "text": [
      "The RGB colors are:\n",
      "red\n",
      "green\n",
      "blue\n"
     ]
    }
   ],
   "source": [
    "colors = ['red','green','blue']\n",
    "rgb = '\\n'.join(colors)\n",
    "s = f\"The RGB colors are:\\n{rgb}\"\n",
    "print(s)"
   ]
  },
  {
   "cell_type": "markdown",
   "metadata": {},
   "source": [
    "Backslash in raw strings"
   ]
  },
  {
   "cell_type": "code",
   "execution_count": 123,
   "metadata": {},
   "outputs": [
    {
     "name": "stdout",
     "output_type": "stream",
     "text": [
      "\\n\n"
     ]
    }
   ],
   "source": [
    "s = r'\\n'\n",
    "print(s)"
   ]
  }
 ],
 "metadata": {
  "kernelspec": {
   "display_name": "Python 3",
   "language": "python",
   "name": "python3"
  },
  "language_info": {
   "codemirror_mode": {
    "name": "ipython",
    "version": 3
   },
   "file_extension": ".py",
   "mimetype": "text/x-python",
   "name": "python",
   "nbconvert_exporter": "python",
   "pygments_lexer": "ipython3",
   "version": "3.12.6"
  }
 },
 "nbformat": 4,
 "nbformat_minor": 2
}
