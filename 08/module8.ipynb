{
 "cells": [
  {
   "cell_type": "markdown",
   "metadata": {},
   "source": [
    "## Training, Saving, and Testing the LeNet Model on Handwritten Digits\n",
    "\n",
    "This notebook contains the following:\n",
    "1. Train a LeNet model on the MNIST dataset.\n",
    "2. Save the trained model.\n",
    "3. Load the model back into memory.\n",
    "4. Test the model on custom handwritten digit images.\n",
    "\n",
    "---"
   ]
  },
  {
   "cell_type": "markdown",
   "metadata": {},
   "source": [
    "#### 1. Train the LeNet Model and Save It\n",
    "Import the necessary libraries and create an instance of the `LeNet` class.\n",
    "The model is trained on the MNIST dataset."
   ]
  },
  {
   "cell_type": "code",
   "execution_count": 1,
   "metadata": {},
   "outputs": [
    {
     "name": "stdout",
     "output_type": "stream",
     "text": [
      "Epoch 1/20\n",
      "1875/1875 [==============================] - 15s 8ms/step - loss: 0.7230 - accuracy: 0.7672\n",
      "Epoch 2/20\n",
      "1875/1875 [==============================] - 14s 8ms/step - loss: 0.1822 - accuracy: 0.9442\n",
      "Epoch 3/20\n",
      "1875/1875 [==============================] - 14s 8ms/step - loss: 0.1259 - accuracy: 0.9608\n",
      "Epoch 4/20\n",
      "1875/1875 [==============================] - 14s 8ms/step - loss: 0.0975 - accuracy: 0.9696\n",
      "Epoch 5/20\n",
      "1875/1875 [==============================] - 14s 8ms/step - loss: 0.0792 - accuracy: 0.9757\n",
      "Epoch 6/20\n",
      "1875/1875 [==============================] - 14s 8ms/step - loss: 0.0674 - accuracy: 0.9791\n",
      "Epoch 7/20\n",
      "1875/1875 [==============================] - 14s 8ms/step - loss: 0.0564 - accuracy: 0.9824\n",
      "Epoch 8/20\n",
      "1875/1875 [==============================] - 14s 7ms/step - loss: 0.0491 - accuracy: 0.9851\n",
      "Epoch 9/20\n",
      "1875/1875 [==============================] - 14s 8ms/step - loss: 0.0436 - accuracy: 0.9865\n",
      "Epoch 10/20\n",
      "1875/1875 [==============================] - 14s 8ms/step - loss: 0.0396 - accuracy: 0.9878\n",
      "Epoch 11/20\n",
      "1875/1875 [==============================] - 14s 8ms/step - loss: 0.0348 - accuracy: 0.9892\n",
      "Epoch 12/20\n",
      "1875/1875 [==============================] - 14s 8ms/step - loss: 0.0302 - accuracy: 0.9904\n",
      "Epoch 13/20\n",
      "1875/1875 [==============================] - 14s 8ms/step - loss: 0.0278 - accuracy: 0.9915\n",
      "Epoch 14/20\n",
      "1875/1875 [==============================] - 14s 8ms/step - loss: 0.0256 - accuracy: 0.9921\n",
      "Epoch 15/20\n",
      "1875/1875 [==============================] - 14s 8ms/step - loss: 0.0225 - accuracy: 0.9930\n",
      "Epoch 16/20\n",
      "1875/1875 [==============================] - 14s 8ms/step - loss: 0.0203 - accuracy: 0.9937\n",
      "Epoch 17/20\n",
      "1875/1875 [==============================] - 16s 9ms/step - loss: 0.0183 - accuracy: 0.9942\n",
      "Epoch 18/20\n",
      "1875/1875 [==============================] - 14s 8ms/step - loss: 0.0163 - accuracy: 0.9949\n",
      "Epoch 19/20\n",
      "1875/1875 [==============================] - 14s 8ms/step - loss: 0.0149 - accuracy: 0.9948\n",
      "Epoch 20/20\n",
      "1875/1875 [==============================] - 14s 8ms/step - loss: 0.0133 - accuracy: 0.9956\n",
      "Model saved to appikonda_cnn_model.keras\n"
     ]
    }
   ],
   "source": [
    "from le_net import LeNet\n",
    "\n",
    "# Initialize LeNet with desired batch size and epochs\n",
    "lenet = LeNet(batch_size=32, epochs=20)\n",
    "\n",
    "# Train the model\n",
    "lenet.train()\n",
    "\n",
    "# Save the model\n",
    "lenet.save('appikonda_cnn_model.keras')"
   ]
  },
  {
   "cell_type": "markdown",
   "metadata": {},
   "source": [
    "#### 2. Load the Trained Model and our Custom Dataset"
   ]
  },
  {
   "cell_type": "code",
   "execution_count": 2,
   "metadata": {},
   "outputs": [
    {
     "name": "stdout",
     "output_type": "stream",
     "text": [
      "Model loaded from appikonda_cnn_model.keras\n"
     ]
    }
   ],
   "source": [
    "# Initialize a new LeNet instance\n",
    "lenet = LeNet()\n",
    "\n",
    "# Load the previously saved model\n",
    "lenet.load('appikonda_cnn_model.keras')"
   ]
  },
  {
   "cell_type": "code",
   "execution_count": 3,
   "metadata": {},
   "outputs": [],
   "source": [
    "import cv2\n",
    "\n",
    "# Dataset path containing the custom handwritten digit images\n",
    "dataset_path = \"C:/Users/saadsrin/umich/ece5831-2024-assignments/05/3/Custom_MNIST_Samples\"\n",
    "\n",
    "# Function to load and preprocess an image\n",
    "def load_image(image_path):\n",
    "    img = cv2.imread(image_path, cv2.IMREAD_GRAYSCALE)\n",
    "    img = cv2.resize(img, (28, 28))  # Resize to match input size\n",
    "    img = img / 255.0  # Normalize\n",
    "    return img"
   ]
  },
  {
   "cell_type": "markdown",
   "metadata": {},
   "source": [
    "#### 3. Test the Trained Model on our Custom Dataset"
   ]
  },
  {
   "cell_type": "code",
   "execution_count": 4,
   "metadata": {},
   "outputs": [],
   "source": [
    "import os\n",
    "import glob"
   ]
  },
  {
   "cell_type": "code",
   "execution_count": null,
   "metadata": {},
   "outputs": [
    {
     "name": "stdout",
     "output_type": "stream",
     "text": [
      "1/1 [==============================] - 0s 21ms/step\n",
      "Success: Image 0_0.png for digit 0 is recognized as 0.\n",
      "1/1 [==============================] - 0s 18ms/step\n",
      "Fail: Image 0_1.png for digit 0 but the inference result is 0.\n",
      "1/1 [==============================] - 0s 18ms/step\n",
      "Success: Image 0_2.png for digit 0 is recognized as 0.\n",
      "1/1 [==============================] - 0s 18ms/step\n",
      "Success: Image 0_3.png for digit 0 is recognized as 0.\n",
      "1/1 [==============================] - 0s 19ms/step\n",
      "Fail: Image 0_4.png for digit 0 but the inference result is 7.\n",
      "1/1 [==============================] - 0s 19ms/step\n",
      "Success: Image 1_0.png for digit 1 is recognized as 1.\n",
      "1/1 [==============================] - 0s 17ms/step\n",
      "Fail: Image 1_1.png for digit 1 but the inference result is 1.\n",
      "1/1 [==============================] - 0s 18ms/step\n",
      "Fail: Image 1_2.png for digit 1 but the inference result is 9.\n",
      "1/1 [==============================] - 0s 18ms/step\n",
      "Success: Image 1_3.png for digit 1 is recognized as 1.\n",
      "1/1 [==============================] - 0s 18ms/step\n",
      "Fail: Image 1_4.png for digit 1 but the inference result is 8.\n",
      "1/1 [==============================] - 0s 17ms/step\n",
      "Success: Image 2_0.png for digit 2 is recognized as 2.\n",
      "1/1 [==============================] - 0s 18ms/step\n",
      "Fail: Image 2_1.png for digit 2 but the inference result is 2.\n",
      "1/1 [==============================] - 0s 18ms/step\n",
      "Success: Image 2_2.png for digit 2 is recognized as 2.\n",
      "1/1 [==============================] - 0s 17ms/step\n",
      "Success: Image 2_3.png for digit 2 is recognized as 2.\n",
      "1/1 [==============================] - 0s 18ms/step\n",
      "Fail: Image 2_4.png for digit 2 but the inference result is 9.\n",
      "1/1 [==============================] - 0s 19ms/step\n",
      "Fail: Image 3_0.png for digit 3 but the inference result is 5.\n",
      "1/1 [==============================] - 0s 20ms/step\n",
      "Success: Image 3_1.png for digit 3 is recognized as 3.\n",
      "1/1 [==============================] - 0s 17ms/step\n",
      "Fail: Image 3_2.png for digit 3 but the inference result is 9.\n",
      "1/1 [==============================] - 0s 20ms/step\n",
      "Fail: Image 3_3.png for digit 3 but the inference result is 8.\n",
      "1/1 [==============================] - 0s 18ms/step\n",
      "Fail: Image 3_4.png for digit 3 but the inference result is 1.\n",
      "1/1 [==============================] - 0s 16ms/step\n",
      "Fail: Image 4_0.png for digit 4 but the inference result is 0.\n",
      "1/1 [==============================] - 0s 18ms/step\n",
      "Success: Image 4_1.png for digit 4 is recognized as 4.\n",
      "1/1 [==============================] - 0s 18ms/step\n",
      "Fail: Image 4_2.png for digit 4 but the inference result is 6.\n",
      "1/1 [==============================] - 0s 18ms/step\n",
      "Success: Image 4_3.png for digit 4 is recognized as 4.\n",
      "1/1 [==============================] - 0s 18ms/step\n",
      "Success: Image 4_4.png for digit 4 is recognized as 4.\n",
      "1/1 [==============================] - 0s 17ms/step\n",
      "Fail: Image 5_0.png for digit 5 but the inference result is 5.\n",
      "1/1 [==============================] - 0s 22ms/step\n",
      "Success: Image 5_1.png for digit 5 is recognized as 5.\n",
      "1/1 [==============================] - 0s 17ms/step\n",
      "Fail: Image 5_2.png for digit 5 but the inference result is 9.\n",
      "1/1 [==============================] - 0s 18ms/step\n",
      "Success: Image 5_3.png for digit 5 is recognized as 5.\n",
      "1/1 [==============================] - 0s 22ms/step\n",
      "Fail: Image 5_4.png for digit 5 but the inference result is 5.\n",
      "1/1 [==============================] - 0s 19ms/step\n",
      "Success: Image 6_0.png for digit 6 is recognized as 6.\n",
      "1/1 [==============================] - 0s 18ms/step\n",
      "Success: Image 6_1.png for digit 6 is recognized as 6.\n",
      "1/1 [==============================] - 0s 18ms/step\n",
      "Fail: Image 6_2.png for digit 6 but the inference result is 2.\n",
      "1/1 [==============================] - 0s 22ms/step\n",
      "Success: Image 6_3.png for digit 6 is recognized as 6.\n",
      "1/1 [==============================] - 0s 21ms/step\n",
      "Fail: Image 6_4.png for digit 6 but the inference result is 8.\n",
      "1/1 [==============================] - 0s 22ms/step\n",
      "Success: Image 7_0.png for digit 7 is recognized as 7.\n",
      "1/1 [==============================] - 0s 20ms/step\n",
      "Success: Image 7_1.png for digit 7 is recognized as 7.\n",
      "1/1 [==============================] - 0s 22ms/step\n",
      "Fail: Image 7_2.png for digit 7 but the inference result is 8.\n",
      "1/1 [==============================] - 0s 20ms/step\n",
      "Success: Image 7_3.png for digit 7 is recognized as 7.\n",
      "1/1 [==============================] - 0s 20ms/step\n",
      "Success: Image 7_4.png for digit 7 is recognized as 7.\n",
      "1/1 [==============================] - 0s 17ms/step\n",
      "Success: Image 8_0.png for digit 8 is recognized as 8.\n",
      "1/1 [==============================] - 0s 16ms/step\n",
      "Success: Image 8_1.png for digit 8 is recognized as 8.\n",
      "1/1 [==============================] - 0s 17ms/step\n",
      "Success: Image 8_2.png for digit 8 is recognized as 8.\n",
      "1/1 [==============================] - 0s 20ms/step\n",
      "Success: Image 8_3.png for digit 8 is recognized as 8.\n",
      "1/1 [==============================] - 0s 21ms/step\n",
      "Success: Image 8_4.png for digit 8 is recognized as 8.\n",
      "1/1 [==============================] - 0s 17ms/step\n",
      "Fail: Image 9_0.png for digit 9 but the inference result is 5.\n",
      "1/1 [==============================] - 0s 17ms/step\n",
      "Success: Image 9_1.png for digit 9 is recognized as 9.\n",
      "1/1 [==============================] - 0s 17ms/step\n",
      "Fail: Image 9_2.png for digit 9 but the inference result is 4.\n",
      "1/1 [==============================] - 0s 17ms/step\n",
      "Fail: Image 9_3.png for digit 9 but the inference result is 5.\n",
      "1/1 [==============================] - 0s 16ms/step\n",
      "Fail: Image 9_4.png for digit 9 but the inference result is 4.\n"
     ]
    }
   ],
   "source": [
    "# Get all folders in the dataset (each folder corresponds to a digit label)\n",
    "folders = glob.glob(os.path.join(dataset_path, \"*\"))\n",
    "\n",
    "# Iterate over each folder (which corresponds to a digit label)\n",
    "for digit_folder in folders:\n",
    "    digit_label = os.path.basename(os.path.normpath(digit_folder))[-1]  # Extract digit label from folder name\n",
    "    \n",
    "    # Iterate over all images in the folder\n",
    "    for img_file in glob.glob(os.path.join(digit_folder, \"*.png\")):        \n",
    "        # Load and preprocess the image\n",
    "        img = load_image(img_file)\n",
    "        \n",
    "        # Get the image file name (e.g., \"1_3.png\")\n",
    "        image_file_name = os.path.basename(img_file)\n",
    "        \n",
    "        # Make prediction using the trained model\n",
    "        prediction = lenet.predict([img])  # Predict for the current image\n",
    "        predicted_label = prediction[0] if prediction is not None else None # Get the predicted label\n",
    "                     \n",
    "        # Print success/failure message\n",
    "        if predicted_label == int(digit_label):\n",
    "            print(f\"Success: Image {image_file_name} for digit {digit_label} is recognized as {predicted_label}.\")\n",
    "        else:\n",
    "            print(f\"Fail: Image {image_file_name} for digit {digit_label} but the inference result is {predicted_label}.\")"
   ]
  },
  {
   "cell_type": "code",
   "execution_count": null,
   "metadata": {},
   "outputs": [],
   "source": []
  }
 ],
 "metadata": {
  "kernelspec": {
   "display_name": "teachable",
   "language": "python",
   "name": "python3"
  },
  "language_info": {
   "codemirror_mode": {
    "name": "ipython",
    "version": 3
   },
   "file_extension": ".py",
   "mimetype": "text/x-python",
   "name": "python",
   "nbconvert_exporter": "python",
   "pygments_lexer": "ipython3",
   "version": "3.11.7"
  }
 },
 "nbformat": 4,
 "nbformat_minor": 2
}
